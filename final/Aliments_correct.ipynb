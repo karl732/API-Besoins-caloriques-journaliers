{
 "cells": [
  {
   "cell_type": "code",
   "execution_count": 4,
   "metadata": {
    "collapsed": true
   },
   "outputs": [],
   "source": [
    "import pandas as pd\n",
    "import numpy as np\n",
    "np.set_printoptions(precision=1,suppress=True)"
   ]
  },
  {
   "attachments": {},
   "cell_type": "markdown",
   "metadata": {},
   "source": [
    "# Sujet 02 : Régime Alimentaire\n",
    "\n",
    "On utilisera les données contenues dans le fichier `Aliments.csv` dans la suite.\n",
    "\n",
    "1. Les besoins  journaliers de Marie sont les suivants :\n",
    "- Kcal : 2000 (F)\n",
    "- Protéines : 75g (F)\n",
    "- Glucides : 225g (F)\n",
    "- Lipides : 90g (F)\n",
    "- Fer : 9mg (F) \n",
    "- Calcium : 0.8g (F)\n",
    "- Fibre : 45g (F)\n",
    "\n",
    "**Comment doit-elle satisfaire ses besoins si elle veut minimiser son budget?**\n",
    "\n",
    "2. Comment procéder si elle ne veut pas dépasser de plus de 10% les apports journaliers?"
   ]
  },
  {
   "attachments": {},
   "cell_type": "markdown",
   "metadata": {},
   "source": [
    "On considère que les régimes ne doivent pas apporter moins que ces quantités.\n",
    "\n",
    "1) Proposer le régime journalier le moins cher pour les hommes et pour les femmes.\n",
    "\n",
    "2) Même question en considérant que les différents critéres ne doivent pas dépasser 1.5 fois la dose recommandé.\n",
    "\n",
    "3) Dans le but d 'un régime, on souhaite calculer les régimes minimisant les calories sans s'opposer aux autres contraintes. Le faire sans contraintes de budget (H et F) puis avec une contrainte de budget de 20€ par jour. \n",
    "\n",
    "4) Faire une étude détaillé  en faisant évoluer le budget."
   ]
  },
  {
   "cell_type": "markdown",
   "metadata": {},
   "source": [
    "On commence par charger le fichier de donnée dans un data frame (avec panda)"
   ]
  },
  {
   "cell_type": "code",
   "execution_count": 9,
   "metadata": {
    "collapsed": true
   },
   "outputs": [],
   "source": [
    "Al=pd.read_csv('../Aliments.csv',sep=';',index_col=0)"
   ]
  },
  {
   "cell_type": "code",
   "execution_count": 10,
   "metadata": {},
   "outputs": [
    {
     "data": {
      "text/html": [
       "<div>\n",
       "<style scoped>\n",
       "    .dataframe tbody tr th:only-of-type {\n",
       "        vertical-align: middle;\n",
       "    }\n",
       "\n",
       "    .dataframe tbody tr th {\n",
       "        vertical-align: top;\n",
       "    }\n",
       "\n",
       "    .dataframe thead th {\n",
       "        text-align: right;\n",
       "    }\n",
       "</style>\n",
       "<table border=\"1\" class=\"dataframe\">\n",
       "  <thead>\n",
       "    <tr style=\"text-align: right;\">\n",
       "      <th></th>\n",
       "      <th>Protéines (en g)</th>\n",
       "      <th>Lipides (en g)</th>\n",
       "      <th>Glucides (en g)</th>\n",
       "      <th>Energie (kcal)</th>\n",
       "      <th>Fer (mg)</th>\n",
       "      <th>Calcium (mg)</th>\n",
       "      <th>Fibres (en g)</th>\n",
       "      <th>Prix €/100g</th>\n",
       "    </tr>\n",
       "    <tr>\n",
       "      <th>Produit (100g)</th>\n",
       "      <th></th>\n",
       "      <th></th>\n",
       "      <th></th>\n",
       "      <th></th>\n",
       "      <th></th>\n",
       "      <th></th>\n",
       "      <th></th>\n",
       "      <th></th>\n",
       "    </tr>\n",
       "  </thead>\n",
       "  <tbody>\n",
       "    <tr>\n",
       "      <th>Lait – Emmental</th>\n",
       "      <td>26.93</td>\n",
       "      <td>27.80</td>\n",
       "      <td>5.38</td>\n",
       "      <td>380</td>\n",
       "      <td>0.20</td>\n",
       "      <td>791.0</td>\n",
       "      <td>0.0</td>\n",
       "      <td>1.30</td>\n",
       "    </tr>\n",
       "    <tr>\n",
       "      <th>Lait – crème fraîche</th>\n",
       "      <td>20.90</td>\n",
       "      <td>35.00</td>\n",
       "      <td>2.84</td>\n",
       "      <td>328</td>\n",
       "      <td>0.03</td>\n",
       "      <td>66.3</td>\n",
       "      <td>0.0</td>\n",
       "      <td>0.84</td>\n",
       "    </tr>\n",
       "    <tr>\n",
       "      <th>Lait – Petit-suisse</th>\n",
       "      <td>9.40</td>\n",
       "      <td>9.45</td>\n",
       "      <td>3.30</td>\n",
       "      <td>136</td>\n",
       "      <td>0.20</td>\n",
       "      <td>112.0</td>\n",
       "      <td>0.0</td>\n",
       "      <td>0.44</td>\n",
       "    </tr>\n",
       "    <tr>\n",
       "      <th>Lait – Lait entier (vache)</th>\n",
       "      <td>3.15</td>\n",
       "      <td>3.25</td>\n",
       "      <td>4.80</td>\n",
       "      <td>61</td>\n",
       "      <td>0.30</td>\n",
       "      <td>113.0</td>\n",
       "      <td>0.0</td>\n",
       "      <td>0.28</td>\n",
       "    </tr>\n",
       "    <tr>\n",
       "      <th>Lait – Lait entier  (chèvre)</th>\n",
       "      <td>3.56</td>\n",
       "      <td>4.14</td>\n",
       "      <td>4.45</td>\n",
       "      <td>69</td>\n",
       "      <td>0.05</td>\n",
       "      <td>134.0</td>\n",
       "      <td>0.0</td>\n",
       "      <td>0.70</td>\n",
       "    </tr>\n",
       "  </tbody>\n",
       "</table>\n",
       "</div>"
      ],
      "text/plain": [
       "                              Protéines (en g)  Lipides (en g)  \\\n",
       "Produit (100g)                                                   \n",
       "Lait – Emmental                          26.93           27.80   \n",
       "Lait – crème fraîche                     20.90           35.00   \n",
       "Lait – Petit-suisse                       9.40            9.45   \n",
       "Lait – Lait entier (vache)                3.15            3.25   \n",
       "Lait – Lait entier  (chèvre)              3.56            4.14   \n",
       "\n",
       "                              Glucides (en g)  Energie (kcal)  Fer (mg)  \\\n",
       "Produit (100g)                                                            \n",
       "Lait – Emmental                          5.38             380      0.20   \n",
       "Lait – crème fraîche                     2.84             328      0.03   \n",
       "Lait – Petit-suisse                      3.30             136      0.20   \n",
       "Lait – Lait entier (vache)               4.80              61      0.30   \n",
       "Lait – Lait entier  (chèvre)             4.45              69      0.05   \n",
       "\n",
       "                              Calcium (mg)  Fibres (en g)  Prix €/100g  \n",
       "Produit (100g)                                                          \n",
       "Lait – Emmental                      791.0            0.0         1.30  \n",
       "Lait – crème fraîche                  66.3            0.0         0.84  \n",
       "Lait – Petit-suisse                  112.0            0.0         0.44  \n",
       "Lait – Lait entier (vache)           113.0            0.0         0.28  \n",
       "Lait – Lait entier  (chèvre)         134.0            0.0         0.70  "
      ]
     },
     "execution_count": 10,
     "metadata": {},
     "output_type": "execute_result"
    }
   ],
   "source": [
    "Al.head()"
   ]
  },
  {
   "cell_type": "markdown",
   "metadata": {},
   "source": [
    "# Question 1"
   ]
  },
  {
   "cell_type": "markdown",
   "metadata": {},
   "source": [
    "a) Détermination des matrices de travail."
   ]
  },
  {
   "cell_type": "code",
   "execution_count": 28,
   "metadata": {
    "collapsed": true
   },
   "outputs": [],
   "source": [
    "A=np.array(Al).T\n",
    "coeff=A[:-1] ## matrice des coefficients\n",
    "z_ori=A[-1]### coefficients de la fonction de coût (prix)\n",
    "betaF=np.array([75,90,225,2000,9,800,45]) ## second membre pour les femmes\n",
    "# 2000kcal, 75g prot, 225g glu, 90g lip, 9mg fer, 800mg calc, 45g fibre"
   ]
  },
  {
   "cell_type": "markdown",
   "metadata": {},
   "source": [
    "b) On utilise scipy.optimize"
   ]
  },
  {
   "cell_type": "code",
   "execution_count": 29,
   "metadata": {
    "collapsed": true
   },
   "outputs": [],
   "source": [
    "import scipy.optimize as so"
   ]
  },
  {
   "cell_type": "code",
   "execution_count": 32,
   "metadata": {},
   "outputs": [
    {
     "name": "stderr",
     "output_type": "stream",
     "text": [
      "C:\\Users\\karl\\AppData\\Local\\Temp\\ipykernel_14356\\4038137380.py:1: DeprecationWarning: `method='simplex'` is deprecated and will be removed in SciPy 1.11.0. Please use one of the HiGHS solvers (e.g. `method='highs'`) in new code.\n",
      "  RESULTF=so.linprog(z_ori, A_ub=-coeff, b_ub=-betaF,method='simplex')\n"
     ]
    },
    {
     "data": {
      "text/plain": [
       " message: Optimization terminated successfully.\n",
       " success: True\n",
       "  status: 0\n",
       "     fun: 2.052827380785162\n",
       "       x: [ 0.000e+00  0.000e+00 ...  0.000e+00  0.000e+00]\n",
       "     nit: 20"
      ]
     },
     "execution_count": 32,
     "metadata": {},
     "output_type": "execute_result"
    }
   ],
   "source": [
    "RESULTF=so.linprog(z_ori, A_ub=-coeff, b_ub=-betaF,method='simplex') \n",
    "RESULTF"
   ]
  },
  {
   "cell_type": "code",
   "execution_count": 33,
   "metadata": {},
   "outputs": [
    {
     "data": {
      "text/plain": [
       "2.052827380785162"
      ]
     },
     "execution_count": 33,
     "metadata": {},
     "output_type": "execute_result"
    }
   ],
   "source": [
    "RESULTF.fun ##cout minimal"
   ]
  },
  {
   "cell_type": "code",
   "execution_count": 34,
   "metadata": {},
   "outputs": [
    {
     "data": {
      "text/plain": [
       "array([ 0. ,  0. ,  0. ,  0. ,  0. ,  0. ,  0. ,  0. ,  0.3,  0. ,  0. ,\n",
       "        0. ,  0. ,  0. ,  0. ,  0. ,  0. ,  0. ,  0. ,  0. ,  0. ,  0. ,\n",
       "        0. ,  0. ,  0. ,  0. ,  0. ,  0. ,  0. ,  0. ,  0. ,  0. ,  0. ,\n",
       "        0. ,  0. ,  0. ,  0. ,  0. , 13.5,  0. ,  0. ])"
      ]
     },
     "execution_count": 34,
     "metadata": {},
     "output_type": "execute_result"
    }
   ],
   "source": [
    "A=RESULTF.x ##valeurs réalisant l'optimum\n",
    "A"
   ]
  },
  {
   "cell_type": "markdown",
   "metadata": {},
   "source": [
    "c) Calculons maintenant le data frame calculant les apports de ce repas."
   ]
  },
  {
   "cell_type": "code",
   "execution_count": 35,
   "metadata": {},
   "outputs": [
    {
     "data": {
      "text/html": [
       "<div>\n",
       "<style scoped>\n",
       "    .dataframe tbody tr th:only-of-type {\n",
       "        vertical-align: middle;\n",
       "    }\n",
       "\n",
       "    .dataframe tbody tr th {\n",
       "        vertical-align: top;\n",
       "    }\n",
       "\n",
       "    .dataframe thead th {\n",
       "        text-align: right;\n",
       "    }\n",
       "</style>\n",
       "<table border=\"1\" class=\"dataframe\">\n",
       "  <thead>\n",
       "    <tr style=\"text-align: right;\">\n",
       "      <th></th>\n",
       "      <th>Protéines (en g)</th>\n",
       "      <th>Lipides (en g)</th>\n",
       "      <th>Glucides (en g)</th>\n",
       "      <th>Energie (kcal)</th>\n",
       "      <th>Fer (mg)</th>\n",
       "      <th>Calcium (mg)</th>\n",
       "      <th>Fibres (en g)</th>\n",
       "      <th>Prix €/100g</th>\n",
       "    </tr>\n",
       "    <tr>\n",
       "      <th>Produit (100g)</th>\n",
       "      <th></th>\n",
       "      <th></th>\n",
       "      <th></th>\n",
       "      <th></th>\n",
       "      <th></th>\n",
       "      <th></th>\n",
       "      <th></th>\n",
       "      <th></th>\n",
       "    </tr>\n",
       "  </thead>\n",
       "  <tbody>\n",
       "    <tr>\n",
       "      <th>Lait – Beurre</th>\n",
       "      <td>0.85</td>\n",
       "      <td>81.11</td>\n",
       "      <td>0.06</td>\n",
       "      <td>717</td>\n",
       "      <td>0.02</td>\n",
       "      <td>24.0</td>\n",
       "      <td>0.0</td>\n",
       "      <td>1.18</td>\n",
       "    </tr>\n",
       "    <tr>\n",
       "      <th>Base – Haricots blancs</th>\n",
       "      <td>5.54</td>\n",
       "      <td>5.15</td>\n",
       "      <td>21.63</td>\n",
       "      <td>155</td>\n",
       "      <td>1.99</td>\n",
       "      <td>61.0</td>\n",
       "      <td>5.5</td>\n",
       "      <td>0.13</td>\n",
       "    </tr>\n",
       "  </tbody>\n",
       "</table>\n",
       "</div>"
      ],
      "text/plain": [
       "                        Protéines (en g)  Lipides (en g)  Glucides (en g)  \\\n",
       "Produit (100g)                                                              \n",
       "Lait – Beurre                       0.85           81.11             0.06   \n",
       "Base – Haricots blancs              5.54            5.15            21.63   \n",
       "\n",
       "                        Energie (kcal)  Fer (mg)  Calcium (mg)  Fibres (en g)  \\\n",
       "Produit (100g)                                                                  \n",
       "Lait – Beurre                      717      0.02          24.0            0.0   \n",
       "Base – Haricots blancs             155      1.99          61.0            5.5   \n",
       "\n",
       "                        Prix €/100g  \n",
       "Produit (100g)                       \n",
       "Lait – Beurre                  1.18  \n",
       "Base – Haricots blancs         0.13  "
      ]
     },
     "metadata": {},
     "output_type": "display_data"
    },
    {
     "data": {
      "text/html": [
       "<div>\n",
       "<style scoped>\n",
       "    .dataframe tbody tr th:only-of-type {\n",
       "        vertical-align: middle;\n",
       "    }\n",
       "\n",
       "    .dataframe tbody tr th {\n",
       "        vertical-align: top;\n",
       "    }\n",
       "\n",
       "    .dataframe thead th {\n",
       "        text-align: right;\n",
       "    }\n",
       "</style>\n",
       "<table border=\"1\" class=\"dataframe\">\n",
       "  <thead>\n",
       "    <tr style=\"text-align: right;\">\n",
       "      <th></th>\n",
       "      <th>Quantités en g</th>\n",
       "    </tr>\n",
       "    <tr>\n",
       "      <th>Produit (100g)</th>\n",
       "      <th></th>\n",
       "    </tr>\n",
       "  </thead>\n",
       "  <tbody>\n",
       "    <tr>\n",
       "      <th>Lait – Beurre</th>\n",
       "      <td>25.248785</td>\n",
       "    </tr>\n",
       "    <tr>\n",
       "      <th>Base – Haricots blancs</th>\n",
       "      <td>1349.916703</td>\n",
       "    </tr>\n",
       "  </tbody>\n",
       "</table>\n",
       "</div>"
      ],
      "text/plain": [
       "                        Quantités en g\n",
       "Produit (100g)                        \n",
       "Lait – Beurre                25.248785\n",
       "Base – Haricots blancs     1349.916703"
      ]
     },
     "metadata": {},
     "output_type": "display_data"
    }
   ],
   "source": [
    "u,=A.nonzero()\n",
    "REST=Al.iloc[u,:]\n",
    "display(REST)\n",
    "QTE=pd.DataFrame({'Quantités en g' : 100*A[A.nonzero()]}).set_index(Al.iloc[u,:].index)\n",
    "display(QTE)"
   ]
  },
  {
   "cell_type": "code",
   "execution_count": 39,
   "metadata": {},
   "outputs": [
    {
     "name": "stdout",
     "output_type": "stream",
     "text": [
      "[[  0.8  81.1   0.1 717.    0.   24.    0.    1.2]\n",
      " [  5.5   5.2  21.6 155.    2.   61.    5.5   0.1]]\n",
      "[  1  10 100]\n",
      "[[   0.8   81.1    0.1  717.     0.    24.     0.     1.2]\n",
      " [  55.4   51.5  216.3 1550.    19.9  610.    55.     1.3]]\n"
     ]
    }
   ],
   "source": [
    "print(np.array(REST))\n",
    "print(np.array([1,10,100]))\n",
    "print((np.array(REST).T*np.array([1,10,100])).T)\n"
   ]
  },
  {
   "cell_type": "code",
   "execution_count": 25,
   "metadata": {},
   "outputs": [
    {
     "data": {
      "text/html": [
       "<div>\n",
       "<table border=\"1\" class=\"dataframe\">\n",
       "  <thead>\n",
       "    <tr style=\"text-align: right;\">\n",
       "      <th></th>\n",
       "      <th>Quantité (en g)</th>\n",
       "      <th>Protéines (en g)</th>\n",
       "      <th>Lipides (en g)</th>\n",
       "      <th>Glucides (en g)</th>\n",
       "      <th>Energie (kcal)</th>\n",
       "      <th>Fer (mg)</th>\n",
       "      <th>Calcium (mg)</th>\n",
       "      <th>Fibres (en g)</th>\n",
       "      <th>Prix (en €)</th>\n",
       "    </tr>\n",
       "  </thead>\n",
       "  <tbody>\n",
       "    <tr>\n",
       "      <th>Lait – Beurre</th>\n",
       "      <td>19.274990</td>\n",
       "      <td>0.163837</td>\n",
       "      <td>15.633945</td>\n",
       "      <td>0.011565</td>\n",
       "      <td>138.201680</td>\n",
       "      <td>0.003855</td>\n",
       "      <td>4.625998</td>\n",
       "      <td>0.000000</td>\n",
       "      <td>0.227445</td>\n",
       "    </tr>\n",
       "    <tr>\n",
       "      <th>Base – Haricots blancs</th>\n",
       "      <td>1451.405275</td>\n",
       "      <td>80.407852</td>\n",
       "      <td>74.747372</td>\n",
       "      <td>313.938961</td>\n",
       "      <td>2249.678176</td>\n",
       "      <td>28.882965</td>\n",
       "      <td>885.357218</td>\n",
       "      <td>79.827290</td>\n",
       "      <td>1.886827</td>\n",
       "    </tr>\n",
       "    <tr>\n",
       "      <th>Base – Semoule</th>\n",
       "      <td>58.922262</td>\n",
       "      <td>7.471343</td>\n",
       "      <td>0.618684</td>\n",
       "      <td>42.913084</td>\n",
       "      <td>212.120144</td>\n",
       "      <td>0.724744</td>\n",
       "      <td>10.016785</td>\n",
       "      <td>2.297968</td>\n",
       "      <td>0.106060</td>\n",
       "    </tr>\n",
       "    <tr>\n",
       "      <th>Apports du repas</th>\n",
       "      <td>1529.602527</td>\n",
       "      <td>88.043032</td>\n",
       "      <td>91.000000</td>\n",
       "      <td>356.863609</td>\n",
       "      <td>2600.000000</td>\n",
       "      <td>29.611564</td>\n",
       "      <td>900.000000</td>\n",
       "      <td>82.125258</td>\n",
       "      <td>2.220332</td>\n",
       "    </tr>\n",
       "  </tbody>\n",
       "</table>\n",
       "</div>"
      ],
      "text/plain": [
       "                        Quantité (en g)  Protéines (en g)  Lipides (en g)  \\\n",
       "Lait – Beurre                 19.274990          0.163837       15.633945   \n",
       "Base – Haricots blancs      1451.405275         80.407852       74.747372   \n",
       "Base – Semoule                58.922262          7.471343        0.618684   \n",
       "Apports du repas            1529.602527         88.043032       91.000000   \n",
       "\n",
       "                        Glucides (en g)  Energie (kcal)   Fer (mg)  \\\n",
       "Lait – Beurre                  0.011565      138.201680   0.003855   \n",
       "Base – Haricots blancs       313.938961     2249.678176  28.882965   \n",
       "Base – Semoule                42.913084      212.120144   0.724744   \n",
       "Apports du repas             356.863609     2600.000000  29.611564   \n",
       "\n",
       "                        Calcium (mg)  Fibres (en g)  Prix (en €)  \n",
       "Lait – Beurre               4.625998       0.000000     0.227445  \n",
       "Base – Haricots blancs    885.357218      79.827290     1.886827  \n",
       "Base – Semoule             10.016785       2.297968     0.106060  \n",
       "Apports du repas          900.000000      82.125258     2.220332  "
      ]
     },
     "metadata": {},
     "output_type": "display_data"
    }
   ],
   "source": [
    "\n",
    "BILAN=pd.DataFrame((np.array(REST).T*A[A.nonzero()]).T).set_index(QTE.index)\n",
    "REPAS=pd.concat([QTE,BILAN],axis=1)\n",
    "REPAS=REPAS.append([REPAS.sum()])\n",
    "Namescol=['Quantité (en g)']+list(Al.columns)\n",
    "Namescol[-1]='Prix (en €)'\n",
    "REPAS.columns=Namescol\n",
    "Namesrow=list(QTE.index)\n",
    "Namesrow.append('Apports du repas')\n",
    "REPAS.index=Namesrow\n",
    "display(REPAS)"
   ]
  },
  {
   "cell_type": "markdown",
   "metadata": {},
   "source": [
    "On en fait une fonction"
   ]
  },
  {
   "cell_type": "code",
   "execution_count": 26,
   "metadata": {
    "collapsed": true
   },
   "outputs": [],
   "source": [
    "def apports(RESULT):\n",
    "    A=RESULT.x\n",
    "    u,=A.nonzero()\n",
    "    REST=Al.iloc[u,:]\n",
    "    QTE=pd.DataFrame({'Quantités en g' : 100*A[A.nonzero()]}).set_index(Al.iloc[u,:].index)\n",
    "    BILAN=pd.DataFrame((np.array(REST).T*A[A.nonzero()]).T).set_index(QTE.index)\n",
    "    REPAS=pd.concat([QTE,BILAN],axis=1)\n",
    "    REPAS=REPAS.append([REPAS.sum()])\n",
    "    Namescol=['Quantité (en g)']+list(Al.columns)\n",
    "    Namescol[-1]='Prix (en €)'\n",
    "    REPAS.columns=Namescol\n",
    "    Namesrow=list(QTE.index)\n",
    "    Namesrow.append('Apports du repas')\n",
    "    REPAS.index=Namesrow\n",
    "\n",
    "    return REPAS"
   ]
  },
  {
   "cell_type": "code",
   "execution_count": 27,
   "metadata": {},
   "outputs": [
    {
     "data": {
      "text/plain": [
       "1529.6025274173037"
      ]
     },
     "metadata": {},
     "output_type": "display_data"
    }
   ],
   "source": [
    "REPAS=apports(RESULTF)\n",
    "display(REPAS.iloc[-1,0])"
   ]
  },
  {
   "cell_type": "markdown",
   "metadata": {},
   "source": [
    "c) Présentation des résultats"
   ]
  },
  {
   "cell_type": "code",
   "execution_count": 28,
   "metadata": {},
   "outputs": [
    {
     "name": "stdout",
     "output_type": "stream",
     "text": [
      "Lait – Beurre\n",
      "19.27 g\n",
      "Base – Haricots blancs\n",
      "1451.41 g\n",
      "Base – Semoule\n",
      "58.92 g\n"
     ]
    }
   ],
   "source": [
    "##Présentation naive##\n",
    "u,=A.nonzero()\n",
    "for k in u :\n",
    "    print(Al.index[k])\n",
    "    print('{:0.2f} g'.format(A[k]*100))"
   ]
  },
  {
   "cell_type": "code",
   "execution_count": 29,
   "metadata": {
    "collapsed": true
   },
   "outputs": [],
   "source": [
    "##Cette fonction permet d'enlever le type de chaque aliment\n",
    "def rename_aliment(old_name):\n",
    "    new_name=old_name.replace(\"Lait – \", \"\")\n",
    "    new_name=new_name.replace(\"Viande – \", \"\")\n",
    "    new_name=new_name.replace(\"Poisson – \", \"\")\n",
    "    new_name=new_name.replace(\"Légume – \", \"\")\n",
    "    new_name=new_name.replace(\"Base – \", \"\")\n",
    "    return new_name"
   ]
  },
  {
   "cell_type": "code",
   "execution_count": 30,
   "metadata": {},
   "outputs": [
    {
     "name": "stdout",
     "output_type": "stream",
     "text": [
      "Un repas est constitué de  de 19.27 g de Beurre, de 1451.41 g de Haricots blancs et de 58.92 g de Semoule.  Il coûte un total de 2.22 euros.\n"
     ]
    }
   ],
   "source": [
    "Phrase='Un repas est constitué de '\n",
    "for s in range(len(u)-1):\n",
    "    if s>0 : Phrase+=','\n",
    "    gr=A[A.nonzero()][s]*100\n",
    "    old_name=Al.iloc[u].index[s]\n",
    "    name = rename_aliment(old_name)\n",
    "    Phrase+=' de {:0.2f} g de {}'.format(gr,name)\n",
    "s=len(u)-1    \n",
    "gr=A[A.nonzero()][s]*100\n",
    "old_name=Al.iloc[u].index[s]\n",
    "name = rename_aliment(old_name)\n",
    "Phrase+=' et de {:0.2f} g de {}. '.format(gr,name)\n",
    "Phrase+=' Il coûte un total de {:0.2f} euros.'.format(RESULTF.fun)\n",
    "print(Phrase)"
   ]
  },
  {
   "cell_type": "markdown",
   "metadata": {},
   "source": [
    "Mettons cela dans une fonction."
   ]
  },
  {
   "cell_type": "code",
   "execution_count": 55,
   "metadata": {
    "collapsed": true
   },
   "outputs": [],
   "source": [
    "def repas(RESULT):\n",
    "    A=RESULT.x\n",
    "    u,=A.nonzero()\n",
    "    Qt=A[u]\n",
    "    Phrase='Un repas est constitué de '\n",
    "    for s in range(len(u)-1):\n",
    "        if s>0 : Phrase+=','\n",
    "        gr=Qt[s]*100\n",
    "        old_name=Al.iloc[u].index[s]\n",
    "        name = rename_aliment(old_name)\n",
    "        Phrase+=' de {:0.2f} g de {}'.format(gr,name)\n",
    "    s=len(u)-1    \n",
    "    gr=Qt[s]*100\n",
    "    old_name=Al.iloc[u].index[s]\n",
    "    name = rename_aliment(old_name)\n",
    "    Phrase+=' et de {:0.2f} g de {}. '.format(gr,name)\n",
    "    REPAS=apports(RESULT)\n",
    "    Phrase+=' Il coûte un total de {:0.2f} euros et comprend {:0.2f} calories.'.format(RESULT.fun,REPAS['Energie (kcal)'][-1])\n",
    "    print(Phrase)"
   ]
  },
  {
   "cell_type": "code",
   "execution_count": 56,
   "metadata": {},
   "outputs": [
    {
     "name": "stdout",
     "output_type": "stream",
     "text": [
      "Pour les hommes.\n",
      "Un repas est constitué de  de 19.27 g de Beurre, de 1451.41 g de Haricots blancs et de 58.92 g de Semoule.  Il coûte un total de 2.22 euros et comprend 2600.00 calories.\n"
     ]
    }
   ],
   "source": [
    "print('Pour les hommes.')\n",
    "repas(RESULTF)"
   ]
  },
  {
   "cell_type": "markdown",
   "metadata": {
    "collapsed": true
   },
   "source": [
    "d) Maintenant, on peut facilement faire le travail pour les femmes."
   ]
  },
  {
   "cell_type": "code",
   "execution_count": 57,
   "metadata": {},
   "outputs": [
    {
     "name": "stdout",
     "output_type": "stream",
     "text": [
      "Pour les femmes.\n",
      "Un repas est constitué de  de 7.65 g de Gruyère, de 4.26 g de Beurre et de 1347.01 g de Haricots blancs.  Il coûte un total de 1.89 euros et comprend 2150.00 calories.\n"
     ]
    }
   ],
   "source": [
    "RESULTF=so.linprog(z_ori, A_ub=-coeff, b_ub=-betaF,method='simplex') \n",
    "print('Pour les femmes.')\n",
    "repas(RESULTF)"
   ]
  },
  {
   "cell_type": "markdown",
   "metadata": {
    "collapsed": true
   },
   "source": [
    "# Question 2"
   ]
  },
  {
   "cell_type": "code",
   "execution_count": 58,
   "metadata": {},
   "outputs": [
    {
     "name": "stdout",
     "output_type": "stream",
     "text": [
      "Pour les hommes avec des contraintes supplémentaires.\n",
      "Un repas est constitué de  de 59.17 g de Gruyère, de 61.33 g de Beurre, de 176.59 g de Courge, de 345.33 g de Haricots blancs et de 356.05 g de Semoule.  Il coûte un total de 3.08 euros et comprend 2600.00 calories.\n"
     ]
    }
   ],
   "source": [
    "RESULTFb=so.linprog(z_ori, A_ub=np.concatenate((-coeff,coeff),axis=0), b_ub=np.concatenate((-betaF,1.5*betaF),axis=0),method='simplex') \n",
    "print('Pour les hommes avec des contraintes supplémentaires.')\n",
    "repas(RESULTFb)"
   ]
  },
  {
   "cell_type": "markdown",
   "metadata": {},
   "source": [
    "Analyse additionelle en s'approchant au mieux du minimum.\n"
   ]
  },
  {
   "cell_type": "code",
   "execution_count": 85,
   "metadata": {},
   "outputs": [
    {
     "name": "stdout",
     "output_type": "stream",
     "text": [
      "\n",
      "Pour les hommes avec des contraintes supplémentaires entre le minimum et 30 fois le minimum.\n",
      "Un repas est constitué de  de 19.27 g de Beurre, de 1451.41 g de Haricots blancs et de 58.92 g de Semoule.  Il coûte un total de 2.22 euros et comprend 2600.00 calories.\n",
      "\n",
      "Pour les hommes avec des contraintes supplémentaires entre le minimum et 20 fois le minimum.\n",
      "Un repas est constitué de  de 19.27 g de Beurre, de 1451.41 g de Haricots blancs et de 58.92 g de Semoule.  Il coûte un total de 2.22 euros et comprend 2600.00 calories.\n",
      "\n",
      "Pour les hommes avec des contraintes supplémentaires entre le minimum et 10 fois le minimum.\n",
      "Un repas est constitué de  de 19.27 g de Beurre, de 1451.41 g de Haricots blancs et de 58.92 g de Semoule.  Il coûte un total de 2.22 euros et comprend 2600.00 calories.\n",
      "\n",
      "Pour les hommes avec des contraintes supplémentaires entre le minimum et 5 fois le minimum.\n",
      "Un repas est constitué de  de 19.27 g de Beurre, de 1451.41 g de Haricots blancs et de 58.92 g de Semoule.  Il coûte un total de 2.22 euros et comprend 2600.00 calories.\n",
      "\n",
      "Pour les hommes avec des contraintes supplémentaires entre le minimum et 4 fois le minimum.\n",
      "Un repas est constitué de  de 19.27 g de Beurre, de 1451.41 g de Haricots blancs et de 58.92 g de Semoule.  Il coûte un total de 2.22 euros et comprend 2600.00 calories.\n",
      "\n",
      "Pour les hommes avec des contraintes supplémentaires entre le minimum et 3 fois le minimum.\n",
      "Un repas est constitué de  de 18.88 g de Gruyère, de 32.43 g de Beurre, de 1105.09 g de Haricots blancs et de 160.18 g de Semoule.  Il coûte un total de 2.33 euros et comprend 2600.00 calories.\n",
      "\n",
      "Pour les hommes avec des contraintes supplémentaires entre le minimum et 2 fois le minimum.\n",
      "Un repas est constitué de  de 45.80 g de Gruyère, de 51.17 g de Beurre, de 611.36 g de Haricots blancs et de 304.54 g de Semoule.  Il coûte un total de 2.49 euros et comprend 2600.00 calories.\n",
      "\n",
      "Pour les hommes avec des contraintes supplémentaires entre le minimum et 1.5 fois le minimum.\n",
      "Un repas est constitué de  de 59.17 g de Gruyère, de 61.33 g de Beurre, de 176.59 g de Courge, de 345.33 g de Haricots blancs et de 356.05 g de Semoule.  Il coûte un total de 3.08 euros et comprend 2600.00 calories.\n",
      "\n",
      "Pour les hommes avec des contraintes supplémentaires entre le minimum et 1.4 fois le minimum.\n",
      "Un repas est constitué de  de 61.80 g de Gruyère, de 63.71 g de Beurre, de 293.16 g de Courge, de 283.30 g de Haricots blancs et de 356.84 g de Semoule.  Il coûte un total de 3.43 euros et comprend 2600.00 calories.\n",
      "\n",
      "Pour les hommes avec des contraintes supplémentaires entre le minimum et 1.3 fois le minimum.\n",
      "Un repas est constitué de  de 64.44 g de Gruyère, de 66.10 g de Beurre, de 409.74 g de Courge, de 221.27 g de Haricots blancs et de 357.63 g de Semoule.  Il coûte un total de 3.78 euros et comprend 2600.00 calories.\n",
      "\n",
      "Pour les hommes avec des contraintes supplémentaires entre le minimum et 1.2 fois le minimum.\n",
      "Un repas est constitué de  de 67.07 g de Gruyère, de 68.49 g de Beurre, de 526.31 g de Courge, de 159.24 g de Haricots blancs et de 358.43 g de Semoule.  Il coûte un total de 4.14 euros et comprend 2600.00 calories.\n",
      "\n",
      "Pour les hommes avec des contraintes supplémentaires entre le minimum et 1.1 fois le minimum.\n",
      "Un repas est constitué de  de 69.22 g de Gruyère, de 82.41 g de Beurre, de 623.73 g de Courge, de 26.69 g de Haricots rouges, de 100.29 g de Haricots blancs et de 332.17 g de Semoule.  Il coûte un total de 4.63 euros et comprend 2600.00 calories.\n",
      "\n",
      "Pour les hommes avec des contraintes supplémentaires entre le minimum et 1.09 fois le minimum.\n",
      "Un repas est constitué de  de 64.53 g de Gruyère, de 85.66 g de Beurre, de 272.17 g de Carotte cuite, de 338.92 g de Courge, de 64.55 g de Haricots rouges, de 62.66 g de Haricots blancs et de 356.19 g de Semoule.  Il coûte un total de 5.08 euros et comprend 2600.00 calories.\n",
      "\n",
      "Pour les hommes avec des contraintes supplémentaires entre le minimum et 1.08 fois le minimum.\n",
      "Un repas est constitué de  de 63.62 g de Gruyère, de 81.26 g de Beurre, de 19.85 g de Merguez, de 34.87 g de Blanc de Poulet, de 657.42 g de Carotte cuite, de 877.93 g de Riz Blanc et de 293.70 g de Haricots rouges.  Il coûte un total de 9.19 euros et comprend 2600.00 calories.\n",
      "\n",
      "Pour les hommes avec des contraintes supplémentaires entre le minimum et 1.0787 fois le minimum.\n",
      "Un repas est constitué de  de 50.66 g de Gruyère, de 65.04 g de Beurre, de 122.61 g de Merguez, de 6.32 g de Blanc de Poulet, de 1235.52 g de Carotte cuite, de 866.25 g de Riz Blanc et de 5.73 g de Haricots rouges.  Il coûte un total de 11.14 euros et comprend 2600.00 calories.\n"
     ]
    }
   ],
   "source": [
    "for k in [30,20,10,5,4,3,2,1.5,1.4,1.3,1.2,1.1,1.09,1.08,1.0787]:\n",
    "    RESULTFb=so.linprog(z_ori, A_ub=np.concatenate((-coeff,coeff),axis=0), b_ub=np.concatenate((-betaF,k*betaF),axis=0),method='simplex') \n",
    "    if RESULTFb.success==True:\n",
    "        print('\\nPour les hommes avec des contraintes supplémentaires entre le minimum et {} fois le minimum.'.format(k))\n",
    "        repas(RESULTFb)\n",
    "    else : print('\\nRepas impossible pour {} fois le minimum'.format(k))        "
   ]
  },
  {
   "cell_type": "code",
   "execution_count": 91,
   "metadata": {},
   "outputs": [
    {
     "name": "stdout",
     "output_type": "stream",
     "text": [
      "\n",
      "Repas impossible pour 1.078611 fois le minimum\n",
      "\n",
      "Repas impossible pour 1.0786111 fois le minimum\n",
      "\n",
      "Pour les hommes avec des contraintes supplémentaires entre le minimum et 1.0786111999999999 fois le minimum.\n",
      "Un repas est constitué de  de 50.46 g de Gruyère, de 62.52 g de Beurre, de 122.53 g de Merguez, de 14.11 g de Saucisson, de 0.01 g de Blanc de Poulet, de 1247.12 g de Carotte cuite et de 865.58 g de Riz Blanc.  Il coûte un total de 11.55 euros et comprend 2600.00 calories.\n",
      "\n",
      "Pour les hommes avec des contraintes supplémentaires entre le minimum et 1.0786113 fois le minimum.\n",
      "Un repas est constitué de  de 50.46 g de Gruyère, de 62.52 g de Beurre, de 122.53 g de Merguez, de 14.09 g de Saucisson, de 0.02 g de Blanc de Poulet, de 1247.12 g de Carotte cuite et de 865.58 g de Riz Blanc.  Il coûte un total de 11.55 euros et comprend 2600.00 calories.\n",
      "\n",
      "Pour les hommes avec des contraintes supplémentaires entre le minimum et 1.0786114 fois le minimum.\n",
      "Un repas est constitué de  de 50.46 g de Gruyère, de 62.53 g de Beurre, de 122.53 g de Merguez, de 14.07 g de Saucisson, de 0.02 g de Blanc de Poulet, de 1247.12 g de Carotte cuite et de 865.58 g de Riz Blanc.  Il coûte un total de 11.55 euros et comprend 2600.00 calories.\n",
      "\n",
      "Pour les hommes avec des contraintes supplémentaires entre le minimum et 1.0786115 fois le minimum.\n",
      "Un repas est constitué de  de 50.46 g de Gruyère, de 62.53 g de Beurre, de 122.54 g de Merguez, de 14.04 g de Saucisson, de 0.03 g de Blanc de Poulet, de 1247.11 g de Carotte cuite et de 865.58 g de Riz Blanc.  Il coûte un total de 11.55 euros et comprend 2600.00 calories.\n",
      "\n",
      "Pour les hommes avec des contraintes supplémentaires entre le minimum et 1.0786116 fois le minimum.\n",
      "Un repas est constitué de  de 50.45 g de Gruyère, de 62.53 g de Beurre, de 122.54 g de Merguez, de 14.02 g de Saucisson, de 0.04 g de Blanc de Poulet, de 1247.11 g de Carotte cuite et de 865.58 g de Riz Blanc.  Il coûte un total de 11.55 euros et comprend 2600.00 calories.\n",
      "\n",
      "Pour les hommes avec des contraintes supplémentaires entre le minimum et 1.0786117 fois le minimum.\n",
      "Un repas est constitué de  de 50.45 g de Gruyère, de 62.54 g de Beurre, de 122.54 g de Merguez, de 14.00 g de Saucisson, de 0.05 g de Blanc de Poulet, de 1247.11 g de Carotte cuite et de 865.58 g de Riz Blanc.  Il coûte un total de 11.55 euros et comprend 2600.00 calories.\n",
      "\n",
      "Pour les hommes avec des contraintes supplémentaires entre le minimum et 1.0786118 fois le minimum.\n",
      "Un repas est constitué de  de 50.45 g de Gruyère, de 62.54 g de Beurre, de 122.55 g de Merguez, de 13.98 g de Saucisson, de 0.06 g de Blanc de Poulet, de 1247.11 g de Carotte cuite et de 865.58 g de Riz Blanc.  Il coûte un total de 11.55 euros et comprend 2600.00 calories.\n",
      "\n",
      "Pour les hommes avec des contraintes supplémentaires entre le minimum et 1.0786119 fois le minimum.\n",
      "Un repas est constitué de  de 50.45 g de Gruyère, de 62.54 g de Beurre, de 122.55 g de Merguez, de 13.95 g de Saucisson, de 0.07 g de Blanc de Poulet, de 1247.11 g de Carotte cuite et de 865.58 g de Riz Blanc.  Il coûte un total de 11.55 euros et comprend 2600.00 calories.\n"
     ]
    }
   ],
   "source": [
    "n=10\n",
    "for ks in range(n):\n",
    "    k=1.078611+0.000001*ks/n\n",
    "    RESULTFb=so.linprog(z_ori, A_ub=np.concatenate((-coeff,coeff),axis=0), b_ub=np.concatenate((-betaF,k*betaF),axis=0),method='simplex') \n",
    "    if RESULTFb.success==True:\n",
    "        print('\\nPour les hommes avec des contraintes supplémentaires entre le minimum et {} fois le minimum.'.format(k))\n",
    "        repas(RESULTFb)\n",
    "    else : print('\\nRepas impossible pour {} fois le minimum'.format(k))    "
   ]
  },
  {
   "cell_type": "markdown",
   "metadata": {},
   "source": [
    "# QUESTION 3"
   ]
  },
  {
   "cell_type": "code",
   "execution_count": 92,
   "metadata": {},
   "outputs": [
    {
     "data": {
      "text/html": [
       "<div>\n",
       "<table border=\"1\" class=\"dataframe\">\n",
       "  <thead>\n",
       "    <tr style=\"text-align: right;\">\n",
       "      <th></th>\n",
       "      <th>Protéines (en g)</th>\n",
       "      <th>Lipides (en g)</th>\n",
       "      <th>Glucides (en g)</th>\n",
       "      <th>Energie (kcal)</th>\n",
       "      <th>Fer (mg)</th>\n",
       "      <th>Calcium (mg)</th>\n",
       "      <th>Fibres (en g)</th>\n",
       "      <th>Prix €/100g</th>\n",
       "    </tr>\n",
       "    <tr>\n",
       "      <th>Produit (100g)</th>\n",
       "      <th></th>\n",
       "      <th></th>\n",
       "      <th></th>\n",
       "      <th></th>\n",
       "      <th></th>\n",
       "      <th></th>\n",
       "      <th></th>\n",
       "      <th></th>\n",
       "    </tr>\n",
       "  </thead>\n",
       "  <tbody>\n",
       "    <tr>\n",
       "      <th>Lait – Emmental</th>\n",
       "      <td>26.93</td>\n",
       "      <td>27.80</td>\n",
       "      <td>5.380</td>\n",
       "      <td>380</td>\n",
       "      <td>0.20</td>\n",
       "      <td>791.00</td>\n",
       "      <td>0.00</td>\n",
       "      <td>1.30</td>\n",
       "    </tr>\n",
       "    <tr>\n",
       "      <th>Lait – crème fraîche</th>\n",
       "      <td>20.90</td>\n",
       "      <td>35.00</td>\n",
       "      <td>2.840</td>\n",
       "      <td>328</td>\n",
       "      <td>0.03</td>\n",
       "      <td>66.30</td>\n",
       "      <td>0.00</td>\n",
       "      <td>0.84</td>\n",
       "    </tr>\n",
       "    <tr>\n",
       "      <th>Lait – Petit-suisse</th>\n",
       "      <td>9.40</td>\n",
       "      <td>9.45</td>\n",
       "      <td>3.300</td>\n",
       "      <td>136</td>\n",
       "      <td>0.20</td>\n",
       "      <td>112.00</td>\n",
       "      <td>0.00</td>\n",
       "      <td>0.44</td>\n",
       "    </tr>\n",
       "    <tr>\n",
       "      <th>Lait – Lait entier (vache)</th>\n",
       "      <td>3.15</td>\n",
       "      <td>3.25</td>\n",
       "      <td>4.800</td>\n",
       "      <td>61</td>\n",
       "      <td>0.30</td>\n",
       "      <td>113.00</td>\n",
       "      <td>0.00</td>\n",
       "      <td>0.28</td>\n",
       "    </tr>\n",
       "    <tr>\n",
       "      <th>Lait – Lait entier  (chèvre)</th>\n",
       "      <td>3.56</td>\n",
       "      <td>4.14</td>\n",
       "      <td>4.450</td>\n",
       "      <td>69</td>\n",
       "      <td>0.05</td>\n",
       "      <td>134.00</td>\n",
       "      <td>0.00</td>\n",
       "      <td>0.70</td>\n",
       "    </tr>\n",
       "    <tr>\n",
       "      <th>Lait – Gruyère</th>\n",
       "      <td>29.81</td>\n",
       "      <td>32.34</td>\n",
       "      <td>0.360</td>\n",
       "      <td>413</td>\n",
       "      <td>0.17</td>\n",
       "      <td>1011.00</td>\n",
       "      <td>0.00</td>\n",
       "      <td>1.18</td>\n",
       "    </tr>\n",
       "    <tr>\n",
       "      <th>Lait – Camembert</th>\n",
       "      <td>19.80</td>\n",
       "      <td>24.26</td>\n",
       "      <td>0.456</td>\n",
       "      <td>300</td>\n",
       "      <td>0.33</td>\n",
       "      <td>388.00</td>\n",
       "      <td>0.00</td>\n",
       "      <td>1.05</td>\n",
       "    </tr>\n",
       "    <tr>\n",
       "      <th>Lait – Fromage de Chévre frais</th>\n",
       "      <td>18.52</td>\n",
       "      <td>21.08</td>\n",
       "      <td>0.890</td>\n",
       "      <td>268</td>\n",
       "      <td>1.90</td>\n",
       "      <td>140.00</td>\n",
       "      <td>0.00</td>\n",
       "      <td>3.00</td>\n",
       "    </tr>\n",
       "    <tr>\n",
       "      <th>Lait – Beurre</th>\n",
       "      <td>0.85</td>\n",
       "      <td>81.11</td>\n",
       "      <td>0.060</td>\n",
       "      <td>717</td>\n",
       "      <td>0.02</td>\n",
       "      <td>24.00</td>\n",
       "      <td>0.00</td>\n",
       "      <td>1.18</td>\n",
       "    </tr>\n",
       "    <tr>\n",
       "      <th>Lait – Yaourt nature</th>\n",
       "      <td>5.25</td>\n",
       "      <td>1.55</td>\n",
       "      <td>7.040</td>\n",
       "      <td>63</td>\n",
       "      <td>0.08</td>\n",
       "      <td>183.00</td>\n",
       "      <td>0.00</td>\n",
       "      <td>0.99</td>\n",
       "    </tr>\n",
       "    <tr>\n",
       "      <th>Viande – Boeuf haché</th>\n",
       "      <td>24.07</td>\n",
       "      <td>20.69</td>\n",
       "      <td>0.000</td>\n",
       "      <td>289</td>\n",
       "      <td>2.44</td>\n",
       "      <td>11.00</td>\n",
       "      <td>0.00</td>\n",
       "      <td>1.10</td>\n",
       "    </tr>\n",
       "    <tr>\n",
       "      <th>Viande – Jambon</th>\n",
       "      <td>22.62</td>\n",
       "      <td>9.02</td>\n",
       "      <td>0.000</td>\n",
       "      <td>178</td>\n",
       "      <td>1.34</td>\n",
       "      <td>8.00</td>\n",
       "      <td>0.00</td>\n",
       "      <td>4.64</td>\n",
       "    </tr>\n",
       "    <tr>\n",
       "      <th>Viande – Merguez</th>\n",
       "      <td>22.60</td>\n",
       "      <td>19.80</td>\n",
       "      <td>0.200</td>\n",
       "      <td>283</td>\n",
       "      <td>2.00</td>\n",
       "      <td>35.90</td>\n",
       "      <td>0.00</td>\n",
       "      <td>1.06</td>\n",
       "    </tr>\n",
       "    <tr>\n",
       "      <th>Viande – Gigot d'Agneau</th>\n",
       "      <td>29.77</td>\n",
       "      <td>8.96</td>\n",
       "      <td>0.000</td>\n",
       "      <td>200</td>\n",
       "      <td>27.56</td>\n",
       "      <td>1.72</td>\n",
       "      <td>0.00</td>\n",
       "      <td>1.99</td>\n",
       "    </tr>\n",
       "    <tr>\n",
       "      <th>Viande – Côtes d'Agneau</th>\n",
       "      <td>28.99</td>\n",
       "      <td>9.86</td>\n",
       "      <td>0.000</td>\n",
       "      <td>206</td>\n",
       "      <td>1.69</td>\n",
       "      <td>15.00</td>\n",
       "      <td>0.00</td>\n",
       "      <td>3.70</td>\n",
       "    </tr>\n",
       "    <tr>\n",
       "      <th>Viande – Saucisson</th>\n",
       "      <td>15.30</td>\n",
       "      <td>19.87</td>\n",
       "      <td>0.730</td>\n",
       "      <td>247</td>\n",
       "      <td>0.77</td>\n",
       "      <td>11.00</td>\n",
       "      <td>0.00</td>\n",
       "      <td>3.21</td>\n",
       "    </tr>\n",
       "    <tr>\n",
       "      <th>Viande – Saucisse</th>\n",
       "      <td>19.43</td>\n",
       "      <td>28.36</td>\n",
       "      <td>0.000</td>\n",
       "      <td>339</td>\n",
       "      <td>1.36</td>\n",
       "      <td>13.00</td>\n",
       "      <td>0.00</td>\n",
       "      <td>1.32</td>\n",
       "    </tr>\n",
       "    <tr>\n",
       "      <th>Viande – Blanc de Poulet</th>\n",
       "      <td>29.02</td>\n",
       "      <td>10.85</td>\n",
       "      <td>0.000</td>\n",
       "      <td>222</td>\n",
       "      <td>1.14</td>\n",
       "      <td>15.00</td>\n",
       "      <td>0.00</td>\n",
       "      <td>0.53</td>\n",
       "    </tr>\n",
       "    <tr>\n",
       "      <th>Viande – Cuisse de Poulet</th>\n",
       "      <td>25.96</td>\n",
       "      <td>13.46</td>\n",
       "      <td>0.000</td>\n",
       "      <td>232</td>\n",
       "      <td>1.33</td>\n",
       "      <td>12.00</td>\n",
       "      <td>0.00</td>\n",
       "      <td>1.13</td>\n",
       "    </tr>\n",
       "    <tr>\n",
       "      <th>Poisson – Sardine à l'huile</th>\n",
       "      <td>24.62</td>\n",
       "      <td>11.45</td>\n",
       "      <td>0.000</td>\n",
       "      <td>208</td>\n",
       "      <td>2.92</td>\n",
       "      <td>382.00</td>\n",
       "      <td>0.00</td>\n",
       "      <td>3.00</td>\n",
       "    </tr>\n",
       "    <tr>\n",
       "      <th>Poisson – Maquereau</th>\n",
       "      <td>23.85</td>\n",
       "      <td>17.81</td>\n",
       "      <td>0.000</td>\n",
       "      <td>262</td>\n",
       "      <td>1.57</td>\n",
       "      <td>15.00</td>\n",
       "      <td>0.00</td>\n",
       "      <td>0.69</td>\n",
       "    </tr>\n",
       "    <tr>\n",
       "      <th>Légume – Brocoli</th>\n",
       "      <td>2.38</td>\n",
       "      <td>0.41</td>\n",
       "      <td>7.180</td>\n",
       "      <td>35</td>\n",
       "      <td>0.67</td>\n",
       "      <td>40.00</td>\n",
       "      <td>2.40</td>\n",
       "      <td>0.32</td>\n",
       "    </tr>\n",
       "    <tr>\n",
       "      <th>Légume – Carotte cuite</th>\n",
       "      <td>0.76</td>\n",
       "      <td>0.18</td>\n",
       "      <td>8.220</td>\n",
       "      <td>35</td>\n",
       "      <td>0.34</td>\n",
       "      <td>30.00</td>\n",
       "      <td>2.70</td>\n",
       "      <td>0.45</td>\n",
       "    </tr>\n",
       "    <tr>\n",
       "      <th>Légume – Carotte crue</th>\n",
       "      <td>0.93</td>\n",
       "      <td>0.24</td>\n",
       "      <td>9.580</td>\n",
       "      <td>41</td>\n",
       "      <td>0.30</td>\n",
       "      <td>33.00</td>\n",
       "      <td>2.44</td>\n",
       "      <td>0.39</td>\n",
       "    </tr>\n",
       "    <tr>\n",
       "      <th>Légume – Chou Fleur</th>\n",
       "      <td>1.84</td>\n",
       "      <td>0.45</td>\n",
       "      <td>4.110</td>\n",
       "      <td>23</td>\n",
       "      <td>0.32</td>\n",
       "      <td>16.00</td>\n",
       "      <td>2.30</td>\n",
       "      <td>0.40</td>\n",
       "    </tr>\n",
       "    <tr>\n",
       "      <th>Légume – Courge</th>\n",
       "      <td>0.66</td>\n",
       "      <td>0.34</td>\n",
       "      <td>14.340</td>\n",
       "      <td>56</td>\n",
       "      <td>0.36</td>\n",
       "      <td>9.00</td>\n",
       "      <td>2.90</td>\n",
       "      <td>0.32</td>\n",
       "    </tr>\n",
       "    <tr>\n",
       "      <th>Légume – Pois Mange tout</th>\n",
       "      <td>3.27</td>\n",
       "      <td>0.23</td>\n",
       "      <td>7.050</td>\n",
       "      <td>42</td>\n",
       "      <td>1.97</td>\n",
       "      <td>42.00</td>\n",
       "      <td>2.80</td>\n",
       "      <td>0.50</td>\n",
       "    </tr>\n",
       "    <tr>\n",
       "      <th>Légume – Courgette</th>\n",
       "      <td>1.14</td>\n",
       "      <td>0.36</td>\n",
       "      <td>2.690</td>\n",
       "      <td>15</td>\n",
       "      <td>0.37</td>\n",
       "      <td>18.00</td>\n",
       "      <td>1.00</td>\n",
       "      <td>0.37</td>\n",
       "    </tr>\n",
       "    <tr>\n",
       "      <th>Légume – Tomate</th>\n",
       "      <td>1.65</td>\n",
       "      <td>0.33</td>\n",
       "      <td>8.980</td>\n",
       "      <td>38</td>\n",
       "      <td>0.45</td>\n",
       "      <td>18.00</td>\n",
       "      <td>1.90</td>\n",
       "      <td>0.59</td>\n",
       "    </tr>\n",
       "    <tr>\n",
       "      <th>Légume – Epinard</th>\n",
       "      <td>2.97</td>\n",
       "      <td>0.26</td>\n",
       "      <td>3.750</td>\n",
       "      <td>23</td>\n",
       "      <td>3.57</td>\n",
       "      <td>136.00</td>\n",
       "      <td>2.40</td>\n",
       "      <td>0.58</td>\n",
       "    </tr>\n",
       "    <tr>\n",
       "      <th>Légume – Maïs</th>\n",
       "      <td>3.27</td>\n",
       "      <td>1.35</td>\n",
       "      <td>18.700</td>\n",
       "      <td>86</td>\n",
       "      <td>0.52</td>\n",
       "      <td>2.00</td>\n",
       "      <td>2.00</td>\n",
       "      <td>0.43</td>\n",
       "    </tr>\n",
       "    <tr>\n",
       "      <th>Base -  Pâtes Complètes</th>\n",
       "      <td>5.33</td>\n",
       "      <td>0.54</td>\n",
       "      <td>26.540</td>\n",
       "      <td>124</td>\n",
       "      <td>1.06</td>\n",
       "      <td>15.00</td>\n",
       "      <td>3.23</td>\n",
       "      <td>0.24</td>\n",
       "    </tr>\n",
       "    <tr>\n",
       "      <th>Base – Riz Complet</th>\n",
       "      <td>2.32</td>\n",
       "      <td>0.83</td>\n",
       "      <td>23.510</td>\n",
       "      <td>112</td>\n",
       "      <td>0.53</td>\n",
       "      <td>10.00</td>\n",
       "      <td>1.91</td>\n",
       "      <td>0.33</td>\n",
       "    </tr>\n",
       "    <tr>\n",
       "      <th>Base – Pommes de Terre</th>\n",
       "      <td>2.31</td>\n",
       "      <td>1.21</td>\n",
       "      <td>16.120</td>\n",
       "      <td>83</td>\n",
       "      <td>0.47</td>\n",
       "      <td>21.00</td>\n",
       "      <td>1.18</td>\n",
       "      <td>0.25</td>\n",
       "    </tr>\n",
       "    <tr>\n",
       "      <th>Base – Frites</th>\n",
       "      <td>3.76</td>\n",
       "      <td>17.05</td>\n",
       "      <td>37.510</td>\n",
       "      <td>319</td>\n",
       "      <td>1.37</td>\n",
       "      <td>13.00</td>\n",
       "      <td>3.50</td>\n",
       "      <td>0.35</td>\n",
       "    </tr>\n",
       "    <tr>\n",
       "      <th>Base -  Pâtes blanches</th>\n",
       "      <td>5.80</td>\n",
       "      <td>0.93</td>\n",
       "      <td>30.860</td>\n",
       "      <td>158</td>\n",
       "      <td>1.28</td>\n",
       "      <td>7.00</td>\n",
       "      <td>1.80</td>\n",
       "      <td>0.24</td>\n",
       "    </tr>\n",
       "    <tr>\n",
       "      <th>Base – Riz Blanc</th>\n",
       "      <td>2.38</td>\n",
       "      <td>0.21</td>\n",
       "      <td>28.590</td>\n",
       "      <td>130</td>\n",
       "      <td>0.20</td>\n",
       "      <td>3.00</td>\n",
       "      <td>0.50</td>\n",
       "      <td>0.33</td>\n",
       "    </tr>\n",
       "    <tr>\n",
       "      <th>Base – Haricots rouges</th>\n",
       "      <td>5.26</td>\n",
       "      <td>0.36</td>\n",
       "      <td>15.540</td>\n",
       "      <td>85</td>\n",
       "      <td>1.27</td>\n",
       "      <td>25.00</td>\n",
       "      <td>5.40</td>\n",
       "      <td>0.42</td>\n",
       "    </tr>\n",
       "    <tr>\n",
       "      <th>Base – Haricots blancs</th>\n",
       "      <td>5.54</td>\n",
       "      <td>5.15</td>\n",
       "      <td>21.630</td>\n",
       "      <td>155</td>\n",
       "      <td>1.99</td>\n",
       "      <td>61.00</td>\n",
       "      <td>5.50</td>\n",
       "      <td>0.13</td>\n",
       "    </tr>\n",
       "    <tr>\n",
       "      <th>Base – Lentilles</th>\n",
       "      <td>9.02</td>\n",
       "      <td>0.38</td>\n",
       "      <td>20.130</td>\n",
       "      <td>116</td>\n",
       "      <td>3.33</td>\n",
       "      <td>19.00</td>\n",
       "      <td>4.25</td>\n",
       "      <td>0.16</td>\n",
       "    </tr>\n",
       "    <tr>\n",
       "      <th>Base – Semoule</th>\n",
       "      <td>12.68</td>\n",
       "      <td>1.05</td>\n",
       "      <td>72.830</td>\n",
       "      <td>360</td>\n",
       "      <td>1.23</td>\n",
       "      <td>17.00</td>\n",
       "      <td>3.90</td>\n",
       "      <td>0.18</td>\n",
       "    </tr>\n",
       "  </tbody>\n",
       "</table>\n",
       "</div>"
      ],
      "text/plain": [
       "                                Protéines (en g)  Lipides (en g)  \\\n",
       "Produit (100g)                                                     \n",
       "Lait – Emmental                            26.93           27.80   \n",
       "Lait – crème fraîche                       20.90           35.00   \n",
       "Lait – Petit-suisse                         9.40            9.45   \n",
       "Lait – Lait entier (vache)                  3.15            3.25   \n",
       "Lait – Lait entier  (chèvre)                3.56            4.14   \n",
       "Lait – Gruyère                             29.81           32.34   \n",
       "Lait – Camembert                           19.80           24.26   \n",
       "Lait – Fromage de Chévre frais             18.52           21.08   \n",
       "Lait – Beurre                               0.85           81.11   \n",
       "Lait – Yaourt nature                        5.25            1.55   \n",
       "Viande – Boeuf haché                       24.07           20.69   \n",
       "Viande – Jambon                            22.62            9.02   \n",
       "Viande – Merguez                           22.60           19.80   \n",
       "Viande – Gigot d'Agneau                    29.77            8.96   \n",
       "Viande – Côtes d'Agneau                    28.99            9.86   \n",
       "Viande – Saucisson                         15.30           19.87   \n",
       "Viande – Saucisse                          19.43           28.36   \n",
       "Viande – Blanc de Poulet                   29.02           10.85   \n",
       "Viande – Cuisse de Poulet                  25.96           13.46   \n",
       "Poisson – Sardine à l'huile                24.62           11.45   \n",
       "Poisson – Maquereau                        23.85           17.81   \n",
       "Légume – Brocoli                            2.38            0.41   \n",
       "Légume – Carotte cuite                      0.76            0.18   \n",
       "Légume – Carotte crue                       0.93            0.24   \n",
       "Légume – Chou Fleur                         1.84            0.45   \n",
       "Légume – Courge                             0.66            0.34   \n",
       "Légume – Pois Mange tout                    3.27            0.23   \n",
       "Légume – Courgette                          1.14            0.36   \n",
       "Légume – Tomate                             1.65            0.33   \n",
       "Légume – Epinard                            2.97            0.26   \n",
       "Légume – Maïs                               3.27            1.35   \n",
       "Base -  Pâtes Complètes                     5.33            0.54   \n",
       "Base – Riz Complet                          2.32            0.83   \n",
       "Base – Pommes de Terre                      2.31            1.21   \n",
       "Base – Frites                               3.76           17.05   \n",
       "Base -  Pâtes blanches                      5.80            0.93   \n",
       "Base – Riz Blanc                            2.38            0.21   \n",
       "Base – Haricots rouges                      5.26            0.36   \n",
       "Base – Haricots blancs                      5.54            5.15   \n",
       "Base – Lentilles                            9.02            0.38   \n",
       "Base – Semoule                             12.68            1.05   \n",
       "\n",
       "                                Glucides (en g)  Energie (kcal)  Fer (mg)  \\\n",
       "Produit (100g)                                                              \n",
       "Lait – Emmental                           5.380             380      0.20   \n",
       "Lait – crème fraîche                      2.840             328      0.03   \n",
       "Lait – Petit-suisse                       3.300             136      0.20   \n",
       "Lait – Lait entier (vache)                4.800              61      0.30   \n",
       "Lait – Lait entier  (chèvre)              4.450              69      0.05   \n",
       "Lait – Gruyère                            0.360             413      0.17   \n",
       "Lait – Camembert                          0.456             300      0.33   \n",
       "Lait – Fromage de Chévre frais            0.890             268      1.90   \n",
       "Lait – Beurre                             0.060             717      0.02   \n",
       "Lait – Yaourt nature                      7.040              63      0.08   \n",
       "Viande – Boeuf haché                      0.000             289      2.44   \n",
       "Viande – Jambon                           0.000             178      1.34   \n",
       "Viande – Merguez                          0.200             283      2.00   \n",
       "Viande – Gigot d'Agneau                   0.000             200     27.56   \n",
       "Viande – Côtes d'Agneau                   0.000             206      1.69   \n",
       "Viande – Saucisson                        0.730             247      0.77   \n",
       "Viande – Saucisse                         0.000             339      1.36   \n",
       "Viande – Blanc de Poulet                  0.000             222      1.14   \n",
       "Viande – Cuisse de Poulet                 0.000             232      1.33   \n",
       "Poisson – Sardine à l'huile               0.000             208      2.92   \n",
       "Poisson – Maquereau                       0.000             262      1.57   \n",
       "Légume – Brocoli                          7.180              35      0.67   \n",
       "Légume – Carotte cuite                    8.220              35      0.34   \n",
       "Légume – Carotte crue                     9.580              41      0.30   \n",
       "Légume – Chou Fleur                       4.110              23      0.32   \n",
       "Légume – Courge                          14.340              56      0.36   \n",
       "Légume – Pois Mange tout                  7.050              42      1.97   \n",
       "Légume – Courgette                        2.690              15      0.37   \n",
       "Légume – Tomate                           8.980              38      0.45   \n",
       "Légume – Epinard                          3.750              23      3.57   \n",
       "Légume – Maïs                            18.700              86      0.52   \n",
       "Base -  Pâtes Complètes                  26.540             124      1.06   \n",
       "Base – Riz Complet                       23.510             112      0.53   \n",
       "Base – Pommes de Terre                   16.120              83      0.47   \n",
       "Base – Frites                            37.510             319      1.37   \n",
       "Base -  Pâtes blanches                   30.860             158      1.28   \n",
       "Base – Riz Blanc                         28.590             130      0.20   \n",
       "Base – Haricots rouges                   15.540              85      1.27   \n",
       "Base – Haricots blancs                   21.630             155      1.99   \n",
       "Base – Lentilles                         20.130             116      3.33   \n",
       "Base – Semoule                           72.830             360      1.23   \n",
       "\n",
       "                                Calcium (mg)  Fibres (en g)  Prix €/100g  \n",
       "Produit (100g)                                                            \n",
       "Lait – Emmental                       791.00           0.00         1.30  \n",
       "Lait – crème fraîche                   66.30           0.00         0.84  \n",
       "Lait – Petit-suisse                   112.00           0.00         0.44  \n",
       "Lait – Lait entier (vache)            113.00           0.00         0.28  \n",
       "Lait – Lait entier  (chèvre)          134.00           0.00         0.70  \n",
       "Lait – Gruyère                       1011.00           0.00         1.18  \n",
       "Lait – Camembert                      388.00           0.00         1.05  \n",
       "Lait – Fromage de Chévre frais        140.00           0.00         3.00  \n",
       "Lait – Beurre                          24.00           0.00         1.18  \n",
       "Lait – Yaourt nature                  183.00           0.00         0.99  \n",
       "Viande – Boeuf haché                   11.00           0.00         1.10  \n",
       "Viande – Jambon                         8.00           0.00         4.64  \n",
       "Viande – Merguez                       35.90           0.00         1.06  \n",
       "Viande – Gigot d'Agneau                 1.72           0.00         1.99  \n",
       "Viande – Côtes d'Agneau                15.00           0.00         3.70  \n",
       "Viande – Saucisson                     11.00           0.00         3.21  \n",
       "Viande – Saucisse                      13.00           0.00         1.32  \n",
       "Viande – Blanc de Poulet               15.00           0.00         0.53  \n",
       "Viande – Cuisse de Poulet              12.00           0.00         1.13  \n",
       "Poisson – Sardine à l'huile           382.00           0.00         3.00  \n",
       "Poisson – Maquereau                    15.00           0.00         0.69  \n",
       "Légume – Brocoli                       40.00           2.40         0.32  \n",
       "Légume – Carotte cuite                 30.00           2.70         0.45  \n",
       "Légume – Carotte crue                  33.00           2.44         0.39  \n",
       "Légume – Chou Fleur                    16.00           2.30         0.40  \n",
       "Légume – Courge                         9.00           2.90         0.32  \n",
       "Légume – Pois Mange tout               42.00           2.80         0.50  \n",
       "Légume – Courgette                     18.00           1.00         0.37  \n",
       "Légume – Tomate                        18.00           1.90         0.59  \n",
       "Légume – Epinard                      136.00           2.40         0.58  \n",
       "Légume – Maïs                           2.00           2.00         0.43  \n",
       "Base -  Pâtes Complètes                15.00           3.23         0.24  \n",
       "Base – Riz Complet                     10.00           1.91         0.33  \n",
       "Base – Pommes de Terre                 21.00           1.18         0.25  \n",
       "Base – Frites                          13.00           3.50         0.35  \n",
       "Base -  Pâtes blanches                  7.00           1.80         0.24  \n",
       "Base – Riz Blanc                        3.00           0.50         0.33  \n",
       "Base – Haricots rouges                 25.00           5.40         0.42  \n",
       "Base – Haricots blancs                 61.00           5.50         0.13  \n",
       "Base – Lentilles                       19.00           4.25         0.16  \n",
       "Base – Semoule                         17.00           3.90         0.18  "
      ]
     },
     "execution_count": 92,
     "metadata": {},
     "output_type": "execute_result"
    }
   ],
   "source": [
    "Al"
   ]
  },
  {
   "cell_type": "code",
   "execution_count": 108,
   "metadata": {
    "collapsed": true
   },
   "outputs": [],
   "source": [
    "A=np.array(Al).T\n",
    "coeff=A[[0,1,2,4,5,6,7]] ## matrice des coefficients\n",
    "z_ori=A[3]### coefficients de la fonction de coût\n",
    "betaF=np.array([75,90,225,2000,9,800,45,0]) ## second membre pour les femmes"
   ]
  },
  {
   "cell_type": "code",
   "execution_count": 109,
   "metadata": {},
   "outputs": [
    {
     "data": {
      "text/plain": [
       "array([ 380.,  328.,  136.,   61.,   69.,  413.,  300.,  268.,  717.,\n",
       "         63.,  289.,  178.,  283.,  200.,  206.,  247.,  339.,  222.,\n",
       "        232.,  208.,  262.,   35.,   35.,   41.,   23.,   56.,   42.,\n",
       "         15.,   38.,   23.,   86.,  124.,  112.,   83.,  319.,  158.,\n",
       "        130.,   85.,  155.,  116.,  360.])"
      ]
     },
     "execution_count": 109,
     "metadata": {},
     "output_type": "execute_result"
    }
   ],
   "source": [
    "z_ori"
   ]
  },
  {
   "cell_type": "code",
   "execution_count": 110,
   "metadata": {},
   "outputs": [
    {
     "name": "stdout",
     "output_type": "stream",
     "text": [
      "Pour les femmes.\n",
      "Un repas est constitué de  de 166.36 g de crème fraîche, de 12.37 g de Beurre, de 1714.29 g de Courge et de 465.04 g de Epinard.  Il coûte un total de 1701.34 euros et comprend 1701.34 calories.\n"
     ]
    }
   ],
   "source": [
    "RESULTF=so.linprog(z_ori, A_ub=-coeff, b_ub=-betaF,method='simplex') \n",
    "print('Pour les femmes.')\n",
    "repas(RESULTF)"
   ]
  },
  {
   "cell_type": "markdown",
   "metadata": {},
   "source": [
    "Ceci est incohérent, on doit réécrire les fonctions de résultats"
   ]
  },
  {
   "cell_type": "code",
   "execution_count": 114,
   "metadata": {
    "collapsed": true
   },
   "outputs": [],
   "source": [
    "def repas_regime(RESULT):\n",
    "    A=RESULT.x\n",
    "    u,=A.nonzero()\n",
    "    Qt=A[u]\n",
    "    Phrase='Un repas est constitué de '\n",
    "    for s in range(len(u)-1):\n",
    "        if s>0 : Phrase+=','\n",
    "        gr=Qt[s]*100\n",
    "        old_name=Al.iloc[u].index[s]\n",
    "        name = rename_aliment(old_name)\n",
    "        Phrase+=' de {:0.2f} g de {}'.format(gr,name)\n",
    "    s=len(u)-1    \n",
    "    gr=Qt[s]*100\n",
    "    old_name=Al.iloc[u].index[s]\n",
    "    name = rename_aliment(old_name)\n",
    "    Phrase+=' et de {:0.2f} g de {}. '.format(gr,name)\n",
    "    REPAS=apports(RESULT)\n",
    "    Phrase+=' Il coûte un total de {:0.2f} euros et comprend {:0.2f} calories.'.format(REPAS['Prix (en €)'][-1],REPAS['Energie (kcal)'][-1])\n",
    "    print(Phrase)"
   ]
  },
  {
   "cell_type": "code",
   "execution_count": 117,
   "metadata": {},
   "outputs": [
    {
     "name": "stdout",
     "output_type": "stream",
     "text": [
      "Pour les femmes.\n",
      "Un repas est constitué de  de 166.36 g de crème fraîche, de 12.37 g de Beurre, de 1714.29 g de Courge et de 465.04 g de Epinard.  Il coûte un total de 9.73 euros et comprend 1701.34 calories.\n"
     ]
    }
   ],
   "source": [
    "bdns = [(0,None) for k in range(41)]\n",
    "bdns[25] = (0,5)\n",
    "RESULTF=so.linprog(z_ori, A_ub=-coeff, b_ub=-betaF,method='simplex') \n",
    "print('Pour les femmes.')\n",
    "repas_regime(RESULTF)"
   ]
  },
  {
   "attachments": {},
   "cell_type": "markdown",
   "metadata": {},
   "source": [
    "# QUESTION 4"
   ]
  },
  {
   "attachments": {},
   "cell_type": "markdown",
   "metadata": {},
   "source": [
    "Faire une étude détaillée en faisant évoluer le budget"
   ]
  },
  {
   "cell_type": "code",
   "execution_count": null,
   "metadata": {},
   "outputs": [],
   "source": [
    "A=np.array(Al).T\n",
    "coeff=A[[0,1,2,4,5,6,7]]##matrice des coefficients,on a éliminé la colonne qui correspond au calorie soit la colonne 4 indice 3\n",
    "z_ori=A[3]### coefficients de la fonction de coût\n",
    "betaF=np.array([75,90,225,2000,9,800,45,-k]) ## second membre pour les femmes\n",
    "coeff[-1]= -A[[7]]\n",
    "bdns = [(0,None) for k in range(41)]\n",
    "bdns[25] = (0,5)"
   ]
  },
  {
   "cell_type": "markdown",
   "metadata": {},
   "source": []
  },
  {
   "cell_type": "code",
   "execution_count": null,
   "metadata": {},
   "outputs": [],
   "source": [
    "X=[]\n",
    "for k in [2,4,6,8,10,12,14,16,18,20]:\n",
    "    betaFE=np.array([75,90,225,2000,9,800,45,-k])\n",
    "    RESULTFE=so.linprog(z_ori, A_ub=-coeff, b_ub=-betaFE,method='simplex',bounds = bdns)\n",
    "    if RESULTFE.success==True:\n",
    "        print('\\nPour les femmes avec un prix de {} euros.'.format(k))\n",
    "        repas_regime(RESULTFE)\n",
    "        qte=RESULTFE.x\n",
    "        X.append(list(qte))\n",
    "    else : print('\\nRepas impossible pour le prix {} euros.'.format(k))"
   ]
  },
  {
   "cell_type": "code",
   "execution_count": null,
   "metadata": {},
   "outputs": [],
   "source": [
    "import matplotlib.pyplot as plt\n",
    "import ipywidgets as wid"
   ]
  },
  {
   "cell_type": "code",
   "execution_count": null,
   "metadata": {},
   "outputs": [],
   "source": [
    "Xar=np.array(X)\n",
    "plt.stackplot(Xar[0],Xar[1],Xar[2],Xar[3],Xar[4],Xar[5], baseline = 'zero')\n",
    "plt.show()"
   ]
  },
  {
   "cell_type": "code",
   "execution_count": null,
   "metadata": {},
   "outputs": [],
   "source": [
    "plt.plot(Xar)"
   ]
  }
 ],
 "metadata": {
  "kernelspec": {
   "display_name": "Python 3",
   "language": "python",
   "name": "python3"
  },
  "language_info": {
   "codemirror_mode": {
    "name": "ipython",
    "version": 3
   },
   "file_extension": ".py",
   "mimetype": "text/x-python",
   "name": "python",
   "nbconvert_exporter": "python",
   "pygments_lexer": "ipython3",
   "version": "3.11.2"
  }
 },
 "nbformat": 4,
 "nbformat_minor": 2
}
