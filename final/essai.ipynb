{
 "cells": [
  {
   "cell_type": "code",
   "execution_count": 1,
   "metadata": {},
   "outputs": [],
   "source": [
    "import warnings\n",
    "import numpy as np\n",
    "import pandas as pd\n",
    "import scipy.optimize as so\n",
    "from serde.json import from_json, to_json\n",
    "\n",
    "from data import Donnees\n",
    "\n",
    "# Extraire les valeurs associées à chaque aliment\n",
    "Al = pd.read_csv('./Aliments.csv', sep=';', index_col=0)\n",
    "aliments = np.array(Al).T\n",
    "\n",
    "\n",
    "def apports(RESULT):\n",
    "    \"\"\"La fonction apport permet de calculer les apports de chaque aliments nécessaire pour réaliser l'optimum.\n",
    "\n",
    "    Args:\n",
    "        RESULT (_OptimizeResult_): scipy.optimize.OptimizeResult est un objet scipy optimise,\n",
    "        qui retourne plusieurs éléments en fonction de la réussite de l'optimisation, \n",
    "        comme {x} la valeur réalisant l'optimum, {fun} la valeur que prend notre fonction à l'optimum etc.\n",
    "\n",
    "    Returns:\n",
    "        REPAS(_pd.dataframe_): dataframe pandas comprenant les quantités \n",
    "        de chaque aliments non nul pour réaliser l'optimum, ainsi que le détails\n",
    "        de ces quantité en valeur our chaque nutriment.\n",
    "    \"\"\"\n",
    "    A = RESULT.x\n",
    "    u, = A.nonzero()\n",
    "    REST = Al.iloc[u, :]\n",
    "    QTE = pd.DataFrame(\n",
    "        {'Quantités en g': 100*A[A.nonzero()]}).set_index(Al.iloc[u, :].index)\n",
    "    BILAN = pd.DataFrame(\n",
    "        (np.array(REST).T*A[A.nonzero()]).T).set_index(QTE.index)\n",
    "    REPAS = pd.concat([QTE, BILAN], axis=1)\n",
    "    REPAS = REPAS.append([REPAS.sum()])\n",
    "    Namescol = ['Quantité (en g)']+list(Al.columns)\n",
    "    Namescol[-1] = 'Prix (en €)'\n",
    "    REPAS.columns = Namescol\n",
    "    Namesrow = list(QTE.index)\n",
    "    Namesrow.append('Apports du repas')\n",
    "    REPAS.index = Namesrow\n",
    "    return REPAS\n",
    "\n",
    "\n",
    "def rename_aliment(old_name):\n",
    "    \"\"\"\n",
    "    Fonction qui permet d'enlever le type de chaque aliment de sorte à fournir un résultat plus clair.\n",
    "    \"\"\"\n",
    "    new_name = old_name.replace(\"Lait – \", \"\")\n",
    "    new_name = new_name.replace(\"Viande – \", \"\")\n",
    "    new_name = new_name.replace(\"Poisson – \", \"\")\n",
    "    new_name = new_name.replace(\"Légume – \", \"\")\n",
    "    new_name = new_name.replace(\"Base – \", \"\")\n",
    "    return new_name\n",
    "\n",
    "\n",
    "def resoud(donnees: Donnees) -> str:\n",
    "    \"\"\"_summary_\n",
    "\n",
    "afin de vérifier si l'optimisation est un succès : OptimizeResult.status\n",
    "    Args:\n",
    "        donnees (_str_): fichier codé en .json avec les données du problème.\n",
    "\n",
    "    Returns:\n",
    "        phrase(_str_): phrase synthétisant le résultat de l'optimisation, en fournissant\n",
    "        les aliments et les quantités réalisant l'optimum, le prix ainsi que les calorie du repas optimal.\n",
    "    \"\"\"\n",
    "    # Extraire les données de l'objet Donnees\n",
    "    # nutriments = Donnees.nutriments\n",
    "    # aliments_index = Donnees.aliments_index\n",
    "    # contraintes_aliments = Donnees.contraintes_aliments\n",
    "    # contraintes_couts = Donnees.contraintes_couts\n",
    "    # besoins_journaliers = Donnees.besoins_journaliers\n",
    "\n",
    "    # Formater les contraintes des aliments\n",
    "    coeff = aliments[:-1] \n",
    "    bdns = [(0,None) for k in range(41)]\n",
    "    bdns[38] = (0,5)\n",
    "\n",
    "    # Formater les contraintes des coûts\n",
    "    # b_eq = contraintes_couts[0]\n",
    "\n",
    "    # Formater les besoins journaliers\n",
    "    # k = int\n",
    "    with open('../donnees.json', 'r') as f:\n",
    "        donnees = from_json(Donnees,f.read())\n",
    "    betaFE = np.array(donnees.betaF)\n",
    "\n",
    "    # Formater la fonction objectif(minimiser le coût)\n",
    "    c = aliments[-1]\n",
    "\n",
    "    # Résoudre le problème d'optimisation linéaire\n",
    "    \n",
    "    ## désactiver les avertissements de type \"DeprecationWarning\"\n",
    "    warnings.simplefilter('ignore', DeprecationWarning)\n",
    "    RESULT = so.linprog(c, A_ub=-coeff, b_ub=-betaFE, method='simplex', bounds=bdns)\n",
    "    if RESULT.success !=True:\n",
    "        raise ValueError(\"L'optimisation sans contraintes supplémentaires est un échec\")\n",
    "    RESULTF= so.linprog(c, A_ub=np.concatenate((-coeff,coeff),axis=0), b_ub=np.concatenate((-betaFE,1.1*betaFE),axis=0),method='simplex')\n",
    "    if RESULTF.success !=True:\n",
    "        raise ValueError(\"L'optimisation avec contraintes supplémentaires est un échec\")\n",
    "    \n",
    "    ## réactiver les avertissements de type \"DeprecationWarning\"\n",
    "    warnings.simplefilter('default', DeprecationWarning)\n",
    "    \n",
    "    # Formatter la solution sans limite\n",
    "    A = RESULT.x\n",
    "    u, = A.nonzero()\n",
    "    Qt = A[u]\n",
    "    Phrase = \"Un repas sans contrainte supplémentaires est constitué de \"\n",
    "    for s in range(len(u)-1):\n",
    "        if s > 0:\n",
    "            Phrase += \",\"\n",
    "        gr = Qt[s]*100\n",
    "        old_name = Al.iloc[u].index[s]\n",
    "        name = rename_aliment(old_name)\n",
    "        Phrase += \" de {:0.2f} g de {}\".format(gr, name)\n",
    "    s = len(u)-1\n",
    "    gr = Qt[s]*100\n",
    "    old_name = Al.iloc[u].index[s]\n",
    "    name = rename_aliment(old_name)\n",
    "    Phrase += \" et de {:0.2f} g de {}. \".format(gr, name)\n",
    "    REPAS = apports(RESULT)\n",
    "    Phrase += \" Il coûte un total de {:0.2f} euros et comprend {:0.2f} calories. Nous avons fixé une limite à la quantité de haricots blancs pour avoir un repas plus varié.\".format(\n",
    "        RESULT.fun, REPAS['Energie (kcal)'][-1])\n",
    "    # Formatter la solution avec limite de 10%\n",
    "    B = RESULTF.x\n",
    "    u_2, = B.nonzero()\n",
    "    Qt = A[u_2]\n",
    "    Phrase_2 = \" Un repas avec 10% de contraintes supplémentaires est constitué de \"\n",
    "    for s in range(len(u_2)-1):\n",
    "        if s > 0:\n",
    "            Phrase_2 += ','\n",
    "        gr = Qt[s]*100\n",
    "        old_name = Al.iloc[u_2].index[s]\n",
    "        name = rename_aliment(old_name)\n",
    "        Phrase_2 += \" de {:0.2f} g de {}\".format(gr, name)\n",
    "    s = len(u_2)-1\n",
    "    gr = Qt[s]*100\n",
    "    old_name = Al.iloc[u_2].index[s]\n",
    "    name = rename_aliment(old_name)\n",
    "    Phrase_2 += \" et de {:0.2f} g de {}. \".format(gr, name)\n",
    "    REPAS = apports(RESULTF)\n",
    "    Phrase_2 += \" Il coûte un total de {:0.2f} euros et comprend {:0.2f} calories.\".format(\n",
    "        RESULTF.fun, REPAS['Energie (kcal)'][-1])\n",
    "    return Phrase, Phrase_2"
   ]
  },
  {
   "cell_type": "code",
   "execution_count": 2,
   "metadata": {},
   "outputs": [],
   "source": [
    "import typer\n",
    "application = typer.Typer()"
   ]
  },
  {
   "cell_type": "code",
   "execution_count": 3,
   "metadata": {},
   "outputs": [],
   "source": [
    "@application.command()\n",
    "def calcule(nom_fichier: str):\n",
    "    with open(nom_fichier, \"r\") as fichier:\n",
    "        code = fichier.read()\n",
    "        \n",
    "    donnees = from_json(Donnees, code)\n",
    "    solution = resoud(donnees)\n",
    "    print(solution)"
   ]
  },
  {
   "cell_type": "code",
   "execution_count": 4,
   "metadata": {},
   "outputs": [
    {
     "name": "stdout",
     "output_type": "stream",
     "text": [
      "('Un repas sans contrainte supplémentaires est constitué de  de 42.05 g de Gruyère, de 285.57 g de Frites, de 500.00 g de Haricots blancs, de 7.78 g de Lentilles et de 183.95 g de Semoule.  Il coûte un total de 2.49 euros et comprend 2530.90 calories. Nous avons fixé une limite à la quantité de haricots blancs pour avoir un repas plus varié.', ' Un repas avec 10% de contraintes supplémentaires est constitué de  de 0.00 g de crème fraîche, de 42.05 g de Gruyère, de 0.00 g de Beurre, de 0.00 g de Courge, de 0.00 g de Haricots rouges, de 500.00 g de Haricots blancs et de 183.95 g de Semoule.  Il coûte un total de 5.42 euros et comprend 2000.00 calories.')\n"
     ]
    },
    {
     "name": "stderr",
     "output_type": "stream",
     "text": [
      "C:\\Users\\karl\\AppData\\Local\\Temp\\ipykernel_11400\\2077611437.py:35: FutureWarning: The frame.append method is deprecated and will be removed from pandas in a future version. Use pandas.concat instead.\n",
      "  REPAS = REPAS.append([REPAS.sum()])\n",
      "C:\\Users\\karl\\AppData\\Local\\Temp\\ipykernel_11400\\2077611437.py:35: FutureWarning: The frame.append method is deprecated and will be removed from pandas in a future version. Use pandas.concat instead.\n",
      "  REPAS = REPAS.append([REPAS.sum()])\n"
     ]
    }
   ],
   "source": [
    "calcule('../donnees.json')"
   ]
  },
  {
   "cell_type": "code",
   "execution_count": 5,
   "metadata": {},
   "outputs": [],
   "source": [
    "with open('../donnees.json', 'r') as f:\n",
    "        donnees_dict = from_json(Donnees,f.read())"
   ]
  },
  {
   "cell_type": "code",
   "execution_count": 6,
   "metadata": {},
   "outputs": [
    {
     "data": {
      "text/plain": [
       "[75, 90, 225, 2000, 9, 800, 45]"
      ]
     },
     "execution_count": 6,
     "metadata": {},
     "output_type": "execute_result"
    }
   ],
   "source": [
    "donnees_dict.betaF"
   ]
  },
  {
   "cell_type": "code",
   "execution_count": 7,
   "metadata": {},
   "outputs": [
    {
     "name": "stderr",
     "output_type": "stream",
     "text": [
      "C:\\Users\\karl\\AppData\\Local\\Temp\\ipykernel_11400\\1011478072.py:5: DeprecationWarning: `method='simplex'` is deprecated and will be removed in SciPy 1.11.0. Please use one of the HiGHS solvers (e.g. `method='highs'`) in new code.\n",
      "  RESULTF=so.linprog(z_ori, A_ub=-coeff, b_ub=-np.array(donnees_dict.betaF),method='simplex')\n"
     ]
    }
   ],
   "source": [
    "Al = pd.read_csv('./Aliments.csv', sep=';', index_col=0)\n",
    "A=np.array(Al).T\n",
    "coeff=A[:-1] ## matrice des coefficients\n",
    "z_ori=A[-1]### coefficients de la fonction de coût (prix)\n",
    "RESULTF=so.linprog(z_ori, A_ub=-coeff, b_ub=-np.array(donnees_dict.betaF),method='simplex') "
   ]
  },
  {
   "cell_type": "code",
   "execution_count": 8,
   "metadata": {},
   "outputs": [
    {
     "data": {
      "text/plain": [
       " message: Optimization terminated successfully.\n",
       " success: True\n",
       "  status: 0\n",
       "     fun: 2.052827380785162\n",
       "       x: [ 0.000e+00  0.000e+00 ...  0.000e+00  0.000e+00]\n",
       "     nit: 20"
      ]
     },
     "execution_count": 8,
     "metadata": {},
     "output_type": "execute_result"
    }
   ],
   "source": [
    "RESULTF"
   ]
  },
  {
   "cell_type": "code",
   "execution_count": 25,
   "metadata": {},
   "outputs": [
    {
     "name": "stderr",
     "output_type": "stream",
     "text": [
      "C:\\Users\\karl\\AppData\\Local\\Temp\\ipykernel_11400\\2077611437.py:35: FutureWarning: The frame.append method is deprecated and will be removed from pandas in a future version. Use pandas.concat instead.\n",
      "  REPAS = REPAS.append([REPAS.sum()])\n"
     ]
    },
    {
     "data": {
      "text/plain": [
       "74.78538532433176"
      ]
     },
     "execution_count": 25,
     "metadata": {},
     "output_type": "execute_result"
    }
   ],
   "source": [
    "apports(RESULTF).values[1,1]"
   ]
  }
 ],
 "metadata": {
  "kernelspec": {
   "display_name": "Python 3",
   "language": "python",
   "name": "python3"
  },
  "language_info": {
   "codemirror_mode": {
    "name": "ipython",
    "version": 3
   },
   "file_extension": ".py",
   "mimetype": "text/x-python",
   "name": "python",
   "nbconvert_exporter": "python",
   "pygments_lexer": "ipython3",
   "version": "3.11.2"
  },
  "orig_nbformat": 4
 },
 "nbformat": 4,
 "nbformat_minor": 2
}
