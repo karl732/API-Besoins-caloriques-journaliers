{
 "cells": [
  {
   "cell_type": "code",
   "execution_count": 2,
   "metadata": {
    "collapsed": true
   },
   "outputs": [],
   "source": [
    "import pandas as pd\n",
    "import numpy as np\n",
    "np.set_printoptions(precision=1,suppress=True)"
   ]
  },
  {
   "attachments": {},
   "cell_type": "markdown",
   "metadata": {},
   "source": [
    "# Sujet 02 : Régime Alimentaire\n",
    "\n",
    "On utilisera les données contenues dans le fichier `Aliments.csv` dans la suite.\n",
    "\n",
    "1. Les besoins  journaliers de Marie sont les suivants :\n",
    "- Kcal : 2000kcal (F)\n",
    "- Protéines : 75g (F)\n",
    "- Glucides : 225g (F)\n",
    "- Lipides : 90g (F)\n",
    "- Fer : 9mg (F) \n",
    "- Calcium : 0.8g (F)\n",
    "- Fibre : 45g (F)\n",
    "\n",
    "**Comment doit-elle satisfaire ses besoins si elle veut minimiser son budget?**\n",
    "\n",
    "2. Comment procéder si elle ne veut pas dépasser de plus de 10% les apports journaliers?"
   ]
  },
  {
   "attachments": {},
   "cell_type": "markdown",
   "metadata": {},
   "source": [
    "Reformumation du problème et mise en place des, étapes à suivre.\n",
    "On considère que les régimes ne doivent pas apporter moins que ces quantités.\n",
    "\n",
    "1) Proposer le régime journalier le moins cher pour marie et pour les femmes en général.\n",
    "\n",
    "2) Même question en considérant que les différents critéres ne doivent pas dépasser 1.1 fois (10%) la dose recommandé.\n",
    "\n",
    "3) Dans le but d 'un régime, on souhaite minimiser son budget, mais aussi minimiser les calories sans s'opposer aux autres contraintes. Le faire sans contraintes de budget (H et F) puis avec différents niveaux de contraintes journalières. \n",
    "\n",
    "4) Faire une étude détaillé  du menu proposé."
   ]
  },
  {
   "cell_type": "markdown",
   "metadata": {},
   "source": [
    "On commence par charger le fichier de donnée dans un data frame (avec panda)"
   ]
  },
  {
   "cell_type": "code",
   "execution_count": 3,
   "metadata": {
    "collapsed": true
   },
   "outputs": [],
   "source": [
    "Al=pd.read_csv('./Aliments.csv',sep=';',index_col=0)"
   ]
  },
  {
   "cell_type": "code",
   "execution_count": 4,
   "metadata": {},
   "outputs": [
    {
     "data": {
      "text/html": [
       "<div>\n",
       "<style scoped>\n",
       "    .dataframe tbody tr th:only-of-type {\n",
       "        vertical-align: middle;\n",
       "    }\n",
       "\n",
       "    .dataframe tbody tr th {\n",
       "        vertical-align: top;\n",
       "    }\n",
       "\n",
       "    .dataframe thead th {\n",
       "        text-align: right;\n",
       "    }\n",
       "</style>\n",
       "<table border=\"1\" class=\"dataframe\">\n",
       "  <thead>\n",
       "    <tr style=\"text-align: right;\">\n",
       "      <th></th>\n",
       "      <th>Protéines (en g)</th>\n",
       "      <th>Lipides (en g)</th>\n",
       "      <th>Glucides (en g)</th>\n",
       "      <th>Energie (kcal)</th>\n",
       "      <th>Fer (mg)</th>\n",
       "      <th>Calcium (mg)</th>\n",
       "      <th>Fibres (en g)</th>\n",
       "      <th>Prix €/100g</th>\n",
       "    </tr>\n",
       "    <tr>\n",
       "      <th>Produit (100g)</th>\n",
       "      <th></th>\n",
       "      <th></th>\n",
       "      <th></th>\n",
       "      <th></th>\n",
       "      <th></th>\n",
       "      <th></th>\n",
       "      <th></th>\n",
       "      <th></th>\n",
       "    </tr>\n",
       "  </thead>\n",
       "  <tbody>\n",
       "    <tr>\n",
       "      <th>Lait – Emmental</th>\n",
       "      <td>26.93</td>\n",
       "      <td>27.80</td>\n",
       "      <td>5.38</td>\n",
       "      <td>380</td>\n",
       "      <td>0.20</td>\n",
       "      <td>791.0</td>\n",
       "      <td>0.0</td>\n",
       "      <td>1.30</td>\n",
       "    </tr>\n",
       "    <tr>\n",
       "      <th>Lait – crème fraîche</th>\n",
       "      <td>20.90</td>\n",
       "      <td>35.00</td>\n",
       "      <td>2.84</td>\n",
       "      <td>328</td>\n",
       "      <td>0.03</td>\n",
       "      <td>66.3</td>\n",
       "      <td>0.0</td>\n",
       "      <td>0.84</td>\n",
       "    </tr>\n",
       "    <tr>\n",
       "      <th>Lait – Petit-suisse</th>\n",
       "      <td>9.40</td>\n",
       "      <td>9.45</td>\n",
       "      <td>3.30</td>\n",
       "      <td>136</td>\n",
       "      <td>0.20</td>\n",
       "      <td>112.0</td>\n",
       "      <td>0.0</td>\n",
       "      <td>0.44</td>\n",
       "    </tr>\n",
       "    <tr>\n",
       "      <th>Lait – Lait entier (vache)</th>\n",
       "      <td>3.15</td>\n",
       "      <td>3.25</td>\n",
       "      <td>4.80</td>\n",
       "      <td>61</td>\n",
       "      <td>0.30</td>\n",
       "      <td>113.0</td>\n",
       "      <td>0.0</td>\n",
       "      <td>0.28</td>\n",
       "    </tr>\n",
       "    <tr>\n",
       "      <th>Lait – Lait entier  (chèvre)</th>\n",
       "      <td>3.56</td>\n",
       "      <td>4.14</td>\n",
       "      <td>4.45</td>\n",
       "      <td>69</td>\n",
       "      <td>0.05</td>\n",
       "      <td>134.0</td>\n",
       "      <td>0.0</td>\n",
       "      <td>0.70</td>\n",
       "    </tr>\n",
       "  </tbody>\n",
       "</table>\n",
       "</div>"
      ],
      "text/plain": [
       "                              Protéines (en g)  Lipides (en g)  \\\n",
       "Produit (100g)                                                   \n",
       "Lait – Emmental                          26.93           27.80   \n",
       "Lait – crème fraîche                     20.90           35.00   \n",
       "Lait – Petit-suisse                       9.40            9.45   \n",
       "Lait – Lait entier (vache)                3.15            3.25   \n",
       "Lait – Lait entier  (chèvre)              3.56            4.14   \n",
       "\n",
       "                              Glucides (en g)  Energie (kcal)  Fer (mg)  \\\n",
       "Produit (100g)                                                            \n",
       "Lait – Emmental                          5.38             380      0.20   \n",
       "Lait – crème fraîche                     2.84             328      0.03   \n",
       "Lait – Petit-suisse                      3.30             136      0.20   \n",
       "Lait – Lait entier (vache)               4.80              61      0.30   \n",
       "Lait – Lait entier  (chèvre)             4.45              69      0.05   \n",
       "\n",
       "                              Calcium (mg)  Fibres (en g)  Prix €/100g  \n",
       "Produit (100g)                                                          \n",
       "Lait – Emmental                      791.0            0.0         1.30  \n",
       "Lait – crème fraîche                  66.3            0.0         0.84  \n",
       "Lait – Petit-suisse                  112.0            0.0         0.44  \n",
       "Lait – Lait entier (vache)           113.0            0.0         0.28  \n",
       "Lait – Lait entier  (chèvre)         134.0            0.0         0.70  "
      ]
     },
     "execution_count": 4,
     "metadata": {},
     "output_type": "execute_result"
    }
   ],
   "source": [
    "Al.head()"
   ]
  },
  {
   "cell_type": "markdown",
   "metadata": {},
   "source": [
    "# Question 1"
   ]
  },
  {
   "cell_type": "markdown",
   "metadata": {},
   "source": [
    "a) Détermination des matrices de travail."
   ]
  },
  {
   "cell_type": "code",
   "execution_count": 5,
   "metadata": {
    "collapsed": true
   },
   "outputs": [],
   "source": [
    "A=np.array(Al).T\n",
    "coeff=A[:-1] ## matrice des coefficients\n",
    "z_ori=A[-1]### coefficients de la fonction de coût (prix)\n",
    "betaF=np.array([75,90,225,2000,9,800,45]) ## second membre pour les femmes\n",
    "# 2000kcal, 75g prot, 225g glu, 90g lip, 9mg fer, 800mg calc, 45g fibre"
   ]
  },
  {
   "attachments": {},
   "cell_type": "markdown",
   "metadata": {},
   "source": [
    "## Formalisation mathématique du problème"
   ]
  },
  {
   "attachments": {},
   "cell_type": "markdown",
   "metadata": {},
   "source": [
    "N = 41 Nombres d'aliments\n",
    "\n",
    "P = 8 Nombre de nutriments\n",
    "\n",
    "$\\beta i$  $\\forall i \\in [1;P]$ est le besoin journalier en nutriments\n",
    "\n",
    "$C_{ij}$ $\\forall i \\in [1;N]$ et $\\forall j \\in [1,P]$ est l'apport du i-ème aliment par rapport au j-ème nutriment : soit 100g du i-ème aliment apporte $C_{ij}$ grammes du j-ème nutriment.\n",
    "\n",
    "$Pi$ $\\forall i \\in [1;N]$ est le prix au 100g du i-ème aliment.\n",
    "\n",
    "$qi$ $\\forall$ i $\\in [1;N]$ est la quantité achetée/consommée du i-ème aliment.\n",
    "\n",
    "$\\sum_{i=1}^{N} C_{ij} q_i \\geq$ $\\beta_j$   $\\forall j \\in [1;P]$ avec $q_i \\geq 0$   $\\forall i \\in [1;N]$\n",
    "\n",
    "$z$ = $\\min \\sum_{i=1}^{N} p_i q_i$ est le coût minimum du repas."
   ]
  },
  {
   "attachments": {},
   "cell_type": "markdown",
   "metadata": {},
   "source": [
    "**Traduction en linprog**\n",
    "\n",
    "z_ori = z ce sont les coéffiscients d'une fonction linéaire à minimiser, ici c'est le vecteur de la 8-ème colonne contennant les prix ($Pi$).\n",
    "\n",
    "A_ub = -coeff est une matrice (tableau-2D) contenant les coéficients de la contrainte d'inégalité, contraints en $x$ avec A_ub $\\times$ $x$ $\\leq$ b_ub, c'est pourquoi ici on a mis un moins devant coeff car nous on veut que les besoins journaliers soient au minimum satisfait si ce n'est plus. Précédement appellé $C_{ij}$ $\\times$ $qi$\n",
    "\n",
    "b_ub = -betaF est le vecteur des besoins journaliers en nutriments. Préccédement noté $\\beta i$. Là encore on a mis un moins devant coeff car nous on veut que les besoins journaliers soient au minimum satisfait si ce n'est plus.\n",
    "\n",
    "bounds = les contraintes de quantités que l'on pourra imposer ou non à un ou plusieurs aliments."
   ]
  },
  {
   "cell_type": "code",
   "execution_count": null,
   "metadata": {},
   "outputs": [],
   "source": []
  },
  {
   "cell_type": "markdown",
   "metadata": {},
   "source": [
    "b) On utilise scipy.optimize"
   ]
  },
  {
   "cell_type": "code",
   "execution_count": 6,
   "metadata": {
    "collapsed": true
   },
   "outputs": [],
   "source": [
    "import scipy.optimize as so"
   ]
  },
  {
   "cell_type": "code",
   "execution_count": 7,
   "metadata": {},
   "outputs": [
    {
     "name": "stderr",
     "output_type": "stream",
     "text": [
      "C:\\Users\\karl\\AppData\\Local\\Temp\\ipykernel_18472\\2621746166.py:1: DeprecationWarning: `method='simplex'` is deprecated and will be removed in SciPy 1.11.0. Please use one of the HiGHS solvers (e.g. `method='highs'`) in new code.\n",
      "  RESULTF=so.linprog(z_ori, A_ub=-coeff, b_ub=-betaF,method='simplex')\n"
     ]
    },
    {
     "data": {
      "text/plain": [
       "<function scipy.optimize._linprog.linprog(c, A_ub=None, b_ub=None, A_eq=None, b_eq=None, bounds=None, method='highs', callback=None, options=None, x0=None, integrality=None)>"
      ]
     },
     "execution_count": 7,
     "metadata": {},
     "output_type": "execute_result"
    }
   ],
   "source": [
    "RESULTF=so.linprog(z_ori, A_ub=-coeff, b_ub=-betaF,method='simplex') \n",
    "RESULTF\n",
    "so.linprog"
   ]
  },
  {
   "cell_type": "code",
   "execution_count": 8,
   "metadata": {},
   "outputs": [
    {
     "data": {
      "text/plain": [
       "2.052827380785162"
      ]
     },
     "execution_count": 8,
     "metadata": {},
     "output_type": "execute_result"
    }
   ],
   "source": [
    "RESULTF.fun ##cout minimal"
   ]
  },
  {
   "cell_type": "code",
   "execution_count": 9,
   "metadata": {},
   "outputs": [
    {
     "data": {
      "text/plain": [
       "array([ 0. ,  0. ,  0. ,  0. ,  0. ,  0. ,  0. ,  0. ,  0.3,  0. ,  0. ,\n",
       "        0. ,  0. ,  0. ,  0. ,  0. ,  0. ,  0. ,  0. ,  0. ,  0. ,  0. ,\n",
       "        0. ,  0. ,  0. ,  0. ,  0. ,  0. ,  0. ,  0. ,  0. ,  0. ,  0. ,\n",
       "        0. ,  0. ,  0. ,  0. ,  0. , 13.5,  0. ,  0. ])"
      ]
     },
     "execution_count": 9,
     "metadata": {},
     "output_type": "execute_result"
    }
   ],
   "source": [
    "A=RESULTF.x ##valeurs réalisant l'optimum\n",
    "A"
   ]
  },
  {
   "attachments": {},
   "cell_type": "markdown",
   "metadata": {},
   "source": [
    "b) Calculons maintenant le data frame calculant les apports de ce repas."
   ]
  },
  {
   "cell_type": "code",
   "execution_count": 10,
   "metadata": {},
   "outputs": [
    {
     "data": {
      "text/html": [
       "<div>\n",
       "<style scoped>\n",
       "    .dataframe tbody tr th:only-of-type {\n",
       "        vertical-align: middle;\n",
       "    }\n",
       "\n",
       "    .dataframe tbody tr th {\n",
       "        vertical-align: top;\n",
       "    }\n",
       "\n",
       "    .dataframe thead th {\n",
       "        text-align: right;\n",
       "    }\n",
       "</style>\n",
       "<table border=\"1\" class=\"dataframe\">\n",
       "  <thead>\n",
       "    <tr style=\"text-align: right;\">\n",
       "      <th></th>\n",
       "      <th>Protéines (en g)</th>\n",
       "      <th>Lipides (en g)</th>\n",
       "      <th>Glucides (en g)</th>\n",
       "      <th>Energie (kcal)</th>\n",
       "      <th>Fer (mg)</th>\n",
       "      <th>Calcium (mg)</th>\n",
       "      <th>Fibres (en g)</th>\n",
       "      <th>Prix €/100g</th>\n",
       "    </tr>\n",
       "    <tr>\n",
       "      <th>Produit (100g)</th>\n",
       "      <th></th>\n",
       "      <th></th>\n",
       "      <th></th>\n",
       "      <th></th>\n",
       "      <th></th>\n",
       "      <th></th>\n",
       "      <th></th>\n",
       "      <th></th>\n",
       "    </tr>\n",
       "  </thead>\n",
       "  <tbody>\n",
       "    <tr>\n",
       "      <th>Lait – Beurre</th>\n",
       "      <td>0.85</td>\n",
       "      <td>81.11</td>\n",
       "      <td>0.06</td>\n",
       "      <td>717</td>\n",
       "      <td>0.02</td>\n",
       "      <td>24.0</td>\n",
       "      <td>0.0</td>\n",
       "      <td>1.18</td>\n",
       "    </tr>\n",
       "    <tr>\n",
       "      <th>Base – Haricots blancs</th>\n",
       "      <td>5.54</td>\n",
       "      <td>5.15</td>\n",
       "      <td>21.63</td>\n",
       "      <td>155</td>\n",
       "      <td>1.99</td>\n",
       "      <td>61.0</td>\n",
       "      <td>5.5</td>\n",
       "      <td>0.13</td>\n",
       "    </tr>\n",
       "  </tbody>\n",
       "</table>\n",
       "</div>"
      ],
      "text/plain": [
       "                        Protéines (en g)  Lipides (en g)  Glucides (en g)  \\\n",
       "Produit (100g)                                                              \n",
       "Lait – Beurre                       0.85           81.11             0.06   \n",
       "Base – Haricots blancs              5.54            5.15            21.63   \n",
       "\n",
       "                        Energie (kcal)  Fer (mg)  Calcium (mg)  Fibres (en g)  \\\n",
       "Produit (100g)                                                                  \n",
       "Lait – Beurre                      717      0.02          24.0            0.0   \n",
       "Base – Haricots blancs             155      1.99          61.0            5.5   \n",
       "\n",
       "                        Prix €/100g  \n",
       "Produit (100g)                       \n",
       "Lait – Beurre                  1.18  \n",
       "Base – Haricots blancs         0.13  "
      ]
     },
     "metadata": {},
     "output_type": "display_data"
    },
    {
     "data": {
      "text/html": [
       "<div>\n",
       "<style scoped>\n",
       "    .dataframe tbody tr th:only-of-type {\n",
       "        vertical-align: middle;\n",
       "    }\n",
       "\n",
       "    .dataframe tbody tr th {\n",
       "        vertical-align: top;\n",
       "    }\n",
       "\n",
       "    .dataframe thead th {\n",
       "        text-align: right;\n",
       "    }\n",
       "</style>\n",
       "<table border=\"1\" class=\"dataframe\">\n",
       "  <thead>\n",
       "    <tr style=\"text-align: right;\">\n",
       "      <th></th>\n",
       "      <th>Quantités en g</th>\n",
       "    </tr>\n",
       "    <tr>\n",
       "      <th>Produit (100g)</th>\n",
       "      <th></th>\n",
       "    </tr>\n",
       "  </thead>\n",
       "  <tbody>\n",
       "    <tr>\n",
       "      <th>Lait – Beurre</th>\n",
       "      <td>25.248785</td>\n",
       "    </tr>\n",
       "    <tr>\n",
       "      <th>Base – Haricots blancs</th>\n",
       "      <td>1349.916703</td>\n",
       "    </tr>\n",
       "  </tbody>\n",
       "</table>\n",
       "</div>"
      ],
      "text/plain": [
       "                        Quantités en g\n",
       "Produit (100g)                        \n",
       "Lait – Beurre                25.248785\n",
       "Base – Haricots blancs     1349.916703"
      ]
     },
     "metadata": {},
     "output_type": "display_data"
    }
   ],
   "source": [
    "u,=A.nonzero()\n",
    "REST=Al.iloc[u,:]\n",
    "display(REST)\n",
    "QTE=pd.DataFrame({'Quantités en g' : 100*A[A.nonzero()]}).set_index(Al.iloc[u,:].index)\n",
    "display(QTE)"
   ]
  },
  {
   "cell_type": "code",
   "execution_count": 11,
   "metadata": {},
   "outputs": [
    {
     "name": "stderr",
     "output_type": "stream",
     "text": [
      "C:\\Users\\karl\\AppData\\Local\\Temp\\ipykernel_18472\\921585303.py:3: FutureWarning: The frame.append method is deprecated and will be removed from pandas in a future version. Use pandas.concat instead.\n",
      "  REPAS=REPAS.append([REPAS.sum()])\n"
     ]
    },
    {
     "data": {
      "text/html": [
       "<div>\n",
       "<style scoped>\n",
       "    .dataframe tbody tr th:only-of-type {\n",
       "        vertical-align: middle;\n",
       "    }\n",
       "\n",
       "    .dataframe tbody tr th {\n",
       "        vertical-align: top;\n",
       "    }\n",
       "\n",
       "    .dataframe thead th {\n",
       "        text-align: right;\n",
       "    }\n",
       "</style>\n",
       "<table border=\"1\" class=\"dataframe\">\n",
       "  <thead>\n",
       "    <tr style=\"text-align: right;\">\n",
       "      <th></th>\n",
       "      <th>Quantité (en g)</th>\n",
       "      <th>Protéines (en g)</th>\n",
       "      <th>Lipides (en g)</th>\n",
       "      <th>Glucides (en g)</th>\n",
       "      <th>Energie (kcal)</th>\n",
       "      <th>Fer (mg)</th>\n",
       "      <th>Calcium (mg)</th>\n",
       "      <th>Fibres (en g)</th>\n",
       "      <th>Prix (en €)</th>\n",
       "    </tr>\n",
       "  </thead>\n",
       "  <tbody>\n",
       "    <tr>\n",
       "      <th>Lait – Beurre</th>\n",
       "      <td>25.248785</td>\n",
       "      <td>0.214615</td>\n",
       "      <td>20.47929</td>\n",
       "      <td>0.015149</td>\n",
       "      <td>181.033791</td>\n",
       "      <td>0.005050</td>\n",
       "      <td>6.059708</td>\n",
       "      <td>0.000000</td>\n",
       "      <td>0.297936</td>\n",
       "    </tr>\n",
       "    <tr>\n",
       "      <th>Base – Haricots blancs</th>\n",
       "      <td>1349.916703</td>\n",
       "      <td>74.785385</td>\n",
       "      <td>69.52071</td>\n",
       "      <td>291.986983</td>\n",
       "      <td>2092.370889</td>\n",
       "      <td>26.863342</td>\n",
       "      <td>823.449189</td>\n",
       "      <td>74.245419</td>\n",
       "      <td>1.754892</td>\n",
       "    </tr>\n",
       "    <tr>\n",
       "      <th>Apports du repas</th>\n",
       "      <td>1375.165488</td>\n",
       "      <td>75.000000</td>\n",
       "      <td>90.00000</td>\n",
       "      <td>292.002132</td>\n",
       "      <td>2273.404680</td>\n",
       "      <td>26.868392</td>\n",
       "      <td>829.508897</td>\n",
       "      <td>74.245419</td>\n",
       "      <td>2.052827</td>\n",
       "    </tr>\n",
       "  </tbody>\n",
       "</table>\n",
       "</div>"
      ],
      "text/plain": [
       "                        Quantité (en g)  Protéines (en g)  Lipides (en g)  \\\n",
       "Lait – Beurre                 25.248785          0.214615        20.47929   \n",
       "Base – Haricots blancs      1349.916703         74.785385        69.52071   \n",
       "Apports du repas            1375.165488         75.000000        90.00000   \n",
       "\n",
       "                        Glucides (en g)  Energie (kcal)   Fer (mg)  \\\n",
       "Lait – Beurre                  0.015149      181.033791   0.005050   \n",
       "Base – Haricots blancs       291.986983     2092.370889  26.863342   \n",
       "Apports du repas             292.002132     2273.404680  26.868392   \n",
       "\n",
       "                        Calcium (mg)  Fibres (en g)  Prix (en €)  \n",
       "Lait – Beurre               6.059708       0.000000     0.297936  \n",
       "Base – Haricots blancs    823.449189      74.245419     1.754892  \n",
       "Apports du repas          829.508897      74.245419     2.052827  "
      ]
     },
     "metadata": {},
     "output_type": "display_data"
    }
   ],
   "source": [
    "\n",
    "BILAN=pd.DataFrame((np.array(REST).T*A[A.nonzero()]).T).set_index(QTE.index)\n",
    "REPAS=pd.concat([QTE,BILAN],axis=1)\n",
    "REPAS=REPAS.append([REPAS.sum()])\n",
    "Namescol=['Quantité (en g)']+list(Al.columns)\n",
    "Namescol[-1]='Prix (en €)'\n",
    "REPAS.columns=Namescol\n",
    "Namesrow=list(QTE.index)\n",
    "Namesrow.append('Apports du repas')\n",
    "REPAS.index=Namesrow\n",
    "display(REPAS)"
   ]
  },
  {
   "cell_type": "markdown",
   "metadata": {},
   "source": [
    "On en fait une fonction"
   ]
  },
  {
   "cell_type": "code",
   "execution_count": 12,
   "metadata": {
    "collapsed": true
   },
   "outputs": [],
   "source": [
    "def apports(RESULT):\n",
    "    A=RESULT.x\n",
    "    u,=A.nonzero()\n",
    "    REST=Al.iloc[u,:]\n",
    "    QTE=pd.DataFrame({'Quantités en g' : 100*A[A.nonzero()]}).set_index(Al.iloc[u,:].index)\n",
    "    BILAN=pd.DataFrame((np.array(REST).T*A[A.nonzero()]).T).set_index(QTE.index)\n",
    "    REPAS=pd.concat([QTE,BILAN],axis=1)\n",
    "    REPAS=REPAS.append([REPAS.sum()])\n",
    "    Namescol=['Quantité (en g)']+list(Al.columns)\n",
    "    Namescol[-1]='Prix (en €)'\n",
    "    REPAS.columns=Namescol\n",
    "    Namesrow=list(QTE.index)\n",
    "    Namesrow.append('Apports du repas')\n",
    "    REPAS.index=Namesrow\n",
    "\n",
    "    return REPAS"
   ]
  },
  {
   "cell_type": "code",
   "execution_count": 13,
   "metadata": {},
   "outputs": [
    {
     "name": "stderr",
     "output_type": "stream",
     "text": [
      "C:\\Users\\karl\\AppData\\Local\\Temp\\ipykernel_18472\\2694851566.py:8: FutureWarning: The frame.append method is deprecated and will be removed from pandas in a future version. Use pandas.concat instead.\n",
      "  REPAS=REPAS.append([REPAS.sum()])\n"
     ]
    },
    {
     "data": {
      "text/plain": [
       "1375.165487978005"
      ]
     },
     "metadata": {},
     "output_type": "display_data"
    }
   ],
   "source": [
    "REPAS=apports(RESULTF)\n",
    "display(REPAS.iloc[-1,0])"
   ]
  },
  {
   "cell_type": "markdown",
   "metadata": {},
   "source": [
    "c) Présentation des résultats"
   ]
  },
  {
   "cell_type": "code",
   "execution_count": 14,
   "metadata": {},
   "outputs": [
    {
     "name": "stdout",
     "output_type": "stream",
     "text": [
      "Lait – Beurre\n",
      "25.25 g\n",
      "Base – Haricots blancs\n",
      "1349.92 g\n"
     ]
    }
   ],
   "source": [
    "##Présentation naive##\n",
    "u,=A.nonzero()\n",
    "for k in u :\n",
    "    print(Al.index[k])\n",
    "    print('{:0.2f} g'.format(A[k]*100))"
   ]
  },
  {
   "cell_type": "code",
   "execution_count": 15,
   "metadata": {
    "collapsed": true
   },
   "outputs": [],
   "source": [
    "##Cette fonction permet d'enlever le type de chaque aliment\n",
    "def rename_aliment(old_name):\n",
    "    new_name=old_name.replace(\"Lait – \", \"\")\n",
    "    new_name=new_name.replace(\"Viande – \", \"\")\n",
    "    new_name=new_name.replace(\"Poisson – \", \"\")\n",
    "    new_name=new_name.replace(\"Légume – \", \"\")\n",
    "    new_name=new_name.replace(\"Base – \", \"\")\n",
    "    return new_name"
   ]
  },
  {
   "cell_type": "code",
   "execution_count": 16,
   "metadata": {},
   "outputs": [
    {
     "name": "stdout",
     "output_type": "stream",
     "text": [
      "Un repas est constitué de  de 25.25 g de Beurre et de 1349.92 g de Haricots blancs.  Il coûte un total de 2.05 euros.\n"
     ]
    }
   ],
   "source": [
    "Phrase='Un repas est constitué de '\n",
    "for s in range(len(u)-1):\n",
    "    if s>0 : Phrase+=','\n",
    "    gr=A[A.nonzero()][s]*100\n",
    "    old_name=Al.iloc[u].index[s]\n",
    "    name = rename_aliment(old_name)\n",
    "    Phrase+=' de {:0.2f} g de {}'.format(gr,name)\n",
    "s=len(u)-1    \n",
    "gr=A[A.nonzero()][s]*100\n",
    "old_name=Al.iloc[u].index[s]\n",
    "name = rename_aliment(old_name)\n",
    "Phrase+=' et de {:0.2f} g de {}. '.format(gr,name)\n",
    "Phrase+=' Il coûte un total de {:0.2f} euros.'.format(RESULTF.fun)\n",
    "print(Phrase)"
   ]
  },
  {
   "cell_type": "markdown",
   "metadata": {},
   "source": [
    "Mettons cela dans une fonction."
   ]
  },
  {
   "cell_type": "code",
   "execution_count": 17,
   "metadata": {
    "collapsed": true
   },
   "outputs": [],
   "source": [
    "def repas(RESULT):\n",
    "    A=RESULT.x\n",
    "    u,=A.nonzero()\n",
    "    Qt=A[u]\n",
    "    Phrase='Un repas est constitué de '\n",
    "    for s in range(len(u)-1):\n",
    "        if s>0 : Phrase+=','\n",
    "        gr=Qt[s]*100\n",
    "        old_name=Al.iloc[u].index[s]\n",
    "        name = rename_aliment(old_name)\n",
    "        Phrase+=' de {:0.2f} g de {}'.format(gr,name)\n",
    "    s=len(u)-1    \n",
    "    gr=Qt[s]*100\n",
    "    old_name=Al.iloc[u].index[s]\n",
    "    name = rename_aliment(old_name)\n",
    "    Phrase+=' et de {:0.2f} g de {}. '.format(gr,name)\n",
    "    REPAS=apports(RESULT)\n",
    "    Phrase+=' Il coûte un total de {:0.2f} euros et comprend {:0.2f} calories.'.format(RESULT.fun,REPAS['Energie (kcal)'][-1])\n",
    "    print(Phrase)"
   ]
  },
  {
   "cell_type": "code",
   "execution_count": 18,
   "metadata": {},
   "outputs": [
    {
     "name": "stdout",
     "output_type": "stream",
     "text": [
      "Pour les femmes.\n",
      "Un repas est constitué de  de 25.25 g de Beurre et de 1349.92 g de Haricots blancs.  Il coûte un total de 2.05 euros et comprend 2273.40 calories.\n"
     ]
    },
    {
     "name": "stderr",
     "output_type": "stream",
     "text": [
      "C:\\Users\\karl\\AppData\\Local\\Temp\\ipykernel_18472\\2694851566.py:8: FutureWarning: The frame.append method is deprecated and will be removed from pandas in a future version. Use pandas.concat instead.\n",
      "  REPAS=REPAS.append([REPAS.sum()])\n"
     ]
    }
   ],
   "source": [
    "# RESULTF=so.linprog(z_ori, A_ub=-coeff, b_ub=-betaF,method='simplex') \n",
    "print('Pour les femmes.')\n",
    "repas(RESULTF)"
   ]
  },
  {
   "cell_type": "markdown",
   "metadata": {
    "collapsed": true
   },
   "source": [
    "# Question 2"
   ]
  },
  {
   "cell_type": "code",
   "execution_count": 20,
   "metadata": {},
   "outputs": [
    {
     "name": "stdout",
     "output_type": "stream",
     "text": [
      "Pour les femmes avec des contraintes supplémentaires.\n",
      "Un repas est constitué de  de 7.19 g de crème fraîche, de 42.66 g de Gruyère, de 57.44 g de Beurre, de 347.57 g de Courge, de 449.99 g de Haricots blancs et de 260.79 g de Semoule.  Il coûte un total de 3.41 euros et comprend 2442.61 calories.\n"
     ]
    },
    {
     "name": "stderr",
     "output_type": "stream",
     "text": [
      "C:\\Users\\karl\\AppData\\Local\\Temp\\ipykernel_18472\\3272262317.py:1: DeprecationWarning: `method='simplex'` is deprecated and will be removed in SciPy 1.11.0. Please use one of the HiGHS solvers (e.g. `method='highs'`) in new code.\n",
      "  RESULTFb=so.linprog(z_ori, A_ub=np.concatenate((-coeff,coeff),axis=0), b_ub=np.concatenate((-betaF,1.5*betaF),axis=0),method='simplex')\n",
      "C:\\Users\\karl\\AppData\\Local\\Temp\\ipykernel_18472\\2694851566.py:8: FutureWarning: The frame.append method is deprecated and will be removed from pandas in a future version. Use pandas.concat instead.\n",
      "  REPAS=REPAS.append([REPAS.sum()])\n"
     ]
    }
   ],
   "source": [
    "RESULTFb=so.linprog(z_ori, A_ub=np.concatenate((-coeff,coeff),axis=0), b_ub=np.concatenate((-betaF,1.5*betaF),axis=0),method='simplex') \n",
    "print('Pour les femmes avec des contraintes supplémentaires.')\n",
    "repas(RESULTFb)"
   ]
  },
  {
   "cell_type": "code",
   "execution_count": 21,
   "metadata": {},
   "outputs": [
    {
     "data": {
      "text/plain": [
       "array([  -75. ,   -90. ,  -225. , -2000. ,    -9. ,  -800. ,   -45. ,\n",
       "         112.5,   135. ,   337.5,  3000. ,    13.5,  1200. ,    67.5])"
      ]
     },
     "execution_count": 21,
     "metadata": {},
     "output_type": "execute_result"
    }
   ],
   "source": [
    "np.concatenate((-betaF,1.5*betaF),axis=0)"
   ]
  },
  {
   "cell_type": "markdown",
   "metadata": {},
   "source": [
    "Analyse additionelle en s'approchant au mieux du minimum.\n"
   ]
  },
  {
   "cell_type": "code",
   "execution_count": 22,
   "metadata": {},
   "outputs": [
    {
     "name": "stderr",
     "output_type": "stream",
     "text": [
      "C:\\Users\\karl\\AppData\\Local\\Temp\\ipykernel_18472\\471151127.py:2: DeprecationWarning: `method='simplex'` is deprecated and will be removed in SciPy 1.11.0. Please use one of the HiGHS solvers (e.g. `method='highs'`) in new code.\n",
      "  RESULTFb=so.linprog(z_ori, A_ub=np.concatenate((-coeff,coeff),axis=0), b_ub=np.concatenate((-betaF,k*betaF),axis=0),method='simplex')\n",
      "C:\\Users\\karl\\AppData\\Local\\Temp\\ipykernel_18472\\2694851566.py:8: FutureWarning: The frame.append method is deprecated and will be removed from pandas in a future version. Use pandas.concat instead.\n",
      "  REPAS=REPAS.append([REPAS.sum()])\n",
      "C:\\Users\\karl\\AppData\\Local\\Temp\\ipykernel_18472\\471151127.py:2: DeprecationWarning: `method='simplex'` is deprecated and will be removed in SciPy 1.11.0. Please use one of the HiGHS solvers (e.g. `method='highs'`) in new code.\n",
      "  RESULTFb=so.linprog(z_ori, A_ub=np.concatenate((-coeff,coeff),axis=0), b_ub=np.concatenate((-betaF,k*betaF),axis=0),method='simplex')\n",
      "C:\\Users\\karl\\AppData\\Local\\Temp\\ipykernel_18472\\2694851566.py:8: FutureWarning: The frame.append method is deprecated and will be removed from pandas in a future version. Use pandas.concat instead.\n",
      "  REPAS=REPAS.append([REPAS.sum()])\n",
      "C:\\Users\\karl\\AppData\\Local\\Temp\\ipykernel_18472\\471151127.py:2: DeprecationWarning: `method='simplex'` is deprecated and will be removed in SciPy 1.11.0. Please use one of the HiGHS solvers (e.g. `method='highs'`) in new code.\n",
      "  RESULTFb=so.linprog(z_ori, A_ub=np.concatenate((-coeff,coeff),axis=0), b_ub=np.concatenate((-betaF,k*betaF),axis=0),method='simplex')\n",
      "C:\\Users\\karl\\AppData\\Local\\Temp\\ipykernel_18472\\2694851566.py:8: FutureWarning: The frame.append method is deprecated and will be removed from pandas in a future version. Use pandas.concat instead.\n",
      "  REPAS=REPAS.append([REPAS.sum()])\n",
      "C:\\Users\\karl\\AppData\\Local\\Temp\\ipykernel_18472\\471151127.py:2: DeprecationWarning: `method='simplex'` is deprecated and will be removed in SciPy 1.11.0. Please use one of the HiGHS solvers (e.g. `method='highs'`) in new code.\n",
      "  RESULTFb=so.linprog(z_ori, A_ub=np.concatenate((-coeff,coeff),axis=0), b_ub=np.concatenate((-betaF,k*betaF),axis=0),method='simplex')\n",
      "C:\\Users\\karl\\AppData\\Local\\Temp\\ipykernel_18472\\2694851566.py:8: FutureWarning: The frame.append method is deprecated and will be removed from pandas in a future version. Use pandas.concat instead.\n",
      "  REPAS=REPAS.append([REPAS.sum()])\n",
      "C:\\Users\\karl\\AppData\\Local\\Temp\\ipykernel_18472\\471151127.py:2: DeprecationWarning: `method='simplex'` is deprecated and will be removed in SciPy 1.11.0. Please use one of the HiGHS solvers (e.g. `method='highs'`) in new code.\n",
      "  RESULTFb=so.linprog(z_ori, A_ub=np.concatenate((-coeff,coeff),axis=0), b_ub=np.concatenate((-betaF,k*betaF),axis=0),method='simplex')\n",
      "C:\\Users\\karl\\AppData\\Local\\Temp\\ipykernel_18472\\2694851566.py:8: FutureWarning: The frame.append method is deprecated and will be removed from pandas in a future version. Use pandas.concat instead.\n",
      "  REPAS=REPAS.append([REPAS.sum()])\n",
      "C:\\Users\\karl\\AppData\\Local\\Temp\\ipykernel_18472\\471151127.py:2: DeprecationWarning: `method='simplex'` is deprecated and will be removed in SciPy 1.11.0. Please use one of the HiGHS solvers (e.g. `method='highs'`) in new code.\n",
      "  RESULTFb=so.linprog(z_ori, A_ub=np.concatenate((-coeff,coeff),axis=0), b_ub=np.concatenate((-betaF,k*betaF),axis=0),method='simplex')\n",
      "C:\\Users\\karl\\AppData\\Local\\Temp\\ipykernel_18472\\2694851566.py:8: FutureWarning: The frame.append method is deprecated and will be removed from pandas in a future version. Use pandas.concat instead.\n",
      "  REPAS=REPAS.append([REPAS.sum()])\n",
      "C:\\Users\\karl\\AppData\\Local\\Temp\\ipykernel_18472\\471151127.py:2: DeprecationWarning: `method='simplex'` is deprecated and will be removed in SciPy 1.11.0. Please use one of the HiGHS solvers (e.g. `method='highs'`) in new code.\n",
      "  RESULTFb=so.linprog(z_ori, A_ub=np.concatenate((-coeff,coeff),axis=0), b_ub=np.concatenate((-betaF,k*betaF),axis=0),method='simplex')\n",
      "C:\\Users\\karl\\AppData\\Local\\Temp\\ipykernel_18472\\2694851566.py:8: FutureWarning: The frame.append method is deprecated and will be removed from pandas in a future version. Use pandas.concat instead.\n",
      "  REPAS=REPAS.append([REPAS.sum()])\n",
      "C:\\Users\\karl\\AppData\\Local\\Temp\\ipykernel_18472\\471151127.py:2: DeprecationWarning: `method='simplex'` is deprecated and will be removed in SciPy 1.11.0. Please use one of the HiGHS solvers (e.g. `method='highs'`) in new code.\n",
      "  RESULTFb=so.linprog(z_ori, A_ub=np.concatenate((-coeff,coeff),axis=0), b_ub=np.concatenate((-betaF,k*betaF),axis=0),method='simplex')\n",
      "C:\\Users\\karl\\AppData\\Local\\Temp\\ipykernel_18472\\2694851566.py:8: FutureWarning: The frame.append method is deprecated and will be removed from pandas in a future version. Use pandas.concat instead.\n",
      "  REPAS=REPAS.append([REPAS.sum()])\n",
      "C:\\Users\\karl\\AppData\\Local\\Temp\\ipykernel_18472\\471151127.py:2: DeprecationWarning: `method='simplex'` is deprecated and will be removed in SciPy 1.11.0. Please use one of the HiGHS solvers (e.g. `method='highs'`) in new code.\n",
      "  RESULTFb=so.linprog(z_ori, A_ub=np.concatenate((-coeff,coeff),axis=0), b_ub=np.concatenate((-betaF,k*betaF),axis=0),method='simplex')\n",
      "C:\\Users\\karl\\AppData\\Local\\Temp\\ipykernel_18472\\2694851566.py:8: FutureWarning: The frame.append method is deprecated and will be removed from pandas in a future version. Use pandas.concat instead.\n",
      "  REPAS=REPAS.append([REPAS.sum()])\n",
      "C:\\Users\\karl\\AppData\\Local\\Temp\\ipykernel_18472\\471151127.py:2: DeprecationWarning: `method='simplex'` is deprecated and will be removed in SciPy 1.11.0. Please use one of the HiGHS solvers (e.g. `method='highs'`) in new code.\n",
      "  RESULTFb=so.linprog(z_ori, A_ub=np.concatenate((-coeff,coeff),axis=0), b_ub=np.concatenate((-betaF,k*betaF),axis=0),method='simplex')\n",
      "C:\\Users\\karl\\AppData\\Local\\Temp\\ipykernel_18472\\2694851566.py:8: FutureWarning: The frame.append method is deprecated and will be removed from pandas in a future version. Use pandas.concat instead.\n",
      "  REPAS=REPAS.append([REPAS.sum()])\n",
      "C:\\Users\\karl\\AppData\\Local\\Temp\\ipykernel_18472\\471151127.py:2: DeprecationWarning: `method='simplex'` is deprecated and will be removed in SciPy 1.11.0. Please use one of the HiGHS solvers (e.g. `method='highs'`) in new code.\n",
      "  RESULTFb=so.linprog(z_ori, A_ub=np.concatenate((-coeff,coeff),axis=0), b_ub=np.concatenate((-betaF,k*betaF),axis=0),method='simplex')\n",
      "C:\\Users\\karl\\AppData\\Local\\Temp\\ipykernel_18472\\2694851566.py:8: FutureWarning: The frame.append method is deprecated and will be removed from pandas in a future version. Use pandas.concat instead.\n",
      "  REPAS=REPAS.append([REPAS.sum()])\n",
      "C:\\Users\\karl\\AppData\\Local\\Temp\\ipykernel_18472\\471151127.py:2: DeprecationWarning: `method='simplex'` is deprecated and will be removed in SciPy 1.11.0. Please use one of the HiGHS solvers (e.g. `method='highs'`) in new code.\n",
      "  RESULTFb=so.linprog(z_ori, A_ub=np.concatenate((-coeff,coeff),axis=0), b_ub=np.concatenate((-betaF,k*betaF),axis=0),method='simplex')\n",
      "C:\\Users\\karl\\AppData\\Local\\Temp\\ipykernel_18472\\2694851566.py:8: FutureWarning: The frame.append method is deprecated and will be removed from pandas in a future version. Use pandas.concat instead.\n",
      "  REPAS=REPAS.append([REPAS.sum()])\n",
      "C:\\Users\\karl\\AppData\\Local\\Temp\\ipykernel_18472\\471151127.py:2: DeprecationWarning: `method='simplex'` is deprecated and will be removed in SciPy 1.11.0. Please use one of the HiGHS solvers (e.g. `method='highs'`) in new code.\n",
      "  RESULTFb=so.linprog(z_ori, A_ub=np.concatenate((-coeff,coeff),axis=0), b_ub=np.concatenate((-betaF,k*betaF),axis=0),method='simplex')\n",
      "C:\\Users\\karl\\AppData\\Local\\Temp\\ipykernel_18472\\2694851566.py:8: FutureWarning: The frame.append method is deprecated and will be removed from pandas in a future version. Use pandas.concat instead.\n",
      "  REPAS=REPAS.append([REPAS.sum()])\n",
      "C:\\Users\\karl\\AppData\\Local\\Temp\\ipykernel_18472\\471151127.py:2: DeprecationWarning: `method='simplex'` is deprecated and will be removed in SciPy 1.11.0. Please use one of the HiGHS solvers (e.g. `method='highs'`) in new code.\n",
      "  RESULTFb=so.linprog(z_ori, A_ub=np.concatenate((-coeff,coeff),axis=0), b_ub=np.concatenate((-betaF,k*betaF),axis=0),method='simplex')\n"
     ]
    },
    {
     "name": "stdout",
     "output_type": "stream",
     "text": [
      "\n",
      "Pour les femmes avec des contraintes supplémentaires entre le minimum et 30 fois le minimum.\n",
      "Un repas est constitué de  de 25.25 g de Beurre et de 1349.92 g de Haricots blancs.  Il coûte un total de 2.05 euros et comprend 2273.40 calories.\n",
      "\n",
      "Pour les femmes avec des contraintes supplémentaires entre le minimum et 20 fois le minimum.\n",
      "Un repas est constitué de  de 25.25 g de Beurre et de 1349.92 g de Haricots blancs.  Il coûte un total de 2.05 euros et comprend 2273.40 calories.\n",
      "\n",
      "Pour les femmes avec des contraintes supplémentaires entre le minimum et 10 fois le minimum.\n",
      "Un repas est constitué de  de 25.25 g de Beurre et de 1349.92 g de Haricots blancs.  Il coûte un total de 2.05 euros et comprend 2273.40 calories.\n",
      "\n",
      "Pour les femmes avec des contraintes supplémentaires entre le minimum et 5 fois le minimum.\n",
      "Un repas est constitué de  de 25.25 g de Beurre et de 1349.92 g de Haricots blancs.  Il coûte un total de 2.05 euros et comprend 2273.40 calories.\n",
      "\n",
      "Pour les femmes avec des contraintes supplémentaires entre le minimum et 4 fois le minimum.\n",
      "Un repas est constitué de  de 25.25 g de Beurre et de 1349.92 g de Haricots blancs.  Il coûte un total de 2.05 euros et comprend 2273.40 calories.\n",
      "\n",
      "Pour les femmes avec des contraintes supplémentaires entre le minimum et 3 fois le minimum.\n",
      "Un repas est constitué de  de 25.25 g de Beurre et de 1349.92 g de Haricots blancs.  Il coûte un total de 2.05 euros et comprend 2273.40 calories.\n",
      "\n",
      "Pour les femmes avec des contraintes supplémentaires entre le minimum et 2 fois le minimum.\n",
      "Un repas est constitué de  de 25.84 g de Gruyère, de 40.62 g de Beurre, de 44.45 g de Blanc de Poulet, de 839.74 g de Haricots blancs et de 59.38 g de Semoule.  Il coûte un total de 2.22 euros et comprend 2012.05 calories.\n",
      "\n",
      "Pour les femmes avec des contraintes supplémentaires entre le minimum et 1.5 fois le minimum.\n",
      "Un repas est constitué de  de 7.19 g de crème fraîche, de 42.66 g de Gruyère, de 57.44 g de Beurre, de 347.57 g de Courge, de 449.99 g de Haricots blancs et de 260.79 g de Semoule.  Il coûte un total de 3.41 euros et comprend 2442.61 calories.\n",
      "\n",
      "Pour les femmes avec des contraintes supplémentaires entre le minimum et 1.4 fois le minimum.\n",
      "Un repas est constitué de  de 43.60 g de crème fraîche, de 42.64 g de Gruyère, de 44.42 g de Beurre, de 492.04 g de Courge, de 408.07 g de Haricots blancs et de 212.49 g de Semoule.  Il coûte un total de 3.88 euros et comprend 2310.64 calories.\n",
      "\n",
      "Pour les femmes avec des contraintes supplémentaires entre le minimum et 1.3 fois le minimum.\n",
      "Un repas est constitué de  de 80.02 g de crème fraîche, de 42.62 g de Gruyère, de 31.40 g de Beurre, de 636.50 g de Courge, de 366.14 g de Haricots blancs et de 164.20 g de Semoule.  Il coûte un total de 4.35 euros et comprend 2178.66 calories.\n",
      "\n",
      "Pour les femmes avec des contraintes supplémentaires entre le minimum et 1.2 fois le minimum.\n",
      "Un repas est constitué de  de 116.43 g de crème fraîche, de 42.59 g de Gruyère, de 18.38 g de Beurre, de 780.96 g de Courge, de 324.22 g de Haricots blancs et de 115.90 g de Semoule.  Il coûte un total de 4.83 euros et comprend 2046.68 calories.\n",
      "\n",
      "Pour les femmes avec des contraintes supplémentaires entre le minimum et 1.1 fois le minimum.\n",
      "Un repas est constitué de  de 73.29 g de crème fraîche, de 52.38 g de Gruyère, de 48.01 g de Beurre, de 539.84 g de Courge, de 372.85 g de Haricots rouges, de 76.67 g de Haricots blancs et de 128.06 g de Semoule.  Il coûte un total de 5.42 euros et comprend 2000.00 calories.\n",
      "\n",
      "Pour les femmes avec des contraintes supplémentaires entre le minimum et 1.09 fois le minimum.\n",
      "Un repas est constitué de  de 64.62 g de crème fraîche, de 53.89 g de Gruyère, de 53.30 g de Beurre, de 494.62 g de Courge, de 430.54 g de Haricots rouges, de 40.66 g de Haricots blancs et de 132.58 g de Semoule.  Il coûte un total de 5.49 euros et comprend 2000.00 calories.\n",
      "\n",
      "Pour les femmes avec des contraintes supplémentaires entre le minimum et 1.08 fois le minimum.\n",
      "Un repas est constitué de  de 55.96 g de crème fraîche, de 55.41 g de Gruyère, de 58.60 g de Beurre, de 449.40 g de Courge, de 488.23 g de Haricots rouges, de 4.65 g de Haricots blancs et de 137.11 g de Semoule.  Il coûte un total de 5.56 euros et comprend 2000.00 calories.\n",
      "\n",
      "Pour les femmes avec des contraintes supplémentaires entre le minimum et 1.0787 fois le minimum.\n",
      "Un repas est constitué de  de 54.84 g de crème fraîche, de 55.60 g de Gruyère, de 59.29 g de Beurre, de 443.59 g de Courge, de 495.67 g de Haricots rouges et de 137.69 g de Semoule.  Il coûte un total de 5.57 euros et comprend 2000.00 calories.\n"
     ]
    },
    {
     "name": "stderr",
     "output_type": "stream",
     "text": [
      "C:\\Users\\karl\\AppData\\Local\\Temp\\ipykernel_18472\\2694851566.py:8: FutureWarning: The frame.append method is deprecated and will be removed from pandas in a future version. Use pandas.concat instead.\n",
      "  REPAS=REPAS.append([REPAS.sum()])\n",
      "C:\\Users\\karl\\AppData\\Local\\Temp\\ipykernel_18472\\471151127.py:2: DeprecationWarning: `method='simplex'` is deprecated and will be removed in SciPy 1.11.0. Please use one of the HiGHS solvers (e.g. `method='highs'`) in new code.\n",
      "  RESULTFb=so.linprog(z_ori, A_ub=np.concatenate((-coeff,coeff),axis=0), b_ub=np.concatenate((-betaF,k*betaF),axis=0),method='simplex')\n",
      "C:\\Users\\karl\\AppData\\Local\\Temp\\ipykernel_18472\\2694851566.py:8: FutureWarning: The frame.append method is deprecated and will be removed from pandas in a future version. Use pandas.concat instead.\n",
      "  REPAS=REPAS.append([REPAS.sum()])\n"
     ]
    }
   ],
   "source": [
    "for k in [30,20,10,5,4,3,2,1.5,1.4,1.3,1.2,1.1,1.09,1.08,1.0787]:\n",
    "    RESULTFb=so.linprog(z_ori, A_ub=np.concatenate((-coeff,coeff),axis=0), b_ub=np.concatenate((-betaF,k*betaF),axis=0),method='simplex') \n",
    "    if RESULTFb.success==True:\n",
    "        print('\\nPour les femmes avec des contraintes supplémentaires entre le minimum et {} fois le minimum.'.format(k))\n",
    "        repas(RESULTFb)\n",
    "    else : print('\\nRepas impossible pour {} fois le minimum'.format(k))        "
   ]
  },
  {
   "cell_type": "code",
   "execution_count": 26,
   "metadata": {},
   "outputs": [
    {
     "name": "stderr",
     "output_type": "stream",
     "text": [
      "C:\\Users\\karl\\AppData\\Local\\Temp\\ipykernel_8724\\90071053.py:4: DeprecationWarning: `method='simplex'` is deprecated and will be removed in SciPy 1.11.0. Please use one of the HiGHS solvers (e.g. `method='highs'`) in new code.\n",
      "  RESULTFb=so.linprog(z_ori, A_ub=np.concatenate((-coeff,coeff),axis=0), b_ub=np.concatenate((-betaF,k*betaF),axis=0),method='simplex')\n",
      "C:\\Users\\karl\\AppData\\Local\\Temp\\ipykernel_8724\\2694851566.py:8: FutureWarning: The frame.append method is deprecated and will be removed from pandas in a future version. Use pandas.concat instead.\n",
      "  REPAS=REPAS.append([REPAS.sum()])\n",
      "C:\\Users\\karl\\AppData\\Local\\Temp\\ipykernel_8724\\90071053.py:4: DeprecationWarning: `method='simplex'` is deprecated and will be removed in SciPy 1.11.0. Please use one of the HiGHS solvers (e.g. `method='highs'`) in new code.\n",
      "  RESULTFb=so.linprog(z_ori, A_ub=np.concatenate((-coeff,coeff),axis=0), b_ub=np.concatenate((-betaF,k*betaF),axis=0),method='simplex')\n",
      "C:\\Users\\karl\\AppData\\Local\\Temp\\ipykernel_8724\\2694851566.py:8: FutureWarning: The frame.append method is deprecated and will be removed from pandas in a future version. Use pandas.concat instead.\n",
      "  REPAS=REPAS.append([REPAS.sum()])\n",
      "C:\\Users\\karl\\AppData\\Local\\Temp\\ipykernel_8724\\90071053.py:4: DeprecationWarning: `method='simplex'` is deprecated and will be removed in SciPy 1.11.0. Please use one of the HiGHS solvers (e.g. `method='highs'`) in new code.\n",
      "  RESULTFb=so.linprog(z_ori, A_ub=np.concatenate((-coeff,coeff),axis=0), b_ub=np.concatenate((-betaF,k*betaF),axis=0),method='simplex')\n",
      "C:\\Users\\karl\\AppData\\Local\\Temp\\ipykernel_8724\\2694851566.py:8: FutureWarning: The frame.append method is deprecated and will be removed from pandas in a future version. Use pandas.concat instead.\n",
      "  REPAS=REPAS.append([REPAS.sum()])\n",
      "C:\\Users\\karl\\AppData\\Local\\Temp\\ipykernel_8724\\90071053.py:4: DeprecationWarning: `method='simplex'` is deprecated and will be removed in SciPy 1.11.0. Please use one of the HiGHS solvers (e.g. `method='highs'`) in new code.\n",
      "  RESULTFb=so.linprog(z_ori, A_ub=np.concatenate((-coeff,coeff),axis=0), b_ub=np.concatenate((-betaF,k*betaF),axis=0),method='simplex')\n",
      "C:\\Users\\karl\\AppData\\Local\\Temp\\ipykernel_8724\\2694851566.py:8: FutureWarning: The frame.append method is deprecated and will be removed from pandas in a future version. Use pandas.concat instead.\n",
      "  REPAS=REPAS.append([REPAS.sum()])\n",
      "C:\\Users\\karl\\AppData\\Local\\Temp\\ipykernel_8724\\90071053.py:4: DeprecationWarning: `method='simplex'` is deprecated and will be removed in SciPy 1.11.0. Please use one of the HiGHS solvers (e.g. `method='highs'`) in new code.\n",
      "  RESULTFb=so.linprog(z_ori, A_ub=np.concatenate((-coeff,coeff),axis=0), b_ub=np.concatenate((-betaF,k*betaF),axis=0),method='simplex')\n",
      "C:\\Users\\karl\\AppData\\Local\\Temp\\ipykernel_8724\\2694851566.py:8: FutureWarning: The frame.append method is deprecated and will be removed from pandas in a future version. Use pandas.concat instead.\n",
      "  REPAS=REPAS.append([REPAS.sum()])\n",
      "C:\\Users\\karl\\AppData\\Local\\Temp\\ipykernel_8724\\90071053.py:4: DeprecationWarning: `method='simplex'` is deprecated and will be removed in SciPy 1.11.0. Please use one of the HiGHS solvers (e.g. `method='highs'`) in new code.\n",
      "  RESULTFb=so.linprog(z_ori, A_ub=np.concatenate((-coeff,coeff),axis=0), b_ub=np.concatenate((-betaF,k*betaF),axis=0),method='simplex')\n",
      "C:\\Users\\karl\\AppData\\Local\\Temp\\ipykernel_8724\\2694851566.py:8: FutureWarning: The frame.append method is deprecated and will be removed from pandas in a future version. Use pandas.concat instead.\n",
      "  REPAS=REPAS.append([REPAS.sum()])\n",
      "C:\\Users\\karl\\AppData\\Local\\Temp\\ipykernel_8724\\90071053.py:4: DeprecationWarning: `method='simplex'` is deprecated and will be removed in SciPy 1.11.0. Please use one of the HiGHS solvers (e.g. `method='highs'`) in new code.\n",
      "  RESULTFb=so.linprog(z_ori, A_ub=np.concatenate((-coeff,coeff),axis=0), b_ub=np.concatenate((-betaF,k*betaF),axis=0),method='simplex')\n",
      "C:\\Users\\karl\\AppData\\Local\\Temp\\ipykernel_8724\\2694851566.py:8: FutureWarning: The frame.append method is deprecated and will be removed from pandas in a future version. Use pandas.concat instead.\n",
      "  REPAS=REPAS.append([REPAS.sum()])\n",
      "C:\\Users\\karl\\AppData\\Local\\Temp\\ipykernel_8724\\90071053.py:4: DeprecationWarning: `method='simplex'` is deprecated and will be removed in SciPy 1.11.0. Please use one of the HiGHS solvers (e.g. `method='highs'`) in new code.\n",
      "  RESULTFb=so.linprog(z_ori, A_ub=np.concatenate((-coeff,coeff),axis=0), b_ub=np.concatenate((-betaF,k*betaF),axis=0),method='simplex')\n"
     ]
    },
    {
     "name": "stdout",
     "output_type": "stream",
     "text": [
      "\n",
      "Pour les femmes avec des contraintes supplémentaires entre le minimum et 1.078611 fois le minimum.\n",
      "Un repas est constitué de  de 54.89 g de crème fraîche, de 55.60 g de Gruyère, de 59.28 g de Beurre, de 443.79 g de Courge, de 495.60 g de Haricots rouges et de 137.63 g de Semoule.  Il coûte un total de 5.57 euros et comprend 2000.00 calories.\n",
      "\n",
      "Pour les femmes avec des contraintes supplémentaires entre le minimum et 1.0786111 fois le minimum.\n",
      "Un repas est constitué de  de 54.89 g de crème fraîche, de 55.60 g de Gruyère, de 59.28 g de Beurre, de 443.79 g de Courge, de 495.60 g de Haricots rouges et de 137.63 g de Semoule.  Il coûte un total de 5.57 euros et comprend 2000.00 calories.\n",
      "\n",
      "Pour les femmes avec des contraintes supplémentaires entre le minimum et 1.0786111999999999 fois le minimum.\n",
      "Un repas est constitué de  de 54.89 g de crème fraîche, de 55.60 g de Gruyère, de 59.28 g de Beurre, de 443.79 g de Courge, de 495.60 g de Haricots rouges et de 137.63 g de Semoule.  Il coûte un total de 5.57 euros et comprend 2000.00 calories.\n",
      "\n",
      "Pour les femmes avec des contraintes supplémentaires entre le minimum et 1.0786113 fois le minimum.\n",
      "Un repas est constitué de  de 54.89 g de crème fraîche, de 55.60 g de Gruyère, de 59.28 g de Beurre, de 443.79 g de Courge, de 495.60 g de Haricots rouges et de 137.63 g de Semoule.  Il coûte un total de 5.57 euros et comprend 2000.00 calories.\n",
      "\n",
      "Pour les femmes avec des contraintes supplémentaires entre le minimum et 1.0786114 fois le minimum.\n",
      "Un repas est constitué de  de 54.89 g de crème fraîche, de 55.60 g de Gruyère, de 59.28 g de Beurre, de 443.79 g de Courge, de 495.60 g de Haricots rouges et de 137.63 g de Semoule.  Il coûte un total de 5.57 euros et comprend 2000.00 calories.\n",
      "\n",
      "Pour les femmes avec des contraintes supplémentaires entre le minimum et 1.0786115 fois le minimum.\n",
      "Un repas est constitué de  de 54.89 g de crème fraîche, de 55.60 g de Gruyère, de 59.28 g de Beurre, de 443.79 g de Courge, de 495.60 g de Haricots rouges et de 137.63 g de Semoule.  Il coûte un total de 5.57 euros et comprend 2000.00 calories.\n",
      "\n",
      "Pour les femmes avec des contraintes supplémentaires entre le minimum et 1.0786116 fois le minimum.\n",
      "Un repas est constitué de  de 54.89 g de crème fraîche, de 55.60 g de Gruyère, de 59.28 g de Beurre, de 443.79 g de Courge, de 495.60 g de Haricots rouges et de 137.63 g de Semoule.  Il coûte un total de 5.57 euros et comprend 2000.00 calories.\n",
      "\n",
      "Pour les femmes avec des contraintes supplémentaires entre le minimum et 1.0786117 fois le minimum.\n",
      "Un repas est constitué de  de 54.89 g de crème fraîche, de 55.60 g de Gruyère, de 59.28 g de Beurre, de 443.79 g de Courge, de 495.60 g de Haricots rouges et de 137.63 g de Semoule.  Il coûte un total de 5.57 euros et comprend 2000.00 calories.\n",
      "\n",
      "Pour les femmes avec des contraintes supplémentaires entre le minimum et 1.0786118 fois le minimum.\n",
      "Un repas est constitué de  de 54.89 g de crème fraîche, de 55.60 g de Gruyère, de 59.28 g de Beurre, de 443.79 g de Courge, de 495.60 g de Haricots rouges et de 137.63 g de Semoule.  Il coûte un total de 5.57 euros et comprend 2000.00 calories.\n",
      "\n",
      "Pour les femmes avec des contraintes supplémentaires entre le minimum et 1.0786119 fois le minimum.\n",
      "Un repas est constitué de  de 54.89 g de crème fraîche, de 55.60 g de Gruyère, de 59.28 g de Beurre, de 443.79 g de Courge, de 495.60 g de Haricots rouges et de 137.63 g de Semoule.  Il coûte un total de 5.57 euros et comprend 2000.00 calories.\n"
     ]
    },
    {
     "name": "stderr",
     "output_type": "stream",
     "text": [
      "C:\\Users\\karl\\AppData\\Local\\Temp\\ipykernel_8724\\2694851566.py:8: FutureWarning: The frame.append method is deprecated and will be removed from pandas in a future version. Use pandas.concat instead.\n",
      "  REPAS=REPAS.append([REPAS.sum()])\n",
      "C:\\Users\\karl\\AppData\\Local\\Temp\\ipykernel_8724\\90071053.py:4: DeprecationWarning: `method='simplex'` is deprecated and will be removed in SciPy 1.11.0. Please use one of the HiGHS solvers (e.g. `method='highs'`) in new code.\n",
      "  RESULTFb=so.linprog(z_ori, A_ub=np.concatenate((-coeff,coeff),axis=0), b_ub=np.concatenate((-betaF,k*betaF),axis=0),method='simplex')\n",
      "C:\\Users\\karl\\AppData\\Local\\Temp\\ipykernel_8724\\2694851566.py:8: FutureWarning: The frame.append method is deprecated and will be removed from pandas in a future version. Use pandas.concat instead.\n",
      "  REPAS=REPAS.append([REPAS.sum()])\n",
      "C:\\Users\\karl\\AppData\\Local\\Temp\\ipykernel_8724\\90071053.py:4: DeprecationWarning: `method='simplex'` is deprecated and will be removed in SciPy 1.11.0. Please use one of the HiGHS solvers (e.g. `method='highs'`) in new code.\n",
      "  RESULTFb=so.linprog(z_ori, A_ub=np.concatenate((-coeff,coeff),axis=0), b_ub=np.concatenate((-betaF,k*betaF),axis=0),method='simplex')\n",
      "C:\\Users\\karl\\AppData\\Local\\Temp\\ipykernel_8724\\2694851566.py:8: FutureWarning: The frame.append method is deprecated and will be removed from pandas in a future version. Use pandas.concat instead.\n",
      "  REPAS=REPAS.append([REPAS.sum()])\n"
     ]
    }
   ],
   "source": [
    "n=10\n",
    "for ks in range(n):\n",
    "    k=1.078611+0.000001*ks/n\n",
    "    RESULTFb=so.linprog(z_ori, A_ub=np.concatenate((-coeff,coeff),axis=0), b_ub=np.concatenate((-betaF,k*betaF),axis=0),method='simplex') \n",
    "    if RESULTFb.success==True:\n",
    "        print('\\nPour les femmes avec des contraintes supplémentaires entre le minimum et {} fois le minimum.'.format(k))\n",
    "        repas(RESULTFb)\n",
    "    else : print('\\nRepas impossible pour {} fois le minimum'.format(k))    "
   ]
  },
  {
   "cell_type": "markdown",
   "metadata": {},
   "source": [
    "# QUESTION 3"
   ]
  },
  {
   "cell_type": "code",
   "execution_count": 27,
   "metadata": {},
   "outputs": [
    {
     "data": {
      "text/plain": [
       "Protéines (en g)     0.66\n",
       "Lipides (en g)       0.34\n",
       "Glucides (en g)     14.34\n",
       "Energie (kcal)      56.00\n",
       "Fer (mg)             0.36\n",
       "Calcium (mg)         9.00\n",
       "Fibres (en g)        2.90\n",
       "Prix €/100g          0.32\n",
       "Name: Légume – Courge, dtype: float64"
      ]
     },
     "execution_count": 27,
     "metadata": {},
     "output_type": "execute_result"
    }
   ],
   "source": [
    "Al.iloc[25,:]"
   ]
  },
  {
   "cell_type": "code",
   "execution_count": 23,
   "metadata": {
    "collapsed": true
   },
   "outputs": [],
   "source": [
    "A=np.array(Al).T\n",
    "coeff=A[[0,1,2,3,4,5,6]] ## matrice des coefficients\n",
    "z_ori=A[7]### coefficients de la fonction de coût\n",
    "betaF=np.array([75,90,225,9,800,45,0]) ## second membre pour les femmes"
   ]
  },
  {
   "cell_type": "code",
   "execution_count": 45,
   "metadata": {},
   "outputs": [
    {
     "data": {
      "text/plain": [
       "array([380., 328., 136.,  61.,  69., 413., 300., 268., 717.,  63., 289.,\n",
       "       178., 283., 200., 206., 247., 339., 222., 232., 208., 262.,  35.,\n",
       "        35.,  41.,  23.,  56.,  42.,  15.,  38.,  23.,  86., 124., 112.,\n",
       "        83., 319., 158., 130.,  85., 155., 116., 360.])"
      ]
     },
     "execution_count": 45,
     "metadata": {},
     "output_type": "execute_result"
    }
   ],
   "source": [
    "A[3]"
   ]
  },
  {
   "cell_type": "code",
   "execution_count": 29,
   "metadata": {},
   "outputs": [
    {
     "data": {
      "text/plain": [
       "array([380., 328., 136.,  61.,  69., 413., 300., 268., 717.,  63., 289.,\n",
       "       178., 283., 200., 206., 247., 339., 222., 232., 208., 262.,  35.,\n",
       "        35.,  41.,  23.,  56.,  42.,  15.,  38.,  23.,  86., 124., 112.,\n",
       "        83., 319., 158., 130.,  85., 155., 116., 360.])"
      ]
     },
     "execution_count": 29,
     "metadata": {},
     "output_type": "execute_result"
    }
   ],
   "source": [
    "z_ori"
   ]
  },
  {
   "cell_type": "code",
   "execution_count": 24,
   "metadata": {},
   "outputs": [
    {
     "name": "stdout",
     "output_type": "stream",
     "text": [
      "Pour les femmes.\n",
      "Un repas est constitué de  et de 24024.02 g de Lentilles.  Il coûte un total de 38.44 euros et comprend 27867.87 calories.\n"
     ]
    },
    {
     "name": "stderr",
     "output_type": "stream",
     "text": [
      "C:\\Users\\karl\\AppData\\Local\\Temp\\ipykernel_18472\\3605301272.py:1: DeprecationWarning: `method='simplex'` is deprecated and will be removed in SciPy 1.11.0. Please use one of the HiGHS solvers (e.g. `method='highs'`) in new code.\n",
      "  RESULTF=so.linprog(z_ori, A_ub=-coeff, b_ub=-betaF,method='simplex')\n",
      "C:\\Users\\karl\\AppData\\Local\\Temp\\ipykernel_18472\\2694851566.py:8: FutureWarning: The frame.append method is deprecated and will be removed from pandas in a future version. Use pandas.concat instead.\n",
      "  REPAS=REPAS.append([REPAS.sum()])\n"
     ]
    }
   ],
   "source": [
    "RESULTF=so.linprog(z_ori, A_ub=-coeff, b_ub=-betaF,method='simplex') \n",
    "print('Pour les femmes.')\n",
    "repas(RESULTF)"
   ]
  },
  {
   "cell_type": "markdown",
   "metadata": {},
   "source": [
    "Ceci est incohérent, on doit réécrire les fonctions de résultats"
   ]
  },
  {
   "cell_type": "code",
   "execution_count": 25,
   "metadata": {
    "collapsed": true
   },
   "outputs": [],
   "source": [
    "def repas_regime(RESULT):\n",
    "    A=RESULT.x\n",
    "    u,=A.nonzero()\n",
    "    Qt=A[u]\n",
    "    Phrase='Un repas est constitué de '\n",
    "    for s in range(len(u)-1):\n",
    "        if s>0 : Phrase+=','\n",
    "        gr=Qt[s]*100\n",
    "        old_name=Al.iloc[u].index[s]\n",
    "        name = rename_aliment(old_name)\n",
    "        Phrase+=' de {:0.2f} g de {}'.format(gr,name)\n",
    "    s=len(u)-1    \n",
    "    gr=Qt[s]*100\n",
    "    old_name=Al.iloc[u].index[s]\n",
    "    name = rename_aliment(old_name)\n",
    "    Phrase+=' et de {:0.2f} g de {}. '.format(gr,name)\n",
    "    REPAS=apports(RESULT)\n",
    "    Phrase+=' Il coûte un total de {:0.2f} euros et comprend {:0.2f} calories.'.format(REPAS['Prix (en €)'][-1],REPAS['Energie (kcal)'][-1])\n",
    "    print(Phrase)"
   ]
  },
  {
   "cell_type": "code",
   "execution_count": 26,
   "metadata": {},
   "outputs": [
    {
     "name": "stdout",
     "output_type": "stream",
     "text": [
      "Pour les femmes.\n",
      "Un repas est constitué de  et de 24024.02 g de Lentilles.  Il coûte un total de 38.44 euros et comprend 27867.87 calories.\n"
     ]
    },
    {
     "name": "stderr",
     "output_type": "stream",
     "text": [
      "C:\\Users\\karl\\AppData\\Local\\Temp\\ipykernel_18472\\2766501601.py:3: DeprecationWarning: `method='simplex'` is deprecated and will be removed in SciPy 1.11.0. Please use one of the HiGHS solvers (e.g. `method='highs'`) in new code.\n",
      "  RESULTF=so.linprog(z_ori, A_ub=-coeff, b_ub=-betaF,method='simplex')\n",
      "C:\\Users\\karl\\AppData\\Local\\Temp\\ipykernel_18472\\2694851566.py:8: FutureWarning: The frame.append method is deprecated and will be removed from pandas in a future version. Use pandas.concat instead.\n",
      "  REPAS=REPAS.append([REPAS.sum()])\n"
     ]
    }
   ],
   "source": [
    "bdns = [(0,None) for k in range(41)]\n",
    "bdns[25] = (0,5)\n",
    "RESULTF=so.linprog(z_ori, A_ub=-coeff, b_ub=-betaF,method='simplex') \n",
    "print('Pour les femmes.')\n",
    "repas_regime(RESULTF)"
   ]
  },
  {
   "attachments": {},
   "cell_type": "markdown",
   "metadata": {},
   "source": [
    "# QUESTION 4"
   ]
  },
  {
   "attachments": {},
   "cell_type": "markdown",
   "metadata": {},
   "source": [
    "Faire une étude détaillée en faisant évoluer le budget"
   ]
  },
  {
   "cell_type": "code",
   "execution_count": 28,
   "metadata": {},
   "outputs": [
    {
     "name": "stdout",
     "output_type": "stream",
     "text": [
      "Un repas est constitué de  de 682.78 g de Haricots blancs et de 106.16 g de Semoule.  Il coûte un total de 1.08 euros et comprend 1440.48 calories.\n"
     ]
    },
    {
     "name": "stderr",
     "output_type": "stream",
     "text": [
      "C:\\Users\\karl\\AppData\\Local\\Temp\\ipykernel_18472\\957215041.py:9: DeprecationWarning: `method='simplex'` is deprecated and will be removed in SciPy 1.11.0. Please use one of the HiGHS solvers (e.g. `method='highs'`) in new code.\n",
      "  RESULTF=so.linprog(z_ori, A_ub=-coeff, b_ub=-betaF,method='simplex',bounds = bdns)\n",
      "C:\\Users\\karl\\AppData\\Local\\Temp\\ipykernel_18472\\2694851566.py:8: FutureWarning: The frame.append method is deprecated and will be removed from pandas in a future version. Use pandas.concat instead.\n",
      "  REPAS=REPAS.append([REPAS.sum()])\n"
     ]
    }
   ],
   "source": [
    "A=np.array(Al).T\n",
    "coeff=A[[0,1,2,3,4,5,6]]##matrice des coefficients,on a éliminé la colonne qui correspond aux calorie soit la colonne 4 indice 3\n",
    "z_ori=A[7]### coefficients de la fonction de coût\n",
    "betaF=np.array([75,90,225,9,800,45,-k]) ## second membre pour les femmes\n",
    "coeff[-1]= -A[[7]]\n",
    "bdns = [(0,None) for k in range(41)]\n",
    "bdns[25] = (0,5)\n",
    "bdns[5] = (0, 0.5)\n",
    "RESULTF=so.linprog(z_ori, A_ub=-coeff, b_ub=-betaF,method='simplex',bounds = bdns)\n",
    "repas_regime(RESULTF)"
   ]
  },
  {
   "cell_type": "code",
   "execution_count": 29,
   "metadata": {},
   "outputs": [
    {
     "name": "stdout",
     "output_type": "stream",
     "text": [
      "Un repas est constitué de  de 682.78 g de Haricots blancs et de 106.16 g de Semoule.  Il coûte un total de 1.08 euros et comprend 1440.48 calories.\n"
     ]
    },
    {
     "name": "stderr",
     "output_type": "stream",
     "text": [
      "C:\\Users\\karl\\AppData\\Local\\Temp\\ipykernel_18472\\1953106979.py:8: DeprecationWarning: `method='simplex'` is deprecated and will be removed in SciPy 1.11.0. Please use one of the HiGHS solvers (e.g. `method='highs'`) in new code.\n",
      "  RESULTF=so.linprog(z_ori, A_ub=-coeff, b_ub=-betaF,method='simplex',bounds = bdns)\n",
      "C:\\Users\\karl\\AppData\\Local\\Temp\\ipykernel_18472\\2694851566.py:8: FutureWarning: The frame.append method is deprecated and will be removed from pandas in a future version. Use pandas.concat instead.\n",
      "  REPAS=REPAS.append([REPAS.sum()])\n"
     ]
    }
   ],
   "source": [
    "A=np.array(Al).T\n",
    "coeff=A[[0,1,2,3,4,5,6]]##matrice des coefficients,on a éliminé la colonne qui correspond aux calorie soit la colonne 4 indice 3\n",
    "z_ori=A[7]### coefficients de la fonction de coût\n",
    "betaF=np.array([75,90,225,9,800,45,-k]) ## second membre pour les femmes\n",
    "# coeff[-1]= -A[[7]]\n",
    "bdns = [(0,None) for k in range(41)]\n",
    "bdns[25] = (0,5)\n",
    "RESULTF=so.linprog(z_ori, A_ub=-coeff, b_ub=-betaF,method='simplex',bounds = bdns)\n",
    "repas_regime(RESULTF)"
   ]
  },
  {
   "cell_type": "code",
   "execution_count": 35,
   "metadata": {},
   "outputs": [
    {
     "data": {
      "text/html": [
       "<div>\n",
       "<style scoped>\n",
       "    .dataframe tbody tr th:only-of-type {\n",
       "        vertical-align: middle;\n",
       "    }\n",
       "\n",
       "    .dataframe tbody tr th {\n",
       "        vertical-align: top;\n",
       "    }\n",
       "\n",
       "    .dataframe thead th {\n",
       "        text-align: right;\n",
       "    }\n",
       "</style>\n",
       "<table border=\"1\" class=\"dataframe\">\n",
       "  <thead>\n",
       "    <tr style=\"text-align: right;\">\n",
       "      <th></th>\n",
       "      <th>Protéines (en g)</th>\n",
       "      <th>Lipides (en g)</th>\n",
       "      <th>Glucides (en g)</th>\n",
       "      <th>Energie (kcal)</th>\n",
       "      <th>Fer (mg)</th>\n",
       "      <th>Calcium (mg)</th>\n",
       "      <th>Fibres (en g)</th>\n",
       "      <th>Prix €/100g</th>\n",
       "    </tr>\n",
       "    <tr>\n",
       "      <th>Produit (100g)</th>\n",
       "      <th></th>\n",
       "      <th></th>\n",
       "      <th></th>\n",
       "      <th></th>\n",
       "      <th></th>\n",
       "      <th></th>\n",
       "      <th></th>\n",
       "      <th></th>\n",
       "    </tr>\n",
       "  </thead>\n",
       "  <tbody>\n",
       "    <tr>\n",
       "      <th>Lait – Emmental</th>\n",
       "      <td>26.93</td>\n",
       "      <td>27.80</td>\n",
       "      <td>5.380</td>\n",
       "      <td>380</td>\n",
       "      <td>0.20</td>\n",
       "      <td>791.0</td>\n",
       "      <td>0.0</td>\n",
       "      <td>1.30</td>\n",
       "    </tr>\n",
       "    <tr>\n",
       "      <th>Lait – crème fraîche</th>\n",
       "      <td>20.90</td>\n",
       "      <td>35.00</td>\n",
       "      <td>2.840</td>\n",
       "      <td>328</td>\n",
       "      <td>0.03</td>\n",
       "      <td>66.3</td>\n",
       "      <td>0.0</td>\n",
       "      <td>0.84</td>\n",
       "    </tr>\n",
       "    <tr>\n",
       "      <th>Lait – Petit-suisse</th>\n",
       "      <td>9.40</td>\n",
       "      <td>9.45</td>\n",
       "      <td>3.300</td>\n",
       "      <td>136</td>\n",
       "      <td>0.20</td>\n",
       "      <td>112.0</td>\n",
       "      <td>0.0</td>\n",
       "      <td>0.44</td>\n",
       "    </tr>\n",
       "    <tr>\n",
       "      <th>Lait – Lait entier (vache)</th>\n",
       "      <td>3.15</td>\n",
       "      <td>3.25</td>\n",
       "      <td>4.800</td>\n",
       "      <td>61</td>\n",
       "      <td>0.30</td>\n",
       "      <td>113.0</td>\n",
       "      <td>0.0</td>\n",
       "      <td>0.28</td>\n",
       "    </tr>\n",
       "    <tr>\n",
       "      <th>Lait – Lait entier  (chèvre)</th>\n",
       "      <td>3.56</td>\n",
       "      <td>4.14</td>\n",
       "      <td>4.450</td>\n",
       "      <td>69</td>\n",
       "      <td>0.05</td>\n",
       "      <td>134.0</td>\n",
       "      <td>0.0</td>\n",
       "      <td>0.70</td>\n",
       "    </tr>\n",
       "    <tr>\n",
       "      <th>Lait – Gruyère</th>\n",
       "      <td>29.81</td>\n",
       "      <td>32.34</td>\n",
       "      <td>0.360</td>\n",
       "      <td>413</td>\n",
       "      <td>0.17</td>\n",
       "      <td>1011.0</td>\n",
       "      <td>0.0</td>\n",
       "      <td>1.18</td>\n",
       "    </tr>\n",
       "    <tr>\n",
       "      <th>Lait – Camembert</th>\n",
       "      <td>19.80</td>\n",
       "      <td>24.26</td>\n",
       "      <td>0.456</td>\n",
       "      <td>300</td>\n",
       "      <td>0.33</td>\n",
       "      <td>388.0</td>\n",
       "      <td>0.0</td>\n",
       "      <td>1.05</td>\n",
       "    </tr>\n",
       "    <tr>\n",
       "      <th>Lait – Fromage de Chévre frais</th>\n",
       "      <td>18.52</td>\n",
       "      <td>21.08</td>\n",
       "      <td>0.890</td>\n",
       "      <td>268</td>\n",
       "      <td>1.90</td>\n",
       "      <td>140.0</td>\n",
       "      <td>0.0</td>\n",
       "      <td>3.00</td>\n",
       "    </tr>\n",
       "    <tr>\n",
       "      <th>Lait – Beurre</th>\n",
       "      <td>0.85</td>\n",
       "      <td>81.11</td>\n",
       "      <td>0.060</td>\n",
       "      <td>717</td>\n",
       "      <td>0.02</td>\n",
       "      <td>24.0</td>\n",
       "      <td>0.0</td>\n",
       "      <td>1.18</td>\n",
       "    </tr>\n",
       "    <tr>\n",
       "      <th>Lait – Yaourt nature</th>\n",
       "      <td>5.25</td>\n",
       "      <td>1.55</td>\n",
       "      <td>7.040</td>\n",
       "      <td>63</td>\n",
       "      <td>0.08</td>\n",
       "      <td>183.0</td>\n",
       "      <td>0.0</td>\n",
       "      <td>0.99</td>\n",
       "    </tr>\n",
       "  </tbody>\n",
       "</table>\n",
       "</div>"
      ],
      "text/plain": [
       "                                Protéines (en g)  Lipides (en g)  \\\n",
       "Produit (100g)                                                     \n",
       "Lait – Emmental                            26.93           27.80   \n",
       "Lait – crème fraîche                       20.90           35.00   \n",
       "Lait – Petit-suisse                         9.40            9.45   \n",
       "Lait – Lait entier (vache)                  3.15            3.25   \n",
       "Lait – Lait entier  (chèvre)                3.56            4.14   \n",
       "Lait – Gruyère                             29.81           32.34   \n",
       "Lait – Camembert                           19.80           24.26   \n",
       "Lait – Fromage de Chévre frais             18.52           21.08   \n",
       "Lait – Beurre                               0.85           81.11   \n",
       "Lait – Yaourt nature                        5.25            1.55   \n",
       "\n",
       "                                Glucides (en g)  Energie (kcal)  Fer (mg)  \\\n",
       "Produit (100g)                                                              \n",
       "Lait – Emmental                           5.380             380      0.20   \n",
       "Lait – crème fraîche                      2.840             328      0.03   \n",
       "Lait – Petit-suisse                       3.300             136      0.20   \n",
       "Lait – Lait entier (vache)                4.800              61      0.30   \n",
       "Lait – Lait entier  (chèvre)              4.450              69      0.05   \n",
       "Lait – Gruyère                            0.360             413      0.17   \n",
       "Lait – Camembert                          0.456             300      0.33   \n",
       "Lait – Fromage de Chévre frais            0.890             268      1.90   \n",
       "Lait – Beurre                             0.060             717      0.02   \n",
       "Lait – Yaourt nature                      7.040              63      0.08   \n",
       "\n",
       "                                Calcium (mg)  Fibres (en g)  Prix €/100g  \n",
       "Produit (100g)                                                            \n",
       "Lait – Emmental                        791.0            0.0         1.30  \n",
       "Lait – crème fraîche                    66.3            0.0         0.84  \n",
       "Lait – Petit-suisse                    112.0            0.0         0.44  \n",
       "Lait – Lait entier (vache)             113.0            0.0         0.28  \n",
       "Lait – Lait entier  (chèvre)           134.0            0.0         0.70  \n",
       "Lait – Gruyère                        1011.0            0.0         1.18  \n",
       "Lait – Camembert                       388.0            0.0         1.05  \n",
       "Lait – Fromage de Chévre frais         140.0            0.0         3.00  \n",
       "Lait – Beurre                           24.0            0.0         1.18  \n",
       "Lait – Yaourt nature                   183.0            0.0         0.99  "
      ]
     },
     "execution_count": 35,
     "metadata": {},
     "output_type": "execute_result"
    }
   ],
   "source": [
    "Al.head(10)"
   ]
  },
  {
   "cell_type": "code",
   "execution_count": 36,
   "metadata": {},
   "outputs": [
    {
     "data": {
      "text/plain": [
       "array([  29.8,   32.3,    0.4,  413. ,    0.2, 1011. ,    0. ,    1.2])"
      ]
     },
     "execution_count": 36,
     "metadata": {},
     "output_type": "execute_result"
    }
   ],
   "source": [
    "A[:,5]"
   ]
  },
  {
   "cell_type": "code",
   "execution_count": 37,
   "metadata": {},
   "outputs": [
    {
     "name": "stderr",
     "output_type": "stream",
     "text": [
      "C:\\Users\\karl\\AppData\\Local\\Temp\\ipykernel_8724\\651972437.py:4: DeprecationWarning: `method='simplex'` is deprecated and will be removed in SciPy 1.11.0. Please use one of the HiGHS solvers (e.g. `method='highs'`) in new code.\n",
      "  RESULTFE=so.linprog(z_ori, A_ub=-coeff, b_ub=-betaFE,method='simplex',bounds = bdns)\n",
      "C:\\Users\\karl\\AppData\\Local\\Temp\\ipykernel_8724\\2694851566.py:8: FutureWarning: The frame.append method is deprecated and will be removed from pandas in a future version. Use pandas.concat instead.\n",
      "  REPAS=REPAS.append([REPAS.sum()])\n",
      "C:\\Users\\karl\\AppData\\Local\\Temp\\ipykernel_8724\\651972437.py:4: DeprecationWarning: `method='simplex'` is deprecated and will be removed in SciPy 1.11.0. Please use one of the HiGHS solvers (e.g. `method='highs'`) in new code.\n",
      "  RESULTFE=so.linprog(z_ori, A_ub=-coeff, b_ub=-betaFE,method='simplex',bounds = bdns)\n",
      "C:\\Users\\karl\\AppData\\Local\\Temp\\ipykernel_8724\\2694851566.py:8: FutureWarning: The frame.append method is deprecated and will be removed from pandas in a future version. Use pandas.concat instead.\n",
      "  REPAS=REPAS.append([REPAS.sum()])\n",
      "C:\\Users\\karl\\AppData\\Local\\Temp\\ipykernel_8724\\651972437.py:4: DeprecationWarning: `method='simplex'` is deprecated and will be removed in SciPy 1.11.0. Please use one of the HiGHS solvers (e.g. `method='highs'`) in new code.\n",
      "  RESULTFE=so.linprog(z_ori, A_ub=-coeff, b_ub=-betaFE,method='simplex',bounds = bdns)\n",
      "C:\\Users\\karl\\AppData\\Local\\Temp\\ipykernel_8724\\2694851566.py:8: FutureWarning: The frame.append method is deprecated and will be removed from pandas in a future version. Use pandas.concat instead.\n",
      "  REPAS=REPAS.append([REPAS.sum()])\n",
      "C:\\Users\\karl\\AppData\\Local\\Temp\\ipykernel_8724\\651972437.py:4: DeprecationWarning: `method='simplex'` is deprecated and will be removed in SciPy 1.11.0. Please use one of the HiGHS solvers (e.g. `method='highs'`) in new code.\n",
      "  RESULTFE=so.linprog(z_ori, A_ub=-coeff, b_ub=-betaFE,method='simplex',bounds = bdns)\n"
     ]
    },
    {
     "name": "stdout",
     "output_type": "stream",
     "text": [
      "\n",
      "Repas impossible pour le prix 2 euros.\n",
      "\n",
      "Pour les femmes avec un prix de 4 euros.\n",
      "Un repas est constitué de  de 127.18 g de crème fraîche, de 30.22 g de Gruyère, de 500.00 g de Courge, de 59.52 g de Base -  Pâtes Complètes, de 22.67 g de Frites et de 579.20 g de Haricots blancs.  Il coûte un total de 4.00 euros et comprend 1865.81 calories.\n",
      "\n",
      "Pour les femmes avec un prix de 6 euros.\n",
      "Un repas est constitué de  de 151.89 g de crème fraîche, de 15.65 g de Gruyère, de 500.00 g de Courge, de 204.91 g de Epinard, de 264.15 g de Maïs, de 50.61 g de Frites et de 336.86 g de Haricots blancs.  Il coûte un total de 6.00 euros et comprend 1800.74 calories.\n",
      "\n",
      "Pour les femmes avec un prix de 8 euros.\n",
      "Un repas est constitué de  de 157.14 g de crème fraîche, de 21.18 g de Beurre, de 159.81 g de Brocoli, de 500.00 g de Courge, de 350.85 g de Epinard, de 484.04 g de Maïs et de 155.70 g de Haricots blancs.  Il coûte un total de 8.00 euros et comprend 1741.53 calories.\n",
      "\n",
      "Pour les femmes avec un prix de 10 euros.\n",
      "Un repas est constitué de  de 199.75 g de crème fraîche, de 12.97 g de Beurre, de 448.45 g de Carotte crue, de 500.00 g de Courge, de 229.42 g de Tomate, de 310.61 g de Epinard et de 387.21 g de Maïs.  Il coûte un total de 10.00 euros et comprend 1703.65 calories.\n",
      "\n",
      "Pour les femmes avec un prix de 12 euros.\n",
      "Un repas est constitué de  de 177.16 g de crème fraîche, de 22.91 g de Beurre, de 500.00 g de Courge, de 929.70 g de Tomate, de 337.59 g de Epinard et de 278.65 g de Maïs.  Il coûte un total de 12.00 euros et comprend 1695.96 calories.\n",
      "\n",
      "Pour les femmes avec un prix de 14 euros.\n",
      "Un repas est constitué de  de 183.87 g de crème fraîche, de 22.43 g de Beurre, de 500.00 g de Courge, de 1541.27 g de Tomate et de 257.56 g de Epinard.  Il coûte un total de 14.00 euros et comprend 1688.81 calories.\n",
      "\n",
      "Pour les femmes avec un prix de 16 euros.\n",
      "Un repas est constitué de  de 183.87 g de crème fraîche, de 22.43 g de Beurre, de 500.00 g de Courge, de 1541.27 g de Tomate et de 257.56 g de Epinard.  Il coûte un total de 14.00 euros et comprend 1688.81 calories.\n",
      "\n",
      "Pour les femmes avec un prix de 18 euros.\n",
      "Un repas est constitué de  de 183.87 g de crème fraîche, de 22.43 g de Beurre, de 500.00 g de Courge, de 1541.27 g de Tomate et de 257.56 g de Epinard.  Il coûte un total de 14.00 euros et comprend 1688.81 calories.\n",
      "\n",
      "Pour les femmes avec un prix de 20 euros.\n",
      "Un repas est constitué de  de 183.87 g de crème fraîche, de 22.43 g de Beurre, de 500.00 g de Courge, de 1541.27 g de Tomate et de 257.56 g de Epinard.  Il coûte un total de 14.00 euros et comprend 1688.81 calories.\n"
     ]
    },
    {
     "name": "stderr",
     "output_type": "stream",
     "text": [
      "C:\\Users\\karl\\AppData\\Local\\Temp\\ipykernel_8724\\2694851566.py:8: FutureWarning: The frame.append method is deprecated and will be removed from pandas in a future version. Use pandas.concat instead.\n",
      "  REPAS=REPAS.append([REPAS.sum()])\n",
      "C:\\Users\\karl\\AppData\\Local\\Temp\\ipykernel_8724\\651972437.py:4: DeprecationWarning: `method='simplex'` is deprecated and will be removed in SciPy 1.11.0. Please use one of the HiGHS solvers (e.g. `method='highs'`) in new code.\n",
      "  RESULTFE=so.linprog(z_ori, A_ub=-coeff, b_ub=-betaFE,method='simplex',bounds = bdns)\n",
      "C:\\Users\\karl\\AppData\\Local\\Temp\\ipykernel_8724\\2694851566.py:8: FutureWarning: The frame.append method is deprecated and will be removed from pandas in a future version. Use pandas.concat instead.\n",
      "  REPAS=REPAS.append([REPAS.sum()])\n",
      "C:\\Users\\karl\\AppData\\Local\\Temp\\ipykernel_8724\\651972437.py:4: DeprecationWarning: `method='simplex'` is deprecated and will be removed in SciPy 1.11.0. Please use one of the HiGHS solvers (e.g. `method='highs'`) in new code.\n",
      "  RESULTFE=so.linprog(z_ori, A_ub=-coeff, b_ub=-betaFE,method='simplex',bounds = bdns)\n",
      "C:\\Users\\karl\\AppData\\Local\\Temp\\ipykernel_8724\\2694851566.py:8: FutureWarning: The frame.append method is deprecated and will be removed from pandas in a future version. Use pandas.concat instead.\n",
      "  REPAS=REPAS.append([REPAS.sum()])\n",
      "C:\\Users\\karl\\AppData\\Local\\Temp\\ipykernel_8724\\651972437.py:4: DeprecationWarning: `method='simplex'` is deprecated and will be removed in SciPy 1.11.0. Please use one of the HiGHS solvers (e.g. `method='highs'`) in new code.\n",
      "  RESULTFE=so.linprog(z_ori, A_ub=-coeff, b_ub=-betaFE,method='simplex',bounds = bdns)\n",
      "C:\\Users\\karl\\AppData\\Local\\Temp\\ipykernel_8724\\2694851566.py:8: FutureWarning: The frame.append method is deprecated and will be removed from pandas in a future version. Use pandas.concat instead.\n",
      "  REPAS=REPAS.append([REPAS.sum()])\n",
      "C:\\Users\\karl\\AppData\\Local\\Temp\\ipykernel_8724\\651972437.py:4: DeprecationWarning: `method='simplex'` is deprecated and will be removed in SciPy 1.11.0. Please use one of the HiGHS solvers (e.g. `method='highs'`) in new code.\n",
      "  RESULTFE=so.linprog(z_ori, A_ub=-coeff, b_ub=-betaFE,method='simplex',bounds = bdns)\n",
      "C:\\Users\\karl\\AppData\\Local\\Temp\\ipykernel_8724\\2694851566.py:8: FutureWarning: The frame.append method is deprecated and will be removed from pandas in a future version. Use pandas.concat instead.\n",
      "  REPAS=REPAS.append([REPAS.sum()])\n",
      "C:\\Users\\karl\\AppData\\Local\\Temp\\ipykernel_8724\\651972437.py:4: DeprecationWarning: `method='simplex'` is deprecated and will be removed in SciPy 1.11.0. Please use one of the HiGHS solvers (e.g. `method='highs'`) in new code.\n",
      "  RESULTFE=so.linprog(z_ori, A_ub=-coeff, b_ub=-betaFE,method='simplex',bounds = bdns)\n",
      "C:\\Users\\karl\\AppData\\Local\\Temp\\ipykernel_8724\\2694851566.py:8: FutureWarning: The frame.append method is deprecated and will be removed from pandas in a future version. Use pandas.concat instead.\n",
      "  REPAS=REPAS.append([REPAS.sum()])\n"
     ]
    }
   ],
   "source": [
    "X=[]\n",
    "for k in [2,4,6,8,10,12,14,16,18,20]:\n",
    "    betaFE=np.array([75,90,225,9,800,45,-k])\n",
    "    RESULTFE=so.linprog(z_ori, A_ub=-coeff, b_ub=-betaFE,method='simplex',bounds = bdns)\n",
    "    if RESULTFE.success==True:\n",
    "        print('\\nPour les femmes avec un prix de {} euros.'.format(k))\n",
    "        repas_regime(RESULTFE)\n",
    "        qte=RESULTFE.x\n",
    "        X.append(list(qte))\n",
    "    else : print('\\nRepas impossible pour le prix {} euros.'.format(k))"
   ]
  },
  {
   "cell_type": "code",
   "execution_count": 38,
   "metadata": {},
   "outputs": [],
   "source": [
    "import matplotlib.pyplot as plt\n",
    "import ipywidgets as wid"
   ]
  },
  {
   "cell_type": "code",
   "execution_count": 39,
   "metadata": {},
   "outputs": [
    {
     "data": {
      "image/png": "[encoded data removed]",
      "text/plain": [
       "<Figure size 640x480 with 1 Axes>"
      ]
     },
     "metadata": {},
     "output_type": "display_data"
    }
   ],
   "source": [
    "Xar=np.array(X)\n",
    "plt.stackplot(Xar[0],Xar[1],Xar[2],Xar[3],Xar[4],Xar[5], baseline = 'zero')\n",
    "plt.show()"
   ]
  },
  {
   "cell_type": "code",
   "execution_count": 40,
   "metadata": {},
   "outputs": [
    {
     "data": {
      "text/plain": [
       "[<matplotlib.lines.Line2D at 0x1f4717da790>,\n",
       " <matplotlib.lines.Line2D at 0x1f4717daa90>,\n",
       " <matplotlib.lines.Line2D at 0x1f4717dae50>,\n",
       " <matplotlib.lines.Line2D at 0x1f4717db350>,\n",
       " <matplotlib.lines.Line2D at 0x1f4717db710>,\n",
       " <matplotlib.lines.Line2D at 0x1f4717dbb50>,\n",
       " <matplotlib.lines.Line2D at 0x1f4717ec210>,\n",
       " <matplotlib.lines.Line2D at 0x1f4717ec690>,\n",
       " <matplotlib.lines.Line2D at 0x1f4717db810>,\n",
       " <matplotlib.lines.Line2D at 0x1f4717ecf90>,\n",
       " <matplotlib.lines.Line2D at 0x1f4717ed290>,\n",
       " <matplotlib.lines.Line2D at 0x1f46f5ed790>,\n",
       " <matplotlib.lines.Line2D at 0x1f4717edad0>,\n",
       " <matplotlib.lines.Line2D at 0x1f4717edf10>,\n",
       " <matplotlib.lines.Line2D at 0x1f4717ee350>,\n",
       " <matplotlib.lines.Line2D at 0x1f4717ee750>,\n",
       " <matplotlib.lines.Line2D at 0x1f46f586c90>,\n",
       " <matplotlib.lines.Line2D at 0x1f4717c7090>,\n",
       " <matplotlib.lines.Line2D at 0x1f4717ef390>,\n",
       " <matplotlib.lines.Line2D at 0x1f4717cf8d0>,\n",
       " <matplotlib.lines.Line2D at 0x1f46f5efcd0>,\n",
       " <matplotlib.lines.Line2D at 0x1f4717f4150>,\n",
       " <matplotlib.lines.Line2D at 0x1f46f5cc550>,\n",
       " <matplotlib.lines.Line2D at 0x1f4717f4850>,\n",
       " <matplotlib.lines.Line2D at 0x1f46f5f9dd0>,\n",
       " <matplotlib.lines.Line2D at 0x1f4717f5090>,\n",
       " <matplotlib.lines.Line2D at 0x1f4717f54d0>,\n",
       " <matplotlib.lines.Line2D at 0x1f4717f58d0>,\n",
       " <matplotlib.lines.Line2D at 0x1f4717f5cd0>,\n",
       " <matplotlib.lines.Line2D at 0x1f4717f6110>,\n",
       " <matplotlib.lines.Line2D at 0x1f4717f6510>,\n",
       " <matplotlib.lines.Line2D at 0x1f4717f6950>,\n",
       " <matplotlib.lines.Line2D at 0x1f4717f6d90>,\n",
       " <matplotlib.lines.Line2D at 0x1f4717bf2d0>,\n",
       " <matplotlib.lines.Line2D at 0x1f4717f75d0>,\n",
       " <matplotlib.lines.Line2D at 0x1f46f572a50>,\n",
       " <matplotlib.lines.Line2D at 0x1f4717c7f10>,\n",
       " <matplotlib.lines.Line2D at 0x1f4717f8250>,\n",
       " <matplotlib.lines.Line2D at 0x1f46f6057d0>,\n",
       " <matplotlib.lines.Line2D at 0x1f4717f8a90>,\n",
       " <matplotlib.lines.Line2D at 0x1f4717f8ed0>]"
      ]
     },
     "execution_count": 40,
     "metadata": {},
     "output_type": "execute_result"
    },
    {
     "data": {
      "image/png": "[encoded data removed]",
      "text/plain": [
       "<Figure size 640x480 with 1 Axes>"
      ]
     },
     "metadata": {},
     "output_type": "display_data"
    }
   ],
   "source": [
    "plt.plot(Xar)"
   ]
  },
  {
   "cell_type": "code",
   "execution_count": null,
   "metadata": {},
   "outputs": [],
   "source": []
  },
  {
   "cell_type": "code",
   "execution_count": null,
   "metadata": {},
   "outputs": [],
   "source": []
  },
  {
   "cell_type": "code",
   "execution_count": null,
   "metadata": {},
   "outputs": [],
   "source": []
  },
  {
   "cell_type": "code",
   "execution_count": null,
   "metadata": {},
   "outputs": [],
   "source": []
  },
  {
   "cell_type": "code",
   "execution_count": null,
   "metadata": {},
   "outputs": [],
   "source": []
  },
  {
   "cell_type": "code",
   "execution_count": null,
   "metadata": {},
   "outputs": [],
   "source": []
  },
  {
   "cell_type": "code",
   "execution_count": null,
   "metadata": {},
   "outputs": [],
   "source": []
  },
  {
   "cell_type": "code",
   "execution_count": null,
   "metadata": {},
   "outputs": [],
   "source": []
  },
  {
   "cell_type": "code",
   "execution_count": null,
   "metadata": {},
   "outputs": [],
   "source": []
  },
  {
   "cell_type": "code",
   "execution_count": null,
   "metadata": {},
   "outputs": [],
   "source": []
  },
  {
   "cell_type": "code",
   "execution_count": null,
   "metadata": {},
   "outputs": [],
   "source": []
  }
 ],
 "metadata": {
  "kernelspec": {
   "display_name": "Python 3",
   "language": "python",
   "name": "python3"
  },
  "language_info": {
   "codemirror_mode": {
    "name": "ipython",
    "version": 3
   },
   "file_extension": ".py",
   "mimetype": "text/x-python",
   "name": "python",
   "nbconvert_exporter": "python",
   "pygments_lexer": "ipython3",
   "version": "3.11.2"
  },
  "vscode": {
   "interpreter": {
    "hash": "c261aea317cc0286b3b3261fbba9abdec21eaa57589985bb7a274bf54d6cc0a7"
   }
  }
 },
 "nbformat": 4,
 "nbformat_minor": 2
}
