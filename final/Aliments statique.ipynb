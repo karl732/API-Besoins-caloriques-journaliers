{
 "cells": [
  {
   "cell_type": "code",
   "execution_count": 4,
   "metadata": {
    "collapsed": true
   },
   "outputs": [],
   "source": [
    "import pandas as pd\n",
    "import numpy as np\n",
    "np.set_printoptions(precision=1,suppress=True)"
   ]
  },
  {
   "attachments": {},
   "cell_type": "markdown",
   "metadata": {},
   "source": [
    "# Sujet 02 : Régime Alimentaire\n",
    "\n",
    "On utilisera les données contenues dans le fichier `Aliments.csv` dans la suite.\n",
    "\n",
    "1. Les besoins  journaliers de Marie sont les suivants :\n",
    "- Kcal : 2000kcal (F)\n",
    "- Protéines : 75g (F)\n",
    "- Glucides : 225g (F)\n",
    "- Lipides : 90g (F)\n",
    "- Fer : 9mg (F) \n",
    "- Calcium : 0.8g (F)\n",
    "- Fibre : 45g (F)\n",
    "\n",
    "**Comment doit-elle satisfaire ses besoins si elle veut minimiser son budget?**\n",
    "\n",
    "2. Comment procéder si elle ne veut pas dépasser de plus de 10% les apports journaliers?"
   ]
  },
  {
   "attachments": {},
   "cell_type": "markdown",
   "metadata": {},
   "source": [
    "Reformumation du problème et mise en place des, étapes à suivre.\n",
    "On considère que les régimes ne doivent pas apporter moins que ces quantités.\n",
    "\n",
    "1) Proposer le régime journalier le moins cher pour marie et pour les femmes en général.\n",
    "\n",
    "2) Même question en considérant que les différents critéres ne doivent pas dépasser 1.1 fois (10%) la dose recommandé.\n",
    "\n",
    "3) Dans le but d 'un régime, on souhaite minimiser son budget, mais aussi minimiser les calories sans s'opposer aux autres contraintes. Le faire sans contraintes de budget (H et F) puis avec différents niveaux de contraintes journalières. \n",
    "\n",
    "4) Faire une étude détaillé  du menu proposé."
   ]
  },
  {
   "cell_type": "markdown",
   "metadata": {},
   "source": [
    "On commence par charger le fichier de donnée dans un data frame (avec panda)"
   ]
  },
  {
   "cell_type": "code",
   "execution_count": 5,
   "metadata": {
    "collapsed": true
   },
   "outputs": [],
   "source": [
    "Al=pd.read_csv('./Aliments.csv',sep=';',index_col=0)"
   ]
  },
  {
   "cell_type": "code",
   "execution_count": 6,
   "metadata": {},
   "outputs": [
    {
     "data": {
      "text/html": [
       "<div>\n",
       "<style scoped>\n",
       "    .dataframe tbody tr th:only-of-type {\n",
       "        vertical-align: middle;\n",
       "    }\n",
       "\n",
       "    .dataframe tbody tr th {\n",
       "        vertical-align: top;\n",
       "    }\n",
       "\n",
       "    .dataframe thead th {\n",
       "        text-align: right;\n",
       "    }\n",
       "</style>\n",
       "<table border=\"1\" class=\"dataframe\">\n",
       "  <thead>\n",
       "    <tr style=\"text-align: right;\">\n",
       "      <th></th>\n",
       "      <th>Protéines (en g)</th>\n",
       "      <th>Lipides (en g)</th>\n",
       "      <th>Glucides (en g)</th>\n",
       "      <th>Energie (kcal)</th>\n",
       "      <th>Fer (mg)</th>\n",
       "      <th>Calcium (mg)</th>\n",
       "      <th>Fibres (en g)</th>\n",
       "      <th>Prix €/100g</th>\n",
       "    </tr>\n",
       "    <tr>\n",
       "      <th>Produit (100g)</th>\n",
       "      <th></th>\n",
       "      <th></th>\n",
       "      <th></th>\n",
       "      <th></th>\n",
       "      <th></th>\n",
       "      <th></th>\n",
       "      <th></th>\n",
       "      <th></th>\n",
       "    </tr>\n",
       "  </thead>\n",
       "  <tbody>\n",
       "    <tr>\n",
       "      <th>Lait – Emmental</th>\n",
       "      <td>26.93</td>\n",
       "      <td>27.80</td>\n",
       "      <td>5.38</td>\n",
       "      <td>380</td>\n",
       "      <td>0.20</td>\n",
       "      <td>791.0</td>\n",
       "      <td>0.0</td>\n",
       "      <td>1.30</td>\n",
       "    </tr>\n",
       "    <tr>\n",
       "      <th>Lait – crème fraîche</th>\n",
       "      <td>20.90</td>\n",
       "      <td>35.00</td>\n",
       "      <td>2.84</td>\n",
       "      <td>328</td>\n",
       "      <td>0.03</td>\n",
       "      <td>66.3</td>\n",
       "      <td>0.0</td>\n",
       "      <td>0.84</td>\n",
       "    </tr>\n",
       "    <tr>\n",
       "      <th>Lait – Petit-suisse</th>\n",
       "      <td>9.40</td>\n",
       "      <td>9.45</td>\n",
       "      <td>3.30</td>\n",
       "      <td>136</td>\n",
       "      <td>0.20</td>\n",
       "      <td>112.0</td>\n",
       "      <td>0.0</td>\n",
       "      <td>0.44</td>\n",
       "    </tr>\n",
       "    <tr>\n",
       "      <th>Lait – Lait entier (vache)</th>\n",
       "      <td>3.15</td>\n",
       "      <td>3.25</td>\n",
       "      <td>4.80</td>\n",
       "      <td>61</td>\n",
       "      <td>0.30</td>\n",
       "      <td>113.0</td>\n",
       "      <td>0.0</td>\n",
       "      <td>0.28</td>\n",
       "    </tr>\n",
       "    <tr>\n",
       "      <th>Lait – Lait entier  (chèvre)</th>\n",
       "      <td>3.56</td>\n",
       "      <td>4.14</td>\n",
       "      <td>4.45</td>\n",
       "      <td>69</td>\n",
       "      <td>0.05</td>\n",
       "      <td>134.0</td>\n",
       "      <td>0.0</td>\n",
       "      <td>0.70</td>\n",
       "    </tr>\n",
       "  </tbody>\n",
       "</table>\n",
       "</div>"
      ],
      "text/plain": [
       "                              Protéines (en g)  Lipides (en g)  \\\n",
       "Produit (100g)                                                   \n",
       "Lait – Emmental                          26.93           27.80   \n",
       "Lait – crème fraîche                     20.90           35.00   \n",
       "Lait – Petit-suisse                       9.40            9.45   \n",
       "Lait – Lait entier (vache)                3.15            3.25   \n",
       "Lait – Lait entier  (chèvre)              3.56            4.14   \n",
       "\n",
       "                              Glucides (en g)  Energie (kcal)  Fer (mg)  \\\n",
       "Produit (100g)                                                            \n",
       "Lait – Emmental                          5.38             380      0.20   \n",
       "Lait – crème fraîche                     2.84             328      0.03   \n",
       "Lait – Petit-suisse                      3.30             136      0.20   \n",
       "Lait – Lait entier (vache)               4.80              61      0.30   \n",
       "Lait – Lait entier  (chèvre)             4.45              69      0.05   \n",
       "\n",
       "                              Calcium (mg)  Fibres (en g)  Prix €/100g  \n",
       "Produit (100g)                                                          \n",
       "Lait – Emmental                      791.0            0.0         1.30  \n",
       "Lait – crème fraîche                  66.3            0.0         0.84  \n",
       "Lait – Petit-suisse                  112.0            0.0         0.44  \n",
       "Lait – Lait entier (vache)           113.0            0.0         0.28  \n",
       "Lait – Lait entier  (chèvre)         134.0            0.0         0.70  "
      ]
     },
     "execution_count": 6,
     "metadata": {},
     "output_type": "execute_result"
    }
   ],
   "source": [
    "Al.head()"
   ]
  },
  {
   "cell_type": "markdown",
   "metadata": {},
   "source": [
    "# Question 1"
   ]
  },
  {
   "cell_type": "markdown",
   "metadata": {},
   "source": [
    "a) Détermination des matrices de travail."
   ]
  },
  {
   "cell_type": "code",
   "execution_count": 7,
   "metadata": {
    "collapsed": true
   },
   "outputs": [],
   "source": [
    "A=np.array(Al).T\n",
    "coeff=A[:-1] ## matrice des coefficients\n",
    "z_ori=A[-1]### coefficients de la fonction de coût (prix)\n",
    "betaF=np.array([75,90,225,2000,9,800,45]) ## second membre pour les femmes\n",
    "# 2000kcal, 75g prot, 225g glu, 90g lip, 9mg fer, 800mg calc, 45g fibre"
   ]
  },
  {
   "attachments": {},
   "cell_type": "markdown",
   "metadata": {},
   "source": [
    "## Formalisation mathématique du problème"
   ]
  },
  {
   "attachments": {},
   "cell_type": "markdown",
   "metadata": {},
   "source": [
    "N = 41 Nombres d'aliments\n",
    "\n",
    "P = 8 Nombre de nutriments\n",
    "\n",
    "$\\beta i$  $\\forall i \\in [1;P]$ est le besoin journalier en nutriments\n",
    "\n",
    "$C_{ij}$ $\\forall i \\in [1;N]$ et $\\forall j \\in [1,P]$ est l'apport du i-ème aliment par rapport au j-ème nutriment : soit 100g du i-ème aliment apporte $C_{ij}$ grammes du j-ème nutriment.\n",
    "\n",
    "$Pi$ $\\forall i \\in [1;N]$ est le prix au 100g du i-ème aliment.\n",
    "\n",
    "$qi$ $\\forall$ i $\\in [1;N]$ est la quantité achetée/consommée du i-ème aliment.\n",
    "\n",
    "$\\sum_{i=1}^{N} C_{ij} q_i \\geq$ $\\beta_j$   $\\forall j \\in [1;P]$ avec $q_i \\geq 0$   $\\forall i \\in [1;N]$\n",
    "\n",
    "$z$ = $\\min \\sum_{i=1}^{N} p_i q_i$ est le coût minimum du repas."
   ]
  },
  {
   "attachments": {},
   "cell_type": "markdown",
   "metadata": {},
   "source": [
    "**Traduction en linprog**\n",
    "\n",
    "z_ori = z ce sont les coéffiscients d'une fonction linéaire à minimiser, ici c'est le vecteur de la 8-ème colonne contennant les prix ($Pi$).\n",
    "\n",
    "A_ub = -coeff est une matrice (tableau-2D) contenant les coéficients de la contrainte d'inégalité, contraints en $x$ avec A_ub $\\times$ $x$ $\\leq$ b_ub, c'est pourquoi ici on a mis un moins devant coeff car nous on veut que les besoins journaliers soient au minimum satisfait si ce n'est plus. Précédement appellé $C_{ij}$ $\\times$ $qi$\n",
    "\n",
    "b_ub = -betaF est le vecteur des besoins journaliers en nutriments. Préccédement noté $\\beta i$. Là encore on a mis un moins devant coeff car nous on veut que les besoins journaliers soient au minimum satisfait si ce n'est plus.\n",
    "\n",
    "bounds = les contraintes de quantités que l'on pourra imposer ou non à un ou plusieurs aliments."
   ]
  },
  {
   "cell_type": "code",
   "execution_count": null,
   "metadata": {},
   "outputs": [],
   "source": []
  },
  {
   "cell_type": "markdown",
   "metadata": {},
   "source": [
    "b) On utilise scipy.optimize"
   ]
  },
  {
   "cell_type": "code",
   "execution_count": 8,
   "metadata": {
    "collapsed": true
   },
   "outputs": [],
   "source": [
    "import scipy.optimize as so"
   ]
  },
  {
   "cell_type": "code",
   "execution_count": 9,
   "metadata": {},
   "outputs": [
    {
     "name": "stderr",
     "output_type": "stream",
     "text": [
      "C:\\Users\\karl\\AppData\\Local\\Temp\\ipykernel_16360\\2621746166.py:1: DeprecationWarning: `method='simplex'` is deprecated and will be removed in SciPy 1.11.0. Please use one of the HiGHS solvers (e.g. `method='highs'`) in new code.\n",
      "  RESULTF=so.linprog(z_ori, A_ub=-coeff, b_ub=-betaF,method='simplex')\n"
     ]
    },
    {
     "data": {
      "text/plain": [
       "<function scipy.optimize._linprog.linprog(c, A_ub=None, b_ub=None, A_eq=None, b_eq=None, bounds=None, method='highs', callback=None, options=None, x0=None, integrality=None)>"
      ]
     },
     "execution_count": 9,
     "metadata": {},
     "output_type": "execute_result"
    }
   ],
   "source": [
    "RESULTF=so.linprog(z_ori, A_ub=-coeff, b_ub=-betaF,method='simplex') \n",
    "RESULTF\n",
    "so.linprog"
   ]
  },
  {
   "cell_type": "code",
   "execution_count": 10,
   "metadata": {},
   "outputs": [
    {
     "data": {
      "text/plain": [
       "2.052827380785162"
      ]
     },
     "execution_count": 10,
     "metadata": {},
     "output_type": "execute_result"
    }
   ],
   "source": [
    "RESULTF.fun ##cout minimal"
   ]
  },
  {
   "cell_type": "code",
   "execution_count": 11,
   "metadata": {},
   "outputs": [
    {
     "data": {
      "text/plain": [
       "array([ 0. ,  0. ,  0. ,  0. ,  0. ,  0. ,  0. ,  0. ,  0.3,  0. ,  0. ,\n",
       "        0. ,  0. ,  0. ,  0. ,  0. ,  0. ,  0. ,  0. ,  0. ,  0. ,  0. ,\n",
       "        0. ,  0. ,  0. ,  0. ,  0. ,  0. ,  0. ,  0. ,  0. ,  0. ,  0. ,\n",
       "        0. ,  0. ,  0. ,  0. ,  0. , 13.5,  0. ,  0. ])"
      ]
     },
     "execution_count": 11,
     "metadata": {},
     "output_type": "execute_result"
    }
   ],
   "source": [
    "A=RESULTF.x ##valeurs réalisant l'optimum\n",
    "A"
   ]
  },
  {
   "attachments": {},
   "cell_type": "markdown",
   "metadata": {},
   "source": [
    "b) Calculons maintenant le data frame calculant les apports de ce repas."
   ]
  },
  {
   "cell_type": "code",
   "execution_count": 12,
   "metadata": {},
   "outputs": [
    {
     "data": {
      "text/html": [
       "<div>\n",
       "<style scoped>\n",
       "    .dataframe tbody tr th:only-of-type {\n",
       "        vertical-align: middle;\n",
       "    }\n",
       "\n",
       "    .dataframe tbody tr th {\n",
       "        vertical-align: top;\n",
       "    }\n",
       "\n",
       "    .dataframe thead th {\n",
       "        text-align: right;\n",
       "    }\n",
       "</style>\n",
       "<table border=\"1\" class=\"dataframe\">\n",
       "  <thead>\n",
       "    <tr style=\"text-align: right;\">\n",
       "      <th></th>\n",
       "      <th>Protéines (en g)</th>\n",
       "      <th>Lipides (en g)</th>\n",
       "      <th>Glucides (en g)</th>\n",
       "      <th>Energie (kcal)</th>\n",
       "      <th>Fer (mg)</th>\n",
       "      <th>Calcium (mg)</th>\n",
       "      <th>Fibres (en g)</th>\n",
       "      <th>Prix €/100g</th>\n",
       "    </tr>\n",
       "    <tr>\n",
       "      <th>Produit (100g)</th>\n",
       "      <th></th>\n",
       "      <th></th>\n",
       "      <th></th>\n",
       "      <th></th>\n",
       "      <th></th>\n",
       "      <th></th>\n",
       "      <th></th>\n",
       "      <th></th>\n",
       "    </tr>\n",
       "  </thead>\n",
       "  <tbody>\n",
       "    <tr>\n",
       "      <th>Lait – Beurre</th>\n",
       "      <td>0.85</td>\n",
       "      <td>81.11</td>\n",
       "      <td>0.06</td>\n",
       "      <td>717</td>\n",
       "      <td>0.02</td>\n",
       "      <td>24.0</td>\n",
       "      <td>0.0</td>\n",
       "      <td>1.18</td>\n",
       "    </tr>\n",
       "    <tr>\n",
       "      <th>Base – Haricots blancs</th>\n",
       "      <td>5.54</td>\n",
       "      <td>5.15</td>\n",
       "      <td>21.63</td>\n",
       "      <td>155</td>\n",
       "      <td>1.99</td>\n",
       "      <td>61.0</td>\n",
       "      <td>5.5</td>\n",
       "      <td>0.13</td>\n",
       "    </tr>\n",
       "  </tbody>\n",
       "</table>\n",
       "</div>"
      ],
      "text/plain": [
       "                        Protéines (en g)  Lipides (en g)  Glucides (en g)  \\\n",
       "Produit (100g)                                                              \n",
       "Lait – Beurre                       0.85           81.11             0.06   \n",
       "Base – Haricots blancs              5.54            5.15            21.63   \n",
       "\n",
       "                        Energie (kcal)  Fer (mg)  Calcium (mg)  Fibres (en g)  \\\n",
       "Produit (100g)                                                                  \n",
       "Lait – Beurre                      717      0.02          24.0            0.0   \n",
       "Base – Haricots blancs             155      1.99          61.0            5.5   \n",
       "\n",
       "                        Prix €/100g  \n",
       "Produit (100g)                       \n",
       "Lait – Beurre                  1.18  \n",
       "Base – Haricots blancs         0.13  "
      ]
     },
     "metadata": {},
     "output_type": "display_data"
    },
    {
     "data": {
      "text/html": [
       "<div>\n",
       "<style scoped>\n",
       "    .dataframe tbody tr th:only-of-type {\n",
       "        vertical-align: middle;\n",
       "    }\n",
       "\n",
       "    .dataframe tbody tr th {\n",
       "        vertical-align: top;\n",
       "    }\n",
       "\n",
       "    .dataframe thead th {\n",
       "        text-align: right;\n",
       "    }\n",
       "</style>\n",
       "<table border=\"1\" class=\"dataframe\">\n",
       "  <thead>\n",
       "    <tr style=\"text-align: right;\">\n",
       "      <th></th>\n",
       "      <th>Quantités en g</th>\n",
       "    </tr>\n",
       "    <tr>\n",
       "      <th>Produit (100g)</th>\n",
       "      <th></th>\n",
       "    </tr>\n",
       "  </thead>\n",
       "  <tbody>\n",
       "    <tr>\n",
       "      <th>Lait – Beurre</th>\n",
       "      <td>25.248785</td>\n",
       "    </tr>\n",
       "    <tr>\n",
       "      <th>Base – Haricots blancs</th>\n",
       "      <td>1349.916703</td>\n",
       "    </tr>\n",
       "  </tbody>\n",
       "</table>\n",
       "</div>"
      ],
      "text/plain": [
       "                        Quantités en g\n",
       "Produit (100g)                        \n",
       "Lait – Beurre                25.248785\n",
       "Base – Haricots blancs     1349.916703"
      ]
     },
     "metadata": {},
     "output_type": "display_data"
    }
   ],
   "source": [
    "u,=A.nonzero()\n",
    "REST=Al.iloc[u,:]\n",
    "display(REST)\n",
    "QTE=pd.DataFrame({'Quantités en g' : 100*A[A.nonzero()]}).set_index(Al.iloc[u,:].index)\n",
    "display(QTE)"
   ]
  },
  {
   "cell_type": "code",
   "execution_count": 13,
   "metadata": {},
   "outputs": [
    {
     "name": "stderr",
     "output_type": "stream",
     "text": [
      "C:\\Users\\karl\\AppData\\Local\\Temp\\ipykernel_16360\\921585303.py:3: FutureWarning: The frame.append method is deprecated and will be removed from pandas in a future version. Use pandas.concat instead.\n",
      "  REPAS=REPAS.append([REPAS.sum()])\n"
     ]
    },
    {
     "data": {
      "text/html": [
       "<div>\n",
       "<style scoped>\n",
       "    .dataframe tbody tr th:only-of-type {\n",
       "        vertical-align: middle;\n",
       "    }\n",
       "\n",
       "    .dataframe tbody tr th {\n",
       "        vertical-align: top;\n",
       "    }\n",
       "\n",
       "    .dataframe thead th {\n",
       "        text-align: right;\n",
       "    }\n",
       "</style>\n",
       "<table border=\"1\" class=\"dataframe\">\n",
       "  <thead>\n",
       "    <tr style=\"text-align: right;\">\n",
       "      <th></th>\n",
       "      <th>Quantité (en g)</th>\n",
       "      <th>Protéines (en g)</th>\n",
       "      <th>Lipides (en g)</th>\n",
       "      <th>Glucides (en g)</th>\n",
       "      <th>Energie (kcal)</th>\n",
       "      <th>Fer (mg)</th>\n",
       "      <th>Calcium (mg)</th>\n",
       "      <th>Fibres (en g)</th>\n",
       "      <th>Prix (en €)</th>\n",
       "    </tr>\n",
       "  </thead>\n",
       "  <tbody>\n",
       "    <tr>\n",
       "      <th>Lait – Beurre</th>\n",
       "      <td>25.248785</td>\n",
       "      <td>0.214615</td>\n",
       "      <td>20.47929</td>\n",
       "      <td>0.015149</td>\n",
       "      <td>181.033791</td>\n",
       "      <td>0.005050</td>\n",
       "      <td>6.059708</td>\n",
       "      <td>0.000000</td>\n",
       "      <td>0.297936</td>\n",
       "    </tr>\n",
       "    <tr>\n",
       "      <th>Base – Haricots blancs</th>\n",
       "      <td>1349.916703</td>\n",
       "      <td>74.785385</td>\n",
       "      <td>69.52071</td>\n",
       "      <td>291.986983</td>\n",
       "      <td>2092.370889</td>\n",
       "      <td>26.863342</td>\n",
       "      <td>823.449189</td>\n",
       "      <td>74.245419</td>\n",
       "      <td>1.754892</td>\n",
       "    </tr>\n",
       "    <tr>\n",
       "      <th>Apports du repas</th>\n",
       "      <td>1375.165488</td>\n",
       "      <td>75.000000</td>\n",
       "      <td>90.00000</td>\n",
       "      <td>292.002132</td>\n",
       "      <td>2273.404680</td>\n",
       "      <td>26.868392</td>\n",
       "      <td>829.508897</td>\n",
       "      <td>74.245419</td>\n",
       "      <td>2.052827</td>\n",
       "    </tr>\n",
       "  </tbody>\n",
       "</table>\n",
       "</div>"
      ],
      "text/plain": [
       "                        Quantité (en g)  Protéines (en g)  Lipides (en g)  \\\n",
       "Lait – Beurre                 25.248785          0.214615        20.47929   \n",
       "Base – Haricots blancs      1349.916703         74.785385        69.52071   \n",
       "Apports du repas            1375.165488         75.000000        90.00000   \n",
       "\n",
       "                        Glucides (en g)  Energie (kcal)   Fer (mg)  \\\n",
       "Lait – Beurre                  0.015149      181.033791   0.005050   \n",
       "Base – Haricots blancs       291.986983     2092.370889  26.863342   \n",
       "Apports du repas             292.002132     2273.404680  26.868392   \n",
       "\n",
       "                        Calcium (mg)  Fibres (en g)  Prix (en €)  \n",
       "Lait – Beurre               6.059708       0.000000     0.297936  \n",
       "Base – Haricots blancs    823.449189      74.245419     1.754892  \n",
       "Apports du repas          829.508897      74.245419     2.052827  "
      ]
     },
     "metadata": {},
     "output_type": "display_data"
    }
   ],
   "source": [
    "\n",
    "BILAN=pd.DataFrame((np.array(REST).T*A[A.nonzero()]).T).set_index(QTE.index)\n",
    "REPAS=pd.concat([QTE,BILAN],axis=1)\n",
    "REPAS=REPAS.append([REPAS.sum()])\n",
    "Namescol=['Quantité (en g)']+list(Al.columns)\n",
    "Namescol[-1]='Prix (en €)'\n",
    "REPAS.columns=Namescol\n",
    "Namesrow=list(QTE.index)\n",
    "Namesrow.append('Apports du repas')\n",
    "REPAS.index=Namesrow\n",
    "display(REPAS)"
   ]
  },
  {
   "cell_type": "markdown",
   "metadata": {},
   "source": [
    "On en fait une fonction"
   ]
  },
  {
   "cell_type": "code",
   "execution_count": 14,
   "metadata": {
    "collapsed": true
   },
   "outputs": [],
   "source": [
    "def apports(RESULT):\n",
    "    A=RESULT.x\n",
    "    u,=A.nonzero()\n",
    "    REST=Al.iloc[u,:]\n",
    "    QTE=pd.DataFrame({'Quantités en g' : 100*A[A.nonzero()]}).set_index(Al.iloc[u,:].index)\n",
    "    BILAN=pd.DataFrame((np.array(REST).T*A[A.nonzero()]).T).set_index(QTE.index)\n",
    "    REPAS=pd.concat([QTE,BILAN],axis=1)\n",
    "    REPAS=REPAS.append([REPAS.sum()])\n",
    "    Namescol=['Quantité (en g)']+list(Al.columns)\n",
    "    Namescol[-1]='Prix (en €)'\n",
    "    REPAS.columns=Namescol\n",
    "    Namesrow=list(QTE.index)\n",
    "    Namesrow.append('Apports du repas')\n",
    "    REPAS.index=Namesrow\n",
    "\n",
    "    return REPAS"
   ]
  },
  {
   "cell_type": "code",
   "execution_count": 15,
   "metadata": {},
   "outputs": [
    {
     "data": {
      "text/plain": [
       "pandas.core.frame.DataFrame"
      ]
     },
     "execution_count": 15,
     "metadata": {},
     "output_type": "execute_result"
    }
   ],
   "source": [
    "type(REPAS)"
   ]
  },
  {
   "cell_type": "code",
   "execution_count": 16,
   "metadata": {},
   "outputs": [
    {
     "name": "stderr",
     "output_type": "stream",
     "text": [
      "C:\\Users\\karl\\AppData\\Local\\Temp\\ipykernel_16360\\2694851566.py:8: FutureWarning: The frame.append method is deprecated and will be removed from pandas in a future version. Use pandas.concat instead.\n",
      "  REPAS=REPAS.append([REPAS.sum()])\n"
     ]
    },
    {
     "data": {
      "text/plain": [
       "1375.165487978005"
      ]
     },
     "metadata": {},
     "output_type": "display_data"
    },
    {
     "data": {
      "text/html": [
       "<div>\n",
       "<style scoped>\n",
       "    .dataframe tbody tr th:only-of-type {\n",
       "        vertical-align: middle;\n",
       "    }\n",
       "\n",
       "    .dataframe tbody tr th {\n",
       "        vertical-align: top;\n",
       "    }\n",
       "\n",
       "    .dataframe thead th {\n",
       "        text-align: right;\n",
       "    }\n",
       "</style>\n",
       "<table border=\"1\" class=\"dataframe\">\n",
       "  <thead>\n",
       "    <tr style=\"text-align: right;\">\n",
       "      <th></th>\n",
       "      <th>Quantité (en g)</th>\n",
       "      <th>Protéines (en g)</th>\n",
       "      <th>Lipides (en g)</th>\n",
       "      <th>Glucides (en g)</th>\n",
       "      <th>Energie (kcal)</th>\n",
       "      <th>Fer (mg)</th>\n",
       "      <th>Calcium (mg)</th>\n",
       "      <th>Fibres (en g)</th>\n",
       "      <th>Prix (en €)</th>\n",
       "    </tr>\n",
       "  </thead>\n",
       "  <tbody>\n",
       "    <tr>\n",
       "      <th>Lait – Beurre</th>\n",
       "      <td>25.248785</td>\n",
       "      <td>0.214615</td>\n",
       "      <td>20.47929</td>\n",
       "      <td>0.015149</td>\n",
       "      <td>181.033791</td>\n",
       "      <td>0.005050</td>\n",
       "      <td>6.059708</td>\n",
       "      <td>0.000000</td>\n",
       "      <td>0.297936</td>\n",
       "    </tr>\n",
       "    <tr>\n",
       "      <th>Base – Haricots blancs</th>\n",
       "      <td>1349.916703</td>\n",
       "      <td>74.785385</td>\n",
       "      <td>69.52071</td>\n",
       "      <td>291.986983</td>\n",
       "      <td>2092.370889</td>\n",
       "      <td>26.863342</td>\n",
       "      <td>823.449189</td>\n",
       "      <td>74.245419</td>\n",
       "      <td>1.754892</td>\n",
       "    </tr>\n",
       "    <tr>\n",
       "      <th>Apports du repas</th>\n",
       "      <td>1375.165488</td>\n",
       "      <td>75.000000</td>\n",
       "      <td>90.00000</td>\n",
       "      <td>292.002132</td>\n",
       "      <td>2273.404680</td>\n",
       "      <td>26.868392</td>\n",
       "      <td>829.508897</td>\n",
       "      <td>74.245419</td>\n",
       "      <td>2.052827</td>\n",
       "    </tr>\n",
       "  </tbody>\n",
       "</table>\n",
       "</div>"
      ],
      "text/plain": [
       "                        Quantité (en g)  Protéines (en g)  Lipides (en g)  \\\n",
       "Lait – Beurre                 25.248785          0.214615        20.47929   \n",
       "Base – Haricots blancs      1349.916703         74.785385        69.52071   \n",
       "Apports du repas            1375.165488         75.000000        90.00000   \n",
       "\n",
       "                        Glucides (en g)  Energie (kcal)   Fer (mg)  \\\n",
       "Lait – Beurre                  0.015149      181.033791   0.005050   \n",
       "Base – Haricots blancs       291.986983     2092.370889  26.863342   \n",
       "Apports du repas             292.002132     2273.404680  26.868392   \n",
       "\n",
       "                        Calcium (mg)  Fibres (en g)  Prix (en €)  \n",
       "Lait – Beurre               6.059708       0.000000     0.297936  \n",
       "Base – Haricots blancs    823.449189      74.245419     1.754892  \n",
       "Apports du repas          829.508897      74.245419     2.052827  "
      ]
     },
     "execution_count": 16,
     "metadata": {},
     "output_type": "execute_result"
    }
   ],
   "source": [
    "REPAS=apports(RESULTF)\n",
    "display(REPAS.iloc[-1,0])\n",
    "REPAS"
   ]
  },
  {
   "cell_type": "markdown",
   "metadata": {},
   "source": [
    "c) Présentation des résultats"
   ]
  },
  {
   "cell_type": "code",
   "execution_count": 17,
   "metadata": {},
   "outputs": [
    {
     "name": "stdout",
     "output_type": "stream",
     "text": [
      "Lait – Beurre\n",
      "25.25 g\n",
      "Base – Haricots blancs\n",
      "1349.92 g\n"
     ]
    }
   ],
   "source": [
    "##Présentation naive##\n",
    "u,=A.nonzero()\n",
    "for k in u :\n",
    "    print(Al.index[k])\n",
    "    print('{:0.2f} g'.format(A[k]*100))"
   ]
  },
  {
   "cell_type": "code",
   "execution_count": 18,
   "metadata": {
    "collapsed": true
   },
   "outputs": [],
   "source": [
    "##Cette fonction permet d'enlever le type de chaque aliment\n",
    "def rename_aliment(old_name):\n",
    "    new_name=old_name.replace(\"Lait – \", \"\")\n",
    "    new_name=new_name.replace(\"Viande – \", \"\")\n",
    "    new_name=new_name.replace(\"Poisson – \", \"\")\n",
    "    new_name=new_name.replace(\"Légume – \", \"\")\n",
    "    new_name=new_name.replace(\"Base – \", \"\")\n",
    "    return new_name"
   ]
  },
  {
   "cell_type": "code",
   "execution_count": 19,
   "metadata": {},
   "outputs": [
    {
     "name": "stdout",
     "output_type": "stream",
     "text": [
      "Un repas est constitué de  de 25.25 g de Beurre et de 1349.92 g de Haricots blancs.  Il coûte un total de 2.05 euros.\n"
     ]
    }
   ],
   "source": [
    "Phrase='Un repas est constitué de '\n",
    "for s in range(len(u)-1):\n",
    "    if s>0 : Phrase+=','\n",
    "    gr=A[A.nonzero()][s]*100\n",
    "    old_name=Al.iloc[u].index[s]\n",
    "    name = rename_aliment(old_name)\n",
    "    Phrase+=' de {:0.2f} g de {}'.format(gr,name)\n",
    "s=len(u)-1    \n",
    "gr=A[A.nonzero()][s]*100\n",
    "old_name=Al.iloc[u].index[s]\n",
    "name = rename_aliment(old_name)\n",
    "Phrase+=' et de {:0.2f} g de {}. '.format(gr,name)\n",
    "Phrase+=' Il coûte un total de {:0.2f} euros.'.format(RESULTF.fun)\n",
    "print(Phrase)"
   ]
  },
  {
   "cell_type": "markdown",
   "metadata": {},
   "source": [
    "Mettons cela dans une fonction."
   ]
  },
  {
   "cell_type": "code",
   "execution_count": 20,
   "metadata": {
    "collapsed": true
   },
   "outputs": [],
   "source": [
    "def repas(RESULT):\n",
    "    A=RESULT.x\n",
    "    u,=A.nonzero()\n",
    "    Qt=A[u]\n",
    "    Phrase='Un repas est constitué de '\n",
    "    for s in range(len(u)-1):\n",
    "        if s>0 : Phrase+=','\n",
    "        gr=Qt[s]*100\n",
    "        old_name=Al.iloc[u].index[s]\n",
    "        name = rename_aliment(old_name)\n",
    "        Phrase+=' de {:0.2f} g de {}'.format(gr,name)\n",
    "    s=len(u)-1    \n",
    "    gr=Qt[s]*100\n",
    "    old_name=Al.iloc[u].index[s]\n",
    "    name = rename_aliment(old_name)\n",
    "    Phrase+=' et de {:0.2f} g de {}. '.format(gr,name)\n",
    "    REPAS=apports(RESULT)\n",
    "    Phrase+=' Il coûte un total de {:0.2f} euros et comprend {:0.2f} calories.'.format(RESULT.fun,REPAS['Energie (kcal)'][-1])\n",
    "    return Phrase"
   ]
  },
  {
   "cell_type": "code",
   "execution_count": 21,
   "metadata": {},
   "outputs": [
    {
     "name": "stdout",
     "output_type": "stream",
     "text": [
      "Pour les femmes.\n"
     ]
    },
    {
     "name": "stderr",
     "output_type": "stream",
     "text": [
      "C:\\Users\\karl\\AppData\\Local\\Temp\\ipykernel_16360\\2694851566.py:8: FutureWarning: The frame.append method is deprecated and will be removed from pandas in a future version. Use pandas.concat instead.\n",
      "  REPAS=REPAS.append([REPAS.sum()])\n"
     ]
    },
    {
     "data": {
      "text/plain": [
       "'Un repas est constitué de  de 25.25 g de Beurre et de 1349.92 g de Haricots blancs.  Il coûte un total de 2.05 euros et comprend 2273.40 calories.'"
      ]
     },
     "execution_count": 21,
     "metadata": {},
     "output_type": "execute_result"
    }
   ],
   "source": [
    "# RESULTF=so.linprog(z_ori, A_ub=-coeff, b_ub=-betaF,method='simplex') \n",
    "print('Pour les femmes.')\n",
    "repas(RESULTF)"
   ]
  },
  {
   "cell_type": "code",
   "execution_count": 45,
   "metadata": {},
   "outputs": [],
   "source": [
    "A=np.array(Al).T\n",
    "coeff=A[:-1] ## matrice des coefficients\n",
    "z_ori=A[-1]### coefficients de la fonction de coût (prix)\n",
    "betaF=np.array([75,90,225,2000,9,800,45]) ## second membre pour les femmes\n",
    "# 2000kcal, 75g prot, 225g glu, 90g lip, 9mg fer, 800mg calc, 45g fibre\n",
    "bdns = [(0,None) for k in range(41)]\n",
    "bdns[38] = (0,5)"
   ]
  },
  {
   "cell_type": "code",
   "execution_count": 46,
   "metadata": {},
   "outputs": [
    {
     "name": "stderr",
     "output_type": "stream",
     "text": [
      "C:\\Users\\karl\\AppData\\Local\\Temp\\ipykernel_16360\\2198535615.py:1: DeprecationWarning: `method='simplex'` is deprecated and will be removed in SciPy 1.11.0. Please use one of the HiGHS solvers (e.g. `method='highs'`) in new code.\n",
      "  RESULTF2=so.linprog(z_ori, A_ub=-coeff, b_ub=-betaF,method='simplex', bounds = bdns)\n",
      "C:\\Users\\karl\\AppData\\Local\\Temp\\ipykernel_16360\\2694851566.py:8: FutureWarning: The frame.append method is deprecated and will be removed from pandas in a future version. Use pandas.concat instead.\n",
      "  REPAS=REPAS.append([REPAS.sum()])\n"
     ]
    },
    {
     "data": {
      "text/plain": [
       "'Un repas est constitué de  et de 0.10 g de Gruyère.  Il coûte un total de 0.00 euros et comprend 0.41 calories.'"
      ]
     },
     "execution_count": 46,
     "metadata": {},
     "output_type": "execute_result"
    }
   ],
   "source": [
    "RESULTF2=so.linprog(z_ori, A_ub=-coeff, b_ub=-betaF,method='simplex', bounds = bdns) \n",
    "repas(RESULTF2)"
   ]
  },
  {
   "cell_type": "markdown",
   "metadata": {
    "collapsed": true
   },
   "source": [
    "# Question 2"
   ]
  },
  {
   "cell_type": "code",
   "execution_count": 24,
   "metadata": {},
   "outputs": [
    {
     "name": "stdout",
     "output_type": "stream",
     "text": [
      "Pour les femmes avec des contraintes supplémentaires.\n"
     ]
    },
    {
     "name": "stderr",
     "output_type": "stream",
     "text": [
      "C:\\Users\\karl\\AppData\\Local\\Temp\\ipykernel_16360\\2910164087.py:1: DeprecationWarning: `method='simplex'` is deprecated and will be removed in SciPy 1.11.0. Please use one of the HiGHS solvers (e.g. `method='highs'`) in new code.\n",
      "  RESULTFb=so.linprog(z_ori, A_ub=np.concatenate((-coeff,coeff),axis=0), b_ub=np.concatenate((-betaF,1.1*betaF),axis=0),method='simplex')\n",
      "C:\\Users\\karl\\AppData\\Local\\Temp\\ipykernel_16360\\2694851566.py:8: FutureWarning: The frame.append method is deprecated and will be removed from pandas in a future version. Use pandas.concat instead.\n",
      "  REPAS=REPAS.append([REPAS.sum()])\n"
     ]
    },
    {
     "data": {
      "text/plain": [
       "'Un repas est constitué de  de 119.21 g de Beurre et de 679.81 g de Courge.  Il coûte un total de 3.58 euros et comprend 1235.41 calories.'"
      ]
     },
     "execution_count": 24,
     "metadata": {},
     "output_type": "execute_result"
    }
   ],
   "source": [
    "RESULTFb=so.linprog(z_ori, A_ub=np.concatenate((-coeff,coeff),axis=0), b_ub=np.concatenate((-betaF,1.1*betaF),axis=0),method='simplex') \n",
    "print('Pour les femmes avec des contraintes supplémentaires.')\n",
    "repas(RESULTFb)"
   ]
  },
  {
   "cell_type": "code",
   "execution_count": 25,
   "metadata": {},
   "outputs": [
    {
     "data": {
      "text/plain": [
       "array([   -5. ,   -90. ,  -225. , -2000. ,    -9. ,  -800. ,   -45. ,\n",
       "           7.5,   135. ,   337.5,  3000. ,    13.5,  1200. ,    67.5])"
      ]
     },
     "execution_count": 25,
     "metadata": {},
     "output_type": "execute_result"
    }
   ],
   "source": [
    "np.concatenate((-betaF,1.5*betaF),axis=0)"
   ]
  },
  {
   "cell_type": "markdown",
   "metadata": {},
   "source": [
    "Analyse additionelle en s'approchant au mieux du minimum.\n"
   ]
  },
  {
   "cell_type": "code",
   "execution_count": 26,
   "metadata": {},
   "outputs": [
    {
     "name": "stderr",
     "output_type": "stream",
     "text": [
      "C:\\Users\\karl\\AppData\\Local\\Temp\\ipykernel_16360\\980770844.py:2: DeprecationWarning: `method='simplex'` is deprecated and will be removed in SciPy 1.11.0. Please use one of the HiGHS solvers (e.g. `method='highs'`) in new code.\n",
      "  RESULTFb=so.linprog(z_ori, A_ub=np.concatenate((-coeff,coeff),axis=0), b_ub=np.concatenate((-betaF,k*betaF),axis=0),method='simplex')\n",
      "C:\\Users\\karl\\AppData\\Local\\Temp\\ipykernel_16360\\2694851566.py:8: FutureWarning: The frame.append method is deprecated and will be removed from pandas in a future version. Use pandas.concat instead.\n",
      "  REPAS=REPAS.append([REPAS.sum()])\n",
      "C:\\Users\\karl\\AppData\\Local\\Temp\\ipykernel_16360\\980770844.py:2: DeprecationWarning: `method='simplex'` is deprecated and will be removed in SciPy 1.11.0. Please use one of the HiGHS solvers (e.g. `method='highs'`) in new code.\n",
      "  RESULTFb=so.linprog(z_ori, A_ub=np.concatenate((-coeff,coeff),axis=0), b_ub=np.concatenate((-betaF,k*betaF),axis=0),method='simplex')\n",
      "C:\\Users\\karl\\AppData\\Local\\Temp\\ipykernel_16360\\2694851566.py:8: FutureWarning: The frame.append method is deprecated and will be removed from pandas in a future version. Use pandas.concat instead.\n",
      "  REPAS=REPAS.append([REPAS.sum()])\n",
      "C:\\Users\\karl\\AppData\\Local\\Temp\\ipykernel_16360\\980770844.py:2: DeprecationWarning: `method='simplex'` is deprecated and will be removed in SciPy 1.11.0. Please use one of the HiGHS solvers (e.g. `method='highs'`) in new code.\n",
      "  RESULTFb=so.linprog(z_ori, A_ub=np.concatenate((-coeff,coeff),axis=0), b_ub=np.concatenate((-betaF,k*betaF),axis=0),method='simplex')\n",
      "C:\\Users\\karl\\AppData\\Local\\Temp\\ipykernel_16360\\2694851566.py:8: FutureWarning: The frame.append method is deprecated and will be removed from pandas in a future version. Use pandas.concat instead.\n",
      "  REPAS=REPAS.append([REPAS.sum()])\n",
      "C:\\Users\\karl\\AppData\\Local\\Temp\\ipykernel_16360\\980770844.py:2: DeprecationWarning: `method='simplex'` is deprecated and will be removed in SciPy 1.11.0. Please use one of the HiGHS solvers (e.g. `method='highs'`) in new code.\n",
      "  RESULTFb=so.linprog(z_ori, A_ub=np.concatenate((-coeff,coeff),axis=0), b_ub=np.concatenate((-betaF,k*betaF),axis=0),method='simplex')\n",
      "C:\\Users\\karl\\AppData\\Local\\Temp\\ipykernel_16360\\2694851566.py:8: FutureWarning: The frame.append method is deprecated and will be removed from pandas in a future version. Use pandas.concat instead.\n",
      "  REPAS=REPAS.append([REPAS.sum()])\n",
      "C:\\Users\\karl\\AppData\\Local\\Temp\\ipykernel_16360\\980770844.py:2: DeprecationWarning: `method='simplex'` is deprecated and will be removed in SciPy 1.11.0. Please use one of the HiGHS solvers (e.g. `method='highs'`) in new code.\n",
      "  RESULTFb=so.linprog(z_ori, A_ub=np.concatenate((-coeff,coeff),axis=0), b_ub=np.concatenate((-betaF,k*betaF),axis=0),method='simplex')\n"
     ]
    },
    {
     "name": "stdout",
     "output_type": "stream",
     "text": [
      "\n",
      "Pour les femmes avec des contraintes supplémentaires entre le minimum et 30 fois le minimum.\n",
      "\n",
      "Pour les femmes avec des contraintes supplémentaires entre le minimum et 20 fois le minimum.\n",
      "\n",
      "Pour les femmes avec des contraintes supplémentaires entre le minimum et 10 fois le minimum.\n",
      "\n",
      "Pour les femmes avec des contraintes supplémentaires entre le minimum et 5 fois le minimum.\n",
      "\n",
      "Repas impossible pour 4 fois le minimum\n",
      "\n",
      "Repas impossible pour 3 fois le minimum\n",
      "\n",
      "Repas impossible pour 2 fois le minimum\n",
      "\n",
      "Repas impossible pour 1.5 fois le minimum\n",
      "\n",
      "Repas impossible pour 1.4 fois le minimum\n",
      "\n",
      "Repas impossible pour 1.3 fois le minimum\n",
      "\n",
      "Repas impossible pour 1.2 fois le minimum\n",
      "\n",
      "Repas impossible pour 1.1 fois le minimum\n",
      "\n",
      "Repas impossible pour 1.09 fois le minimum\n",
      "\n",
      "Repas impossible pour 1.08 fois le minimum\n",
      "\n",
      "Repas impossible pour 1.07 fois le minimum\n"
     ]
    }
   ],
   "source": [
    "for k in [30,20,10,5,4,3,2,1.5,1.4,1.3,1.2,1.1,1.09,1.08,1.07]:\n",
    "    RESULTFb=so.linprog(z_ori, A_ub=np.concatenate((-coeff,coeff),axis=0), b_ub=np.concatenate((-betaF,k*betaF),axis=0),method='simplex') \n",
    "    if RESULTFb.success==True:\n",
    "        print('\\nPour les femmes avec des contraintes supplémentaires entre le minimum et {} fois le minimum.'.format(k))\n",
    "        repas(RESULTFb)\n",
    "    else : print('\\nRepas impossible pour {} fois le minimum'.format(k))        "
   ]
  },
  {
   "cell_type": "code",
   "execution_count": 27,
   "metadata": {},
   "outputs": [
    {
     "name": "stdout",
     "output_type": "stream",
     "text": [
      "\n",
      "Repas impossible pour 1.078611 fois le minimum\n",
      "\n",
      "Repas impossible pour 1.0786111 fois le minimum\n",
      "\n",
      "Repas impossible pour 1.0786111999999999 fois le minimum\n",
      "\n",
      "Repas impossible pour 1.0786113 fois le minimum\n",
      "\n",
      "Repas impossible pour 1.0786114 fois le minimum\n",
      "\n",
      "Repas impossible pour 1.0786115 fois le minimum\n",
      "\n",
      "Repas impossible pour 1.0786116 fois le minimum\n",
      "\n",
      "Repas impossible pour 1.0786117 fois le minimum\n",
      "\n",
      "Repas impossible pour 1.0786118 fois le minimum\n",
      "\n",
      "Repas impossible pour 1.0786119 fois le minimum\n"
     ]
    },
    {
     "name": "stderr",
     "output_type": "stream",
     "text": [
      "C:\\Users\\karl\\AppData\\Local\\Temp\\ipykernel_16360\\90071053.py:4: DeprecationWarning: `method='simplex'` is deprecated and will be removed in SciPy 1.11.0. Please use one of the HiGHS solvers (e.g. `method='highs'`) in new code.\n",
      "  RESULTFb=so.linprog(z_ori, A_ub=np.concatenate((-coeff,coeff),axis=0), b_ub=np.concatenate((-betaF,k*betaF),axis=0),method='simplex')\n"
     ]
    }
   ],
   "source": [
    "n=10\n",
    "for ks in range(n):\n",
    "    k=1.078611+0.000001*ks/n\n",
    "    RESULTFb=so.linprog(z_ori, A_ub=np.concatenate((-coeff,coeff),axis=0), b_ub=np.concatenate((-betaF,k*betaF),axis=0),method='simplex') \n",
    "    if RESULTFb.success==True:\n",
    "        print('\\nPour les femmes avec des contraintes supplémentaires entre le minimum et {} fois le minimum.'.format(k))\n",
    "        repas(RESULTFb)\n",
    "    else : print('\\nRepas impossible pour {} fois le minimum'.format(k))    "
   ]
  },
  {
   "cell_type": "code",
   "execution_count": null,
   "metadata": {},
   "outputs": [],
   "source": []
  }
 ],
 "metadata": {
  "kernelspec": {
   "display_name": "Python 3",
   "language": "python",
   "name": "python3"
  },
  "language_info": {
   "codemirror_mode": {
    "name": "ipython",
    "version": 3
   },
   "file_extension": ".py",
   "mimetype": "text/x-python",
   "name": "python",
   "nbconvert_exporter": "python",
   "pygments_lexer": "ipython3",
   "version": "3.11.2"
  },
  "vscode": {
   "interpreter": {
    "hash": "c261aea317cc0286b3b3261fbba9abdec21eaa57589985bb7a274bf54d6cc0a7"
   }
  }
 },
 "nbformat": 4,
 "nbformat_minor": 2
}
